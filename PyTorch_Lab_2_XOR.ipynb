{
  "nbformat": 4,
  "nbformat_minor": 0,
  "metadata": {
    "colab": {
      "name": "PyTorch Lab 2 - XOR.ipynb",
      "provenance": [],
      "collapsed_sections": []
    },
    "kernelspec": {
      "display_name": "Python 3",
      "language": "python",
      "name": "python3"
    },
    "widgets": {
      "application/vnd.jupyter.widget-state+json": {
        "e6e5237fc9e540bcaa42b88fe0b1340c": {
          "model_module": "@jupyter-widgets/controls",
          "model_name": "HBoxModel",
          "model_module_version": "1.5.0",
          "state": {
            "_view_name": "HBoxView",
            "_dom_classes": [],
            "_model_name": "HBoxModel",
            "_view_module": "@jupyter-widgets/controls",
            "_model_module_version": "1.5.0",
            "_view_count": null,
            "_view_module_version": "1.5.0",
            "box_style": "",
            "layout": "IPY_MODEL_551688d1c0cd4c04b49ab532a24aa65b",
            "_model_module": "@jupyter-widgets/controls",
            "children": [
              "IPY_MODEL_ad4ab5beba814c22ad8ba5e2b491f01e",
              "IPY_MODEL_e27a16c8c45348a3a748d80411749350",
              "IPY_MODEL_b8e11936268f4a8889cbbeb5fd4d72a0"
            ]
          }
        },
        "551688d1c0cd4c04b49ab532a24aa65b": {
          "model_module": "@jupyter-widgets/base",
          "model_name": "LayoutModel",
          "model_module_version": "1.2.0",
          "state": {
            "_view_name": "LayoutView",
            "grid_template_rows": null,
            "right": null,
            "justify_content": null,
            "_view_module": "@jupyter-widgets/base",
            "overflow": null,
            "_model_module_version": "1.2.0",
            "_view_count": null,
            "flex_flow": null,
            "width": null,
            "min_width": null,
            "border": null,
            "align_items": null,
            "bottom": null,
            "_model_module": "@jupyter-widgets/base",
            "top": null,
            "grid_column": null,
            "overflow_y": null,
            "overflow_x": null,
            "grid_auto_flow": null,
            "grid_area": null,
            "grid_template_columns": null,
            "flex": null,
            "_model_name": "LayoutModel",
            "justify_items": null,
            "grid_row": null,
            "max_height": null,
            "align_content": null,
            "visibility": null,
            "align_self": null,
            "height": null,
            "min_height": null,
            "padding": null,
            "grid_auto_rows": null,
            "grid_gap": null,
            "max_width": null,
            "order": null,
            "_view_module_version": "1.2.0",
            "grid_template_areas": null,
            "object_position": null,
            "object_fit": null,
            "grid_auto_columns": null,
            "margin": null,
            "display": null,
            "left": null
          }
        },
        "ad4ab5beba814c22ad8ba5e2b491f01e": {
          "model_module": "@jupyter-widgets/controls",
          "model_name": "HTMLModel",
          "model_module_version": "1.5.0",
          "state": {
            "_view_name": "HTMLView",
            "style": "IPY_MODEL_eb42f08b7e1643688d70e3541ae62fc9",
            "_dom_classes": [],
            "description": "",
            "_model_name": "HTMLModel",
            "placeholder": "​",
            "_view_module": "@jupyter-widgets/controls",
            "_model_module_version": "1.5.0",
            "value": "100%",
            "_view_count": null,
            "_view_module_version": "1.5.0",
            "description_tooltip": null,
            "_model_module": "@jupyter-widgets/controls",
            "layout": "IPY_MODEL_9e9d3b204ea346ee829895740ffe378c"
          }
        },
        "e27a16c8c45348a3a748d80411749350": {
          "model_module": "@jupyter-widgets/controls",
          "model_name": "FloatProgressModel",
          "model_module_version": "1.5.0",
          "state": {
            "_view_name": "ProgressView",
            "style": "IPY_MODEL_d7a09b250f8440d2a097c31198431ec1",
            "_dom_classes": [],
            "description": "",
            "_model_name": "FloatProgressModel",
            "bar_style": "success",
            "max": 40,
            "_view_module": "@jupyter-widgets/controls",
            "_model_module_version": "1.5.0",
            "value": 40,
            "_view_count": null,
            "_view_module_version": "1.5.0",
            "orientation": "horizontal",
            "min": 0,
            "description_tooltip": null,
            "_model_module": "@jupyter-widgets/controls",
            "layout": "IPY_MODEL_542e8256559d49a983b7574ea326abea"
          }
        },
        "b8e11936268f4a8889cbbeb5fd4d72a0": {
          "model_module": "@jupyter-widgets/controls",
          "model_name": "HTMLModel",
          "model_module_version": "1.5.0",
          "state": {
            "_view_name": "HTMLView",
            "style": "IPY_MODEL_f6b1bf78f8b34788924e86b83a8c4eff",
            "_dom_classes": [],
            "description": "",
            "_model_name": "HTMLModel",
            "placeholder": "​",
            "_view_module": "@jupyter-widgets/controls",
            "_model_module_version": "1.5.0",
            "value": " 40/40 [00:12&lt;00:00,  3.31it/s]",
            "_view_count": null,
            "_view_module_version": "1.5.0",
            "description_tooltip": null,
            "_model_module": "@jupyter-widgets/controls",
            "layout": "IPY_MODEL_079ba469cd0845e5b34f7620da4b3bb2"
          }
        },
        "eb42f08b7e1643688d70e3541ae62fc9": {
          "model_module": "@jupyter-widgets/controls",
          "model_name": "DescriptionStyleModel",
          "model_module_version": "1.5.0",
          "state": {
            "_view_name": "StyleView",
            "_model_name": "DescriptionStyleModel",
            "description_width": "",
            "_view_module": "@jupyter-widgets/base",
            "_model_module_version": "1.5.0",
            "_view_count": null,
            "_view_module_version": "1.2.0",
            "_model_module": "@jupyter-widgets/controls"
          }
        },
        "9e9d3b204ea346ee829895740ffe378c": {
          "model_module": "@jupyter-widgets/base",
          "model_name": "LayoutModel",
          "model_module_version": "1.2.0",
          "state": {
            "_view_name": "LayoutView",
            "grid_template_rows": null,
            "right": null,
            "justify_content": null,
            "_view_module": "@jupyter-widgets/base",
            "overflow": null,
            "_model_module_version": "1.2.0",
            "_view_count": null,
            "flex_flow": null,
            "width": null,
            "min_width": null,
            "border": null,
            "align_items": null,
            "bottom": null,
            "_model_module": "@jupyter-widgets/base",
            "top": null,
            "grid_column": null,
            "overflow_y": null,
            "overflow_x": null,
            "grid_auto_flow": null,
            "grid_area": null,
            "grid_template_columns": null,
            "flex": null,
            "_model_name": "LayoutModel",
            "justify_items": null,
            "grid_row": null,
            "max_height": null,
            "align_content": null,
            "visibility": null,
            "align_self": null,
            "height": null,
            "min_height": null,
            "padding": null,
            "grid_auto_rows": null,
            "grid_gap": null,
            "max_width": null,
            "order": null,
            "_view_module_version": "1.2.0",
            "grid_template_areas": null,
            "object_position": null,
            "object_fit": null,
            "grid_auto_columns": null,
            "margin": null,
            "display": null,
            "left": null
          }
        },
        "d7a09b250f8440d2a097c31198431ec1": {
          "model_module": "@jupyter-widgets/controls",
          "model_name": "ProgressStyleModel",
          "model_module_version": "1.5.0",
          "state": {
            "_view_name": "StyleView",
            "_model_name": "ProgressStyleModel",
            "description_width": "",
            "_view_module": "@jupyter-widgets/base",
            "_model_module_version": "1.5.0",
            "_view_count": null,
            "_view_module_version": "1.2.0",
            "bar_color": null,
            "_model_module": "@jupyter-widgets/controls"
          }
        },
        "542e8256559d49a983b7574ea326abea": {
          "model_module": "@jupyter-widgets/base",
          "model_name": "LayoutModel",
          "model_module_version": "1.2.0",
          "state": {
            "_view_name": "LayoutView",
            "grid_template_rows": null,
            "right": null,
            "justify_content": null,
            "_view_module": "@jupyter-widgets/base",
            "overflow": null,
            "_model_module_version": "1.2.0",
            "_view_count": null,
            "flex_flow": null,
            "width": null,
            "min_width": null,
            "border": null,
            "align_items": null,
            "bottom": null,
            "_model_module": "@jupyter-widgets/base",
            "top": null,
            "grid_column": null,
            "overflow_y": null,
            "overflow_x": null,
            "grid_auto_flow": null,
            "grid_area": null,
            "grid_template_columns": null,
            "flex": null,
            "_model_name": "LayoutModel",
            "justify_items": null,
            "grid_row": null,
            "max_height": null,
            "align_content": null,
            "visibility": null,
            "align_self": null,
            "height": null,
            "min_height": null,
            "padding": null,
            "grid_auto_rows": null,
            "grid_gap": null,
            "max_width": null,
            "order": null,
            "_view_module_version": "1.2.0",
            "grid_template_areas": null,
            "object_position": null,
            "object_fit": null,
            "grid_auto_columns": null,
            "margin": null,
            "display": null,
            "left": null
          }
        },
        "f6b1bf78f8b34788924e86b83a8c4eff": {
          "model_module": "@jupyter-widgets/controls",
          "model_name": "DescriptionStyleModel",
          "model_module_version": "1.5.0",
          "state": {
            "_view_name": "StyleView",
            "_model_name": "DescriptionStyleModel",
            "description_width": "",
            "_view_module": "@jupyter-widgets/base",
            "_model_module_version": "1.5.0",
            "_view_count": null,
            "_view_module_version": "1.2.0",
            "_model_module": "@jupyter-widgets/controls"
          }
        },
        "079ba469cd0845e5b34f7620da4b3bb2": {
          "model_module": "@jupyter-widgets/base",
          "model_name": "LayoutModel",
          "model_module_version": "1.2.0",
          "state": {
            "_view_name": "LayoutView",
            "grid_template_rows": null,
            "right": null,
            "justify_content": null,
            "_view_module": "@jupyter-widgets/base",
            "overflow": null,
            "_model_module_version": "1.2.0",
            "_view_count": null,
            "flex_flow": null,
            "width": null,
            "min_width": null,
            "border": null,
            "align_items": null,
            "bottom": null,
            "_model_module": "@jupyter-widgets/base",
            "top": null,
            "grid_column": null,
            "overflow_y": null,
            "overflow_x": null,
            "grid_auto_flow": null,
            "grid_area": null,
            "grid_template_columns": null,
            "flex": null,
            "_model_name": "LayoutModel",
            "justify_items": null,
            "grid_row": null,
            "max_height": null,
            "align_content": null,
            "visibility": null,
            "align_self": null,
            "height": null,
            "min_height": null,
            "padding": null,
            "grid_auto_rows": null,
            "grid_gap": null,
            "max_width": null,
            "order": null,
            "_view_module_version": "1.2.0",
            "grid_template_areas": null,
            "object_position": null,
            "object_fit": null,
            "grid_auto_columns": null,
            "margin": null,
            "display": null,
            "left": null
          }
        },
        "d822e5e830d1417ca8bb8b7b7742f06a": {
          "model_module": "@jupyter-widgets/controls",
          "model_name": "HBoxModel",
          "model_module_version": "1.5.0",
          "state": {
            "_view_name": "HBoxView",
            "_dom_classes": [],
            "_model_name": "HBoxModel",
            "_view_module": "@jupyter-widgets/controls",
            "_model_module_version": "1.5.0",
            "_view_count": null,
            "_view_module_version": "1.5.0",
            "box_style": "",
            "layout": "IPY_MODEL_399ed6ebdd5646f8b95c957493ebc008",
            "_model_module": "@jupyter-widgets/controls",
            "children": [
              "IPY_MODEL_659ca4a6140a44adac701b26afd817d6",
              "IPY_MODEL_fea37220375849bfb01617212c18bf0b",
              "IPY_MODEL_734190854b3a4c0baa417fd4728581b6"
            ]
          }
        },
        "399ed6ebdd5646f8b95c957493ebc008": {
          "model_module": "@jupyter-widgets/base",
          "model_name": "LayoutModel",
          "model_module_version": "1.2.0",
          "state": {
            "_view_name": "LayoutView",
            "grid_template_rows": null,
            "right": null,
            "justify_content": null,
            "_view_module": "@jupyter-widgets/base",
            "overflow": null,
            "_model_module_version": "1.2.0",
            "_view_count": null,
            "flex_flow": null,
            "width": null,
            "min_width": null,
            "border": null,
            "align_items": null,
            "bottom": null,
            "_model_module": "@jupyter-widgets/base",
            "top": null,
            "grid_column": null,
            "overflow_y": null,
            "overflow_x": null,
            "grid_auto_flow": null,
            "grid_area": null,
            "grid_template_columns": null,
            "flex": null,
            "_model_name": "LayoutModel",
            "justify_items": null,
            "grid_row": null,
            "max_height": null,
            "align_content": null,
            "visibility": null,
            "align_self": null,
            "height": null,
            "min_height": null,
            "padding": null,
            "grid_auto_rows": null,
            "grid_gap": null,
            "max_width": null,
            "order": null,
            "_view_module_version": "1.2.0",
            "grid_template_areas": null,
            "object_position": null,
            "object_fit": null,
            "grid_auto_columns": null,
            "margin": null,
            "display": null,
            "left": null
          }
        },
        "659ca4a6140a44adac701b26afd817d6": {
          "model_module": "@jupyter-widgets/controls",
          "model_name": "HTMLModel",
          "model_module_version": "1.5.0",
          "state": {
            "_view_name": "HTMLView",
            "style": "IPY_MODEL_eb8e448c51344c6a9313a2c2952bb240",
            "_dom_classes": [],
            "description": "",
            "_model_name": "HTMLModel",
            "placeholder": "​",
            "_view_module": "@jupyter-widgets/controls",
            "_model_module_version": "1.5.0",
            "value": "100%",
            "_view_count": null,
            "_view_module_version": "1.5.0",
            "description_tooltip": null,
            "_model_module": "@jupyter-widgets/controls",
            "layout": "IPY_MODEL_96c15d0c439c45d2a371f5a9bd186951"
          }
        },
        "fea37220375849bfb01617212c18bf0b": {
          "model_module": "@jupyter-widgets/controls",
          "model_name": "FloatProgressModel",
          "model_module_version": "1.5.0",
          "state": {
            "_view_name": "ProgressView",
            "style": "IPY_MODEL_51cf3ba12ece420b8c6bf7af60916d7b",
            "_dom_classes": [],
            "description": "",
            "_model_name": "FloatProgressModel",
            "bar_style": "success",
            "max": 40,
            "_view_module": "@jupyter-widgets/controls",
            "_model_module_version": "1.5.0",
            "value": 40,
            "_view_count": null,
            "_view_module_version": "1.5.0",
            "orientation": "horizontal",
            "min": 0,
            "description_tooltip": null,
            "_model_module": "@jupyter-widgets/controls",
            "layout": "IPY_MODEL_666ffdf3e4c34789960fcd631ccf3d76"
          }
        },
        "734190854b3a4c0baa417fd4728581b6": {
          "model_module": "@jupyter-widgets/controls",
          "model_name": "HTMLModel",
          "model_module_version": "1.5.0",
          "state": {
            "_view_name": "HTMLView",
            "style": "IPY_MODEL_db850766a37940459231cda749a35880",
            "_dom_classes": [],
            "description": "",
            "_model_name": "HTMLModel",
            "placeholder": "​",
            "_view_module": "@jupyter-widgets/controls",
            "_model_module_version": "1.5.0",
            "value": " 40/40 [00:13&lt;00:00,  3.02it/s]",
            "_view_count": null,
            "_view_module_version": "1.5.0",
            "description_tooltip": null,
            "_model_module": "@jupyter-widgets/controls",
            "layout": "IPY_MODEL_98d3f9e37260440b9ffdc5ee8a2db0de"
          }
        },
        "eb8e448c51344c6a9313a2c2952bb240": {
          "model_module": "@jupyter-widgets/controls",
          "model_name": "DescriptionStyleModel",
          "model_module_version": "1.5.0",
          "state": {
            "_view_name": "StyleView",
            "_model_name": "DescriptionStyleModel",
            "description_width": "",
            "_view_module": "@jupyter-widgets/base",
            "_model_module_version": "1.5.0",
            "_view_count": null,
            "_view_module_version": "1.2.0",
            "_model_module": "@jupyter-widgets/controls"
          }
        },
        "96c15d0c439c45d2a371f5a9bd186951": {
          "model_module": "@jupyter-widgets/base",
          "model_name": "LayoutModel",
          "model_module_version": "1.2.0",
          "state": {
            "_view_name": "LayoutView",
            "grid_template_rows": null,
            "right": null,
            "justify_content": null,
            "_view_module": "@jupyter-widgets/base",
            "overflow": null,
            "_model_module_version": "1.2.0",
            "_view_count": null,
            "flex_flow": null,
            "width": null,
            "min_width": null,
            "border": null,
            "align_items": null,
            "bottom": null,
            "_model_module": "@jupyter-widgets/base",
            "top": null,
            "grid_column": null,
            "overflow_y": null,
            "overflow_x": null,
            "grid_auto_flow": null,
            "grid_area": null,
            "grid_template_columns": null,
            "flex": null,
            "_model_name": "LayoutModel",
            "justify_items": null,
            "grid_row": null,
            "max_height": null,
            "align_content": null,
            "visibility": null,
            "align_self": null,
            "height": null,
            "min_height": null,
            "padding": null,
            "grid_auto_rows": null,
            "grid_gap": null,
            "max_width": null,
            "order": null,
            "_view_module_version": "1.2.0",
            "grid_template_areas": null,
            "object_position": null,
            "object_fit": null,
            "grid_auto_columns": null,
            "margin": null,
            "display": null,
            "left": null
          }
        },
        "51cf3ba12ece420b8c6bf7af60916d7b": {
          "model_module": "@jupyter-widgets/controls",
          "model_name": "ProgressStyleModel",
          "model_module_version": "1.5.0",
          "state": {
            "_view_name": "StyleView",
            "_model_name": "ProgressStyleModel",
            "description_width": "",
            "_view_module": "@jupyter-widgets/base",
            "_model_module_version": "1.5.0",
            "_view_count": null,
            "_view_module_version": "1.2.0",
            "bar_color": null,
            "_model_module": "@jupyter-widgets/controls"
          }
        },
        "666ffdf3e4c34789960fcd631ccf3d76": {
          "model_module": "@jupyter-widgets/base",
          "model_name": "LayoutModel",
          "model_module_version": "1.2.0",
          "state": {
            "_view_name": "LayoutView",
            "grid_template_rows": null,
            "right": null,
            "justify_content": null,
            "_view_module": "@jupyter-widgets/base",
            "overflow": null,
            "_model_module_version": "1.2.0",
            "_view_count": null,
            "flex_flow": null,
            "width": null,
            "min_width": null,
            "border": null,
            "align_items": null,
            "bottom": null,
            "_model_module": "@jupyter-widgets/base",
            "top": null,
            "grid_column": null,
            "overflow_y": null,
            "overflow_x": null,
            "grid_auto_flow": null,
            "grid_area": null,
            "grid_template_columns": null,
            "flex": null,
            "_model_name": "LayoutModel",
            "justify_items": null,
            "grid_row": null,
            "max_height": null,
            "align_content": null,
            "visibility": null,
            "align_self": null,
            "height": null,
            "min_height": null,
            "padding": null,
            "grid_auto_rows": null,
            "grid_gap": null,
            "max_width": null,
            "order": null,
            "_view_module_version": "1.2.0",
            "grid_template_areas": null,
            "object_position": null,
            "object_fit": null,
            "grid_auto_columns": null,
            "margin": null,
            "display": null,
            "left": null
          }
        },
        "db850766a37940459231cda749a35880": {
          "model_module": "@jupyter-widgets/controls",
          "model_name": "DescriptionStyleModel",
          "model_module_version": "1.5.0",
          "state": {
            "_view_name": "StyleView",
            "_model_name": "DescriptionStyleModel",
            "description_width": "",
            "_view_module": "@jupyter-widgets/base",
            "_model_module_version": "1.5.0",
            "_view_count": null,
            "_view_module_version": "1.2.0",
            "_model_module": "@jupyter-widgets/controls"
          }
        },
        "98d3f9e37260440b9ffdc5ee8a2db0de": {
          "model_module": "@jupyter-widgets/base",
          "model_name": "LayoutModel",
          "model_module_version": "1.2.0",
          "state": {
            "_view_name": "LayoutView",
            "grid_template_rows": null,
            "right": null,
            "justify_content": null,
            "_view_module": "@jupyter-widgets/base",
            "overflow": null,
            "_model_module_version": "1.2.0",
            "_view_count": null,
            "flex_flow": null,
            "width": null,
            "min_width": null,
            "border": null,
            "align_items": null,
            "bottom": null,
            "_model_module": "@jupyter-widgets/base",
            "top": null,
            "grid_column": null,
            "overflow_y": null,
            "overflow_x": null,
            "grid_auto_flow": null,
            "grid_area": null,
            "grid_template_columns": null,
            "flex": null,
            "_model_name": "LayoutModel",
            "justify_items": null,
            "grid_row": null,
            "max_height": null,
            "align_content": null,
            "visibility": null,
            "align_self": null,
            "height": null,
            "min_height": null,
            "padding": null,
            "grid_auto_rows": null,
            "grid_gap": null,
            "max_width": null,
            "order": null,
            "_view_module_version": "1.2.0",
            "grid_template_areas": null,
            "object_position": null,
            "object_fit": null,
            "grid_auto_columns": null,
            "margin": null,
            "display": null,
            "left": null
          }
        },
        "2cc3642784d4410f9888d1c1feaf7f80": {
          "model_module": "@jupyter-widgets/controls",
          "model_name": "HBoxModel",
          "model_module_version": "1.5.0",
          "state": {
            "_view_name": "HBoxView",
            "_dom_classes": [],
            "_model_name": "HBoxModel",
            "_view_module": "@jupyter-widgets/controls",
            "_model_module_version": "1.5.0",
            "_view_count": null,
            "_view_module_version": "1.5.0",
            "box_style": "",
            "layout": "IPY_MODEL_93c2e3ca4fb4424f899c586d54bdc9ac",
            "_model_module": "@jupyter-widgets/controls",
            "children": [
              "IPY_MODEL_75775e21c8f74029a3d3d448fa04fe28",
              "IPY_MODEL_8d02ac1bfc754520ac6c7f8330e19f1b",
              "IPY_MODEL_9d8e5320a2ba422083f522bade5776a0"
            ]
          }
        },
        "93c2e3ca4fb4424f899c586d54bdc9ac": {
          "model_module": "@jupyter-widgets/base",
          "model_name": "LayoutModel",
          "model_module_version": "1.2.0",
          "state": {
            "_view_name": "LayoutView",
            "grid_template_rows": null,
            "right": null,
            "justify_content": null,
            "_view_module": "@jupyter-widgets/base",
            "overflow": null,
            "_model_module_version": "1.2.0",
            "_view_count": null,
            "flex_flow": null,
            "width": null,
            "min_width": null,
            "border": null,
            "align_items": null,
            "bottom": null,
            "_model_module": "@jupyter-widgets/base",
            "top": null,
            "grid_column": null,
            "overflow_y": null,
            "overflow_x": null,
            "grid_auto_flow": null,
            "grid_area": null,
            "grid_template_columns": null,
            "flex": null,
            "_model_name": "LayoutModel",
            "justify_items": null,
            "grid_row": null,
            "max_height": null,
            "align_content": null,
            "visibility": null,
            "align_self": null,
            "height": null,
            "min_height": null,
            "padding": null,
            "grid_auto_rows": null,
            "grid_gap": null,
            "max_width": null,
            "order": null,
            "_view_module_version": "1.2.0",
            "grid_template_areas": null,
            "object_position": null,
            "object_fit": null,
            "grid_auto_columns": null,
            "margin": null,
            "display": null,
            "left": null
          }
        },
        "75775e21c8f74029a3d3d448fa04fe28": {
          "model_module": "@jupyter-widgets/controls",
          "model_name": "HTMLModel",
          "model_module_version": "1.5.0",
          "state": {
            "_view_name": "HTMLView",
            "style": "IPY_MODEL_5fb1169c5a57426a811205885a1ae33a",
            "_dom_classes": [],
            "description": "",
            "_model_name": "HTMLModel",
            "placeholder": "​",
            "_view_module": "@jupyter-widgets/controls",
            "_model_module_version": "1.5.0",
            "value": "100%",
            "_view_count": null,
            "_view_module_version": "1.5.0",
            "description_tooltip": null,
            "_model_module": "@jupyter-widgets/controls",
            "layout": "IPY_MODEL_6ca932bc040c478aae9b928ce66ad4b6"
          }
        },
        "8d02ac1bfc754520ac6c7f8330e19f1b": {
          "model_module": "@jupyter-widgets/controls",
          "model_name": "FloatProgressModel",
          "model_module_version": "1.5.0",
          "state": {
            "_view_name": "ProgressView",
            "style": "IPY_MODEL_9cafa1e1093c4db9b0b059664f85e9ed",
            "_dom_classes": [],
            "description": "",
            "_model_name": "FloatProgressModel",
            "bar_style": "success",
            "max": 40,
            "_view_module": "@jupyter-widgets/controls",
            "_model_module_version": "1.5.0",
            "value": 40,
            "_view_count": null,
            "_view_module_version": "1.5.0",
            "orientation": "horizontal",
            "min": 0,
            "description_tooltip": null,
            "_model_module": "@jupyter-widgets/controls",
            "layout": "IPY_MODEL_3e60098c25b24660a5601a4a86bea27f"
          }
        },
        "9d8e5320a2ba422083f522bade5776a0": {
          "model_module": "@jupyter-widgets/controls",
          "model_name": "HTMLModel",
          "model_module_version": "1.5.0",
          "state": {
            "_view_name": "HTMLView",
            "style": "IPY_MODEL_474a2505c2bb47d8a02c7f65511b6c80",
            "_dom_classes": [],
            "description": "",
            "_model_name": "HTMLModel",
            "placeholder": "​",
            "_view_module": "@jupyter-widgets/controls",
            "_model_module_version": "1.5.0",
            "value": " 40/40 [00:13&lt;00:00,  2.81it/s]",
            "_view_count": null,
            "_view_module_version": "1.5.0",
            "description_tooltip": null,
            "_model_module": "@jupyter-widgets/controls",
            "layout": "IPY_MODEL_ee227b5a736644aa94cb368992efb086"
          }
        },
        "5fb1169c5a57426a811205885a1ae33a": {
          "model_module": "@jupyter-widgets/controls",
          "model_name": "DescriptionStyleModel",
          "model_module_version": "1.5.0",
          "state": {
            "_view_name": "StyleView",
            "_model_name": "DescriptionStyleModel",
            "description_width": "",
            "_view_module": "@jupyter-widgets/base",
            "_model_module_version": "1.5.0",
            "_view_count": null,
            "_view_module_version": "1.2.0",
            "_model_module": "@jupyter-widgets/controls"
          }
        },
        "6ca932bc040c478aae9b928ce66ad4b6": {
          "model_module": "@jupyter-widgets/base",
          "model_name": "LayoutModel",
          "model_module_version": "1.2.0",
          "state": {
            "_view_name": "LayoutView",
            "grid_template_rows": null,
            "right": null,
            "justify_content": null,
            "_view_module": "@jupyter-widgets/base",
            "overflow": null,
            "_model_module_version": "1.2.0",
            "_view_count": null,
            "flex_flow": null,
            "width": null,
            "min_width": null,
            "border": null,
            "align_items": null,
            "bottom": null,
            "_model_module": "@jupyter-widgets/base",
            "top": null,
            "grid_column": null,
            "overflow_y": null,
            "overflow_x": null,
            "grid_auto_flow": null,
            "grid_area": null,
            "grid_template_columns": null,
            "flex": null,
            "_model_name": "LayoutModel",
            "justify_items": null,
            "grid_row": null,
            "max_height": null,
            "align_content": null,
            "visibility": null,
            "align_self": null,
            "height": null,
            "min_height": null,
            "padding": null,
            "grid_auto_rows": null,
            "grid_gap": null,
            "max_width": null,
            "order": null,
            "_view_module_version": "1.2.0",
            "grid_template_areas": null,
            "object_position": null,
            "object_fit": null,
            "grid_auto_columns": null,
            "margin": null,
            "display": null,
            "left": null
          }
        },
        "9cafa1e1093c4db9b0b059664f85e9ed": {
          "model_module": "@jupyter-widgets/controls",
          "model_name": "ProgressStyleModel",
          "model_module_version": "1.5.0",
          "state": {
            "_view_name": "StyleView",
            "_model_name": "ProgressStyleModel",
            "description_width": "",
            "_view_module": "@jupyter-widgets/base",
            "_model_module_version": "1.5.0",
            "_view_count": null,
            "_view_module_version": "1.2.0",
            "bar_color": null,
            "_model_module": "@jupyter-widgets/controls"
          }
        },
        "3e60098c25b24660a5601a4a86bea27f": {
          "model_module": "@jupyter-widgets/base",
          "model_name": "LayoutModel",
          "model_module_version": "1.2.0",
          "state": {
            "_view_name": "LayoutView",
            "grid_template_rows": null,
            "right": null,
            "justify_content": null,
            "_view_module": "@jupyter-widgets/base",
            "overflow": null,
            "_model_module_version": "1.2.0",
            "_view_count": null,
            "flex_flow": null,
            "width": null,
            "min_width": null,
            "border": null,
            "align_items": null,
            "bottom": null,
            "_model_module": "@jupyter-widgets/base",
            "top": null,
            "grid_column": null,
            "overflow_y": null,
            "overflow_x": null,
            "grid_auto_flow": null,
            "grid_area": null,
            "grid_template_columns": null,
            "flex": null,
            "_model_name": "LayoutModel",
            "justify_items": null,
            "grid_row": null,
            "max_height": null,
            "align_content": null,
            "visibility": null,
            "align_self": null,
            "height": null,
            "min_height": null,
            "padding": null,
            "grid_auto_rows": null,
            "grid_gap": null,
            "max_width": null,
            "order": null,
            "_view_module_version": "1.2.0",
            "grid_template_areas": null,
            "object_position": null,
            "object_fit": null,
            "grid_auto_columns": null,
            "margin": null,
            "display": null,
            "left": null
          }
        },
        "474a2505c2bb47d8a02c7f65511b6c80": {
          "model_module": "@jupyter-widgets/controls",
          "model_name": "DescriptionStyleModel",
          "model_module_version": "1.5.0",
          "state": {
            "_view_name": "StyleView",
            "_model_name": "DescriptionStyleModel",
            "description_width": "",
            "_view_module": "@jupyter-widgets/base",
            "_model_module_version": "1.5.0",
            "_view_count": null,
            "_view_module_version": "1.2.0",
            "_model_module": "@jupyter-widgets/controls"
          }
        },
        "ee227b5a736644aa94cb368992efb086": {
          "model_module": "@jupyter-widgets/base",
          "model_name": "LayoutModel",
          "model_module_version": "1.2.0",
          "state": {
            "_view_name": "LayoutView",
            "grid_template_rows": null,
            "right": null,
            "justify_content": null,
            "_view_module": "@jupyter-widgets/base",
            "overflow": null,
            "_model_module_version": "1.2.0",
            "_view_count": null,
            "flex_flow": null,
            "width": null,
            "min_width": null,
            "border": null,
            "align_items": null,
            "bottom": null,
            "_model_module": "@jupyter-widgets/base",
            "top": null,
            "grid_column": null,
            "overflow_y": null,
            "overflow_x": null,
            "grid_auto_flow": null,
            "grid_area": null,
            "grid_template_columns": null,
            "flex": null,
            "_model_name": "LayoutModel",
            "justify_items": null,
            "grid_row": null,
            "max_height": null,
            "align_content": null,
            "visibility": null,
            "align_self": null,
            "height": null,
            "min_height": null,
            "padding": null,
            "grid_auto_rows": null,
            "grid_gap": null,
            "max_width": null,
            "order": null,
            "_view_module_version": "1.2.0",
            "grid_template_areas": null,
            "object_position": null,
            "object_fit": null,
            "grid_auto_columns": null,
            "margin": null,
            "display": null,
            "left": null
          }
        },
        "4533b8a6115149eb87fe2bd6881d6954": {
          "model_module": "@jupyter-widgets/controls",
          "model_name": "HBoxModel",
          "model_module_version": "1.5.0",
          "state": {
            "_view_name": "HBoxView",
            "_dom_classes": [],
            "_model_name": "HBoxModel",
            "_view_module": "@jupyter-widgets/controls",
            "_model_module_version": "1.5.0",
            "_view_count": null,
            "_view_module_version": "1.5.0",
            "box_style": "",
            "layout": "IPY_MODEL_a7a499c3f62b4bbfaad875d680b2199c",
            "_model_module": "@jupyter-widgets/controls",
            "children": [
              "IPY_MODEL_ffc1b3e7bba24256ab115904caf59f50",
              "IPY_MODEL_b508543ce92e4c4a98d255c33dc9736a"
            ]
          }
        },
        "a7a499c3f62b4bbfaad875d680b2199c": {
          "model_module": "@jupyter-widgets/base",
          "model_name": "LayoutModel",
          "model_module_version": "1.2.0",
          "state": {
            "_view_name": "LayoutView",
            "grid_template_rows": null,
            "right": null,
            "justify_content": null,
            "_view_module": "@jupyter-widgets/base",
            "overflow": null,
            "_model_module_version": "1.2.0",
            "_view_count": null,
            "flex_flow": null,
            "width": null,
            "min_width": null,
            "border": null,
            "align_items": null,
            "bottom": null,
            "_model_module": "@jupyter-widgets/base",
            "top": null,
            "grid_column": null,
            "overflow_y": null,
            "overflow_x": null,
            "grid_auto_flow": null,
            "grid_area": null,
            "grid_template_columns": null,
            "flex": null,
            "_model_name": "LayoutModel",
            "justify_items": null,
            "grid_row": null,
            "max_height": null,
            "align_content": null,
            "visibility": null,
            "align_self": null,
            "height": null,
            "min_height": null,
            "padding": null,
            "grid_auto_rows": null,
            "grid_gap": null,
            "max_width": null,
            "order": null,
            "_view_module_version": "1.2.0",
            "grid_template_areas": null,
            "object_position": null,
            "object_fit": null,
            "grid_auto_columns": null,
            "margin": null,
            "display": null,
            "left": null
          }
        },
        "ffc1b3e7bba24256ab115904caf59f50": {
          "model_module": "@jupyter-widgets/controls",
          "model_name": "FloatProgressModel",
          "model_module_version": "1.5.0",
          "state": {
            "_view_name": "ProgressView",
            "style": "IPY_MODEL_87c89cdcb32a4a2c900f60a55c1e237c",
            "_dom_classes": [],
            "description": "100%",
            "_model_name": "FloatProgressModel",
            "bar_style": "success",
            "max": 40,
            "_view_module": "@jupyter-widgets/controls",
            "_model_module_version": "1.5.0",
            "value": 40,
            "_view_count": null,
            "_view_module_version": "1.5.0",
            "orientation": "horizontal",
            "min": 0,
            "description_tooltip": null,
            "_model_module": "@jupyter-widgets/controls",
            "layout": "IPY_MODEL_f62f13dd4af34c8587d4ab8b60894b04"
          }
        },
        "b508543ce92e4c4a98d255c33dc9736a": {
          "model_module": "@jupyter-widgets/controls",
          "model_name": "HTMLModel",
          "model_module_version": "1.5.0",
          "state": {
            "_view_name": "HTMLView",
            "style": "IPY_MODEL_aa5a8d7885bc49d0a00b60c7f95e850e",
            "_dom_classes": [],
            "description": "",
            "_model_name": "HTMLModel",
            "placeholder": "​",
            "_view_module": "@jupyter-widgets/controls",
            "_model_module_version": "1.5.0",
            "value": " 40/40 [00:17&lt;00:00,  2.35it/s]",
            "_view_count": null,
            "_view_module_version": "1.5.0",
            "description_tooltip": null,
            "_model_module": "@jupyter-widgets/controls",
            "layout": "IPY_MODEL_c660bdd305ab45fdbfddb23de6869613"
          }
        },
        "87c89cdcb32a4a2c900f60a55c1e237c": {
          "model_module": "@jupyter-widgets/controls",
          "model_name": "ProgressStyleModel",
          "model_module_version": "1.5.0",
          "state": {
            "_view_name": "StyleView",
            "_model_name": "ProgressStyleModel",
            "description_width": "initial",
            "_view_module": "@jupyter-widgets/base",
            "_model_module_version": "1.5.0",
            "_view_count": null,
            "_view_module_version": "1.2.0",
            "bar_color": null,
            "_model_module": "@jupyter-widgets/controls"
          }
        },
        "f62f13dd4af34c8587d4ab8b60894b04": {
          "model_module": "@jupyter-widgets/base",
          "model_name": "LayoutModel",
          "model_module_version": "1.2.0",
          "state": {
            "_view_name": "LayoutView",
            "grid_template_rows": null,
            "right": null,
            "justify_content": null,
            "_view_module": "@jupyter-widgets/base",
            "overflow": null,
            "_model_module_version": "1.2.0",
            "_view_count": null,
            "flex_flow": null,
            "width": null,
            "min_width": null,
            "border": null,
            "align_items": null,
            "bottom": null,
            "_model_module": "@jupyter-widgets/base",
            "top": null,
            "grid_column": null,
            "overflow_y": null,
            "overflow_x": null,
            "grid_auto_flow": null,
            "grid_area": null,
            "grid_template_columns": null,
            "flex": null,
            "_model_name": "LayoutModel",
            "justify_items": null,
            "grid_row": null,
            "max_height": null,
            "align_content": null,
            "visibility": null,
            "align_self": null,
            "height": null,
            "min_height": null,
            "padding": null,
            "grid_auto_rows": null,
            "grid_gap": null,
            "max_width": null,
            "order": null,
            "_view_module_version": "1.2.0",
            "grid_template_areas": null,
            "object_position": null,
            "object_fit": null,
            "grid_auto_columns": null,
            "margin": null,
            "display": null,
            "left": null
          }
        },
        "aa5a8d7885bc49d0a00b60c7f95e850e": {
          "model_module": "@jupyter-widgets/controls",
          "model_name": "DescriptionStyleModel",
          "model_module_version": "1.5.0",
          "state": {
            "_view_name": "StyleView",
            "_model_name": "DescriptionStyleModel",
            "description_width": "",
            "_view_module": "@jupyter-widgets/base",
            "_model_module_version": "1.5.0",
            "_view_count": null,
            "_view_module_version": "1.2.0",
            "_model_module": "@jupyter-widgets/controls"
          }
        },
        "c660bdd305ab45fdbfddb23de6869613": {
          "model_module": "@jupyter-widgets/base",
          "model_name": "LayoutModel",
          "model_module_version": "1.2.0",
          "state": {
            "_view_name": "LayoutView",
            "grid_template_rows": null,
            "right": null,
            "justify_content": null,
            "_view_module": "@jupyter-widgets/base",
            "overflow": null,
            "_model_module_version": "1.2.0",
            "_view_count": null,
            "flex_flow": null,
            "width": null,
            "min_width": null,
            "border": null,
            "align_items": null,
            "bottom": null,
            "_model_module": "@jupyter-widgets/base",
            "top": null,
            "grid_column": null,
            "overflow_y": null,
            "overflow_x": null,
            "grid_auto_flow": null,
            "grid_area": null,
            "grid_template_columns": null,
            "flex": null,
            "_model_name": "LayoutModel",
            "justify_items": null,
            "grid_row": null,
            "max_height": null,
            "align_content": null,
            "visibility": null,
            "align_self": null,
            "height": null,
            "min_height": null,
            "padding": null,
            "grid_auto_rows": null,
            "grid_gap": null,
            "max_width": null,
            "order": null,
            "_view_module_version": "1.2.0",
            "grid_template_areas": null,
            "object_position": null,
            "object_fit": null,
            "grid_auto_columns": null,
            "margin": null,
            "display": null,
            "left": null
          }
        },
        "9398e94a50c94f54b81d3ff84c0404e9": {
          "model_module": "@jupyter-widgets/controls",
          "model_name": "HBoxModel",
          "model_module_version": "1.5.0",
          "state": {
            "_view_name": "HBoxView",
            "_dom_classes": [],
            "_model_name": "HBoxModel",
            "_view_module": "@jupyter-widgets/controls",
            "_model_module_version": "1.5.0",
            "_view_count": null,
            "_view_module_version": "1.5.0",
            "box_style": "",
            "layout": "IPY_MODEL_06b1d436bb8e4b548a304ece1529a80b",
            "_model_module": "@jupyter-widgets/controls",
            "children": [
              "IPY_MODEL_17ae673269fd487a8270024941e9ea79",
              "IPY_MODEL_9dd6338da12042a6a1e9f765e571c7e3",
              "IPY_MODEL_28750053a49743999bcf38b21d437d67"
            ]
          }
        },
        "06b1d436bb8e4b548a304ece1529a80b": {
          "model_module": "@jupyter-widgets/base",
          "model_name": "LayoutModel",
          "model_module_version": "1.2.0",
          "state": {
            "_view_name": "LayoutView",
            "grid_template_rows": null,
            "right": null,
            "justify_content": null,
            "_view_module": "@jupyter-widgets/base",
            "overflow": null,
            "_model_module_version": "1.2.0",
            "_view_count": null,
            "flex_flow": null,
            "width": null,
            "min_width": null,
            "border": null,
            "align_items": null,
            "bottom": null,
            "_model_module": "@jupyter-widgets/base",
            "top": null,
            "grid_column": null,
            "overflow_y": null,
            "overflow_x": null,
            "grid_auto_flow": null,
            "grid_area": null,
            "grid_template_columns": null,
            "flex": null,
            "_model_name": "LayoutModel",
            "justify_items": null,
            "grid_row": null,
            "max_height": null,
            "align_content": null,
            "visibility": null,
            "align_self": null,
            "height": null,
            "min_height": null,
            "padding": null,
            "grid_auto_rows": null,
            "grid_gap": null,
            "max_width": null,
            "order": null,
            "_view_module_version": "1.2.0",
            "grid_template_areas": null,
            "object_position": null,
            "object_fit": null,
            "grid_auto_columns": null,
            "margin": null,
            "display": null,
            "left": null
          }
        },
        "17ae673269fd487a8270024941e9ea79": {
          "model_module": "@jupyter-widgets/controls",
          "model_name": "HTMLModel",
          "model_module_version": "1.5.0",
          "state": {
            "_view_name": "HTMLView",
            "style": "IPY_MODEL_1564afe0b1b3458594a6ad6584cb0669",
            "_dom_classes": [],
            "description": "",
            "_model_name": "HTMLModel",
            "placeholder": "​",
            "_view_module": "@jupyter-widgets/controls",
            "_model_module_version": "1.5.0",
            "value": "100%",
            "_view_count": null,
            "_view_module_version": "1.5.0",
            "description_tooltip": null,
            "_model_module": "@jupyter-widgets/controls",
            "layout": "IPY_MODEL_7efca32c44ba47689c3cd20d4cd49053"
          }
        },
        "9dd6338da12042a6a1e9f765e571c7e3": {
          "model_module": "@jupyter-widgets/controls",
          "model_name": "FloatProgressModel",
          "model_module_version": "1.5.0",
          "state": {
            "_view_name": "ProgressView",
            "style": "IPY_MODEL_e17900642ab548439420037268e85688",
            "_dom_classes": [],
            "description": "",
            "_model_name": "FloatProgressModel",
            "bar_style": "",
            "max": 40,
            "_view_module": "@jupyter-widgets/controls",
            "_model_module_version": "1.5.0",
            "value": 40,
            "_view_count": null,
            "_view_module_version": "1.5.0",
            "orientation": "horizontal",
            "min": 0,
            "description_tooltip": null,
            "_model_module": "@jupyter-widgets/controls",
            "layout": "IPY_MODEL_79c9aadd4dd2465a9c8d69de68db0846"
          }
        },
        "28750053a49743999bcf38b21d437d67": {
          "model_module": "@jupyter-widgets/controls",
          "model_name": "HTMLModel",
          "model_module_version": "1.5.0",
          "state": {
            "_view_name": "HTMLView",
            "style": "IPY_MODEL_bab625602bd74a43a5dea149ac40ae66",
            "_dom_classes": [],
            "description": "",
            "_model_name": "HTMLModel",
            "placeholder": "​",
            "_view_module": "@jupyter-widgets/controls",
            "_model_module_version": "1.5.0",
            "value": " 40/40 [00:13&lt;00:00,  3.04it/s]",
            "_view_count": null,
            "_view_module_version": "1.5.0",
            "description_tooltip": null,
            "_model_module": "@jupyter-widgets/controls",
            "layout": "IPY_MODEL_c67ffb009ed2414491d966c70fb7b47c"
          }
        },
        "1564afe0b1b3458594a6ad6584cb0669": {
          "model_module": "@jupyter-widgets/controls",
          "model_name": "DescriptionStyleModel",
          "model_module_version": "1.5.0",
          "state": {
            "_view_name": "StyleView",
            "_model_name": "DescriptionStyleModel",
            "description_width": "",
            "_view_module": "@jupyter-widgets/base",
            "_model_module_version": "1.5.0",
            "_view_count": null,
            "_view_module_version": "1.2.0",
            "_model_module": "@jupyter-widgets/controls"
          }
        },
        "7efca32c44ba47689c3cd20d4cd49053": {
          "model_module": "@jupyter-widgets/base",
          "model_name": "LayoutModel",
          "model_module_version": "1.2.0",
          "state": {
            "_view_name": "LayoutView",
            "grid_template_rows": null,
            "right": null,
            "justify_content": null,
            "_view_module": "@jupyter-widgets/base",
            "overflow": null,
            "_model_module_version": "1.2.0",
            "_view_count": null,
            "flex_flow": null,
            "width": null,
            "min_width": null,
            "border": null,
            "align_items": null,
            "bottom": null,
            "_model_module": "@jupyter-widgets/base",
            "top": null,
            "grid_column": null,
            "overflow_y": null,
            "overflow_x": null,
            "grid_auto_flow": null,
            "grid_area": null,
            "grid_template_columns": null,
            "flex": null,
            "_model_name": "LayoutModel",
            "justify_items": null,
            "grid_row": null,
            "max_height": null,
            "align_content": null,
            "visibility": null,
            "align_self": null,
            "height": null,
            "min_height": null,
            "padding": null,
            "grid_auto_rows": null,
            "grid_gap": null,
            "max_width": null,
            "order": null,
            "_view_module_version": "1.2.0",
            "grid_template_areas": null,
            "object_position": null,
            "object_fit": null,
            "grid_auto_columns": null,
            "margin": null,
            "display": null,
            "left": null
          }
        },
        "e17900642ab548439420037268e85688": {
          "model_module": "@jupyter-widgets/controls",
          "model_name": "ProgressStyleModel",
          "model_module_version": "1.5.0",
          "state": {
            "_view_name": "StyleView",
            "_model_name": "ProgressStyleModel",
            "description_width": "",
            "_view_module": "@jupyter-widgets/base",
            "_model_module_version": "1.5.0",
            "_view_count": null,
            "_view_module_version": "1.2.0",
            "bar_color": null,
            "_model_module": "@jupyter-widgets/controls"
          }
        },
        "79c9aadd4dd2465a9c8d69de68db0846": {
          "model_module": "@jupyter-widgets/base",
          "model_name": "LayoutModel",
          "model_module_version": "1.2.0",
          "state": {
            "_view_name": "LayoutView",
            "grid_template_rows": null,
            "right": null,
            "justify_content": null,
            "_view_module": "@jupyter-widgets/base",
            "overflow": null,
            "_model_module_version": "1.2.0",
            "_view_count": null,
            "flex_flow": null,
            "width": null,
            "min_width": null,
            "border": null,
            "align_items": null,
            "bottom": null,
            "_model_module": "@jupyter-widgets/base",
            "top": null,
            "grid_column": null,
            "overflow_y": null,
            "overflow_x": null,
            "grid_auto_flow": null,
            "grid_area": null,
            "grid_template_columns": null,
            "flex": null,
            "_model_name": "LayoutModel",
            "justify_items": null,
            "grid_row": null,
            "max_height": null,
            "align_content": null,
            "visibility": null,
            "align_self": null,
            "height": null,
            "min_height": null,
            "padding": null,
            "grid_auto_rows": null,
            "grid_gap": null,
            "max_width": null,
            "order": null,
            "_view_module_version": "1.2.0",
            "grid_template_areas": null,
            "object_position": null,
            "object_fit": null,
            "grid_auto_columns": null,
            "margin": null,
            "display": null,
            "left": null
          }
        },
        "bab625602bd74a43a5dea149ac40ae66": {
          "model_module": "@jupyter-widgets/controls",
          "model_name": "DescriptionStyleModel",
          "model_module_version": "1.5.0",
          "state": {
            "_view_name": "StyleView",
            "_model_name": "DescriptionStyleModel",
            "description_width": "",
            "_view_module": "@jupyter-widgets/base",
            "_model_module_version": "1.5.0",
            "_view_count": null,
            "_view_module_version": "1.2.0",
            "_model_module": "@jupyter-widgets/controls"
          }
        },
        "c67ffb009ed2414491d966c70fb7b47c": {
          "model_module": "@jupyter-widgets/base",
          "model_name": "LayoutModel",
          "model_module_version": "1.2.0",
          "state": {
            "_view_name": "LayoutView",
            "grid_template_rows": null,
            "right": null,
            "justify_content": null,
            "_view_module": "@jupyter-widgets/base",
            "overflow": null,
            "_model_module_version": "1.2.0",
            "_view_count": null,
            "flex_flow": null,
            "width": null,
            "min_width": null,
            "border": null,
            "align_items": null,
            "bottom": null,
            "_model_module": "@jupyter-widgets/base",
            "top": null,
            "grid_column": null,
            "overflow_y": null,
            "overflow_x": null,
            "grid_auto_flow": null,
            "grid_area": null,
            "grid_template_columns": null,
            "flex": null,
            "_model_name": "LayoutModel",
            "justify_items": null,
            "grid_row": null,
            "max_height": null,
            "align_content": null,
            "visibility": null,
            "align_self": null,
            "height": null,
            "min_height": null,
            "padding": null,
            "grid_auto_rows": null,
            "grid_gap": null,
            "max_width": null,
            "order": null,
            "_view_module_version": "1.2.0",
            "grid_template_areas": null,
            "object_position": null,
            "object_fit": null,
            "grid_auto_columns": null,
            "margin": null,
            "display": null,
            "left": null
          }
        },
        "54e80de71b334fc58df177869f622d4a": {
          "model_module": "@jupyter-widgets/controls",
          "model_name": "HBoxModel",
          "model_module_version": "1.5.0",
          "state": {
            "_view_name": "HBoxView",
            "_dom_classes": [],
            "_model_name": "HBoxModel",
            "_view_module": "@jupyter-widgets/controls",
            "_model_module_version": "1.5.0",
            "_view_count": null,
            "_view_module_version": "1.5.0",
            "box_style": "",
            "layout": "IPY_MODEL_35eda56bb8824755b1d4702bb496e05e",
            "_model_module": "@jupyter-widgets/controls",
            "children": [
              "IPY_MODEL_906b8e63315345dd915b0ebc627bdb70",
              "IPY_MODEL_060c52a099d9403dad78b34c5fad0bac",
              "IPY_MODEL_faa5ea5bf92941c08f5ab6c1e9eac7a7"
            ]
          }
        },
        "35eda56bb8824755b1d4702bb496e05e": {
          "model_module": "@jupyter-widgets/base",
          "model_name": "LayoutModel",
          "model_module_version": "1.2.0",
          "state": {
            "_view_name": "LayoutView",
            "grid_template_rows": null,
            "right": null,
            "justify_content": null,
            "_view_module": "@jupyter-widgets/base",
            "overflow": null,
            "_model_module_version": "1.2.0",
            "_view_count": null,
            "flex_flow": null,
            "width": null,
            "min_width": null,
            "border": null,
            "align_items": null,
            "bottom": null,
            "_model_module": "@jupyter-widgets/base",
            "top": null,
            "grid_column": null,
            "overflow_y": null,
            "overflow_x": null,
            "grid_auto_flow": null,
            "grid_area": null,
            "grid_template_columns": null,
            "flex": null,
            "_model_name": "LayoutModel",
            "justify_items": null,
            "grid_row": null,
            "max_height": null,
            "align_content": null,
            "visibility": null,
            "align_self": null,
            "height": null,
            "min_height": null,
            "padding": null,
            "grid_auto_rows": null,
            "grid_gap": null,
            "max_width": null,
            "order": null,
            "_view_module_version": "1.2.0",
            "grid_template_areas": null,
            "object_position": null,
            "object_fit": null,
            "grid_auto_columns": null,
            "margin": null,
            "display": null,
            "left": null
          }
        },
        "906b8e63315345dd915b0ebc627bdb70": {
          "model_module": "@jupyter-widgets/controls",
          "model_name": "HTMLModel",
          "model_module_version": "1.5.0",
          "state": {
            "_view_name": "HTMLView",
            "style": "IPY_MODEL_9f5fe709de3248abbab9f60be10a57f7",
            "_dom_classes": [],
            "description": "",
            "_model_name": "HTMLModel",
            "placeholder": "​",
            "_view_module": "@jupyter-widgets/controls",
            "_model_module_version": "1.5.0",
            "value": "100%",
            "_view_count": null,
            "_view_module_version": "1.5.0",
            "description_tooltip": null,
            "_model_module": "@jupyter-widgets/controls",
            "layout": "IPY_MODEL_defaef36cbda49b28f5f43a5944834bf"
          }
        },
        "060c52a099d9403dad78b34c5fad0bac": {
          "model_module": "@jupyter-widgets/controls",
          "model_name": "FloatProgressModel",
          "model_module_version": "1.5.0",
          "state": {
            "_view_name": "ProgressView",
            "style": "IPY_MODEL_45da1db0725241bba0f893f3a327c01d",
            "_dom_classes": [],
            "description": "",
            "_model_name": "FloatProgressModel",
            "bar_style": "",
            "max": 40,
            "_view_module": "@jupyter-widgets/controls",
            "_model_module_version": "1.5.0",
            "value": 40,
            "_view_count": null,
            "_view_module_version": "1.5.0",
            "orientation": "horizontal",
            "min": 0,
            "description_tooltip": null,
            "_model_module": "@jupyter-widgets/controls",
            "layout": "IPY_MODEL_7a04e6a34df7480c9617e5d9f660dee8"
          }
        },
        "faa5ea5bf92941c08f5ab6c1e9eac7a7": {
          "model_module": "@jupyter-widgets/controls",
          "model_name": "HTMLModel",
          "model_module_version": "1.5.0",
          "state": {
            "_view_name": "HTMLView",
            "style": "IPY_MODEL_0084639698204a6687d96e68461e426f",
            "_dom_classes": [],
            "description": "",
            "_model_name": "HTMLModel",
            "placeholder": "​",
            "_view_module": "@jupyter-widgets/controls",
            "_model_module_version": "1.5.0",
            "value": " 40/40 [00:21&lt;00:00,  1.81it/s]",
            "_view_count": null,
            "_view_module_version": "1.5.0",
            "description_tooltip": null,
            "_model_module": "@jupyter-widgets/controls",
            "layout": "IPY_MODEL_d812815348624c16b06eac97bacf0f19"
          }
        },
        "9f5fe709de3248abbab9f60be10a57f7": {
          "model_module": "@jupyter-widgets/controls",
          "model_name": "DescriptionStyleModel",
          "model_module_version": "1.5.0",
          "state": {
            "_view_name": "StyleView",
            "_model_name": "DescriptionStyleModel",
            "description_width": "",
            "_view_module": "@jupyter-widgets/base",
            "_model_module_version": "1.5.0",
            "_view_count": null,
            "_view_module_version": "1.2.0",
            "_model_module": "@jupyter-widgets/controls"
          }
        },
        "defaef36cbda49b28f5f43a5944834bf": {
          "model_module": "@jupyter-widgets/base",
          "model_name": "LayoutModel",
          "model_module_version": "1.2.0",
          "state": {
            "_view_name": "LayoutView",
            "grid_template_rows": null,
            "right": null,
            "justify_content": null,
            "_view_module": "@jupyter-widgets/base",
            "overflow": null,
            "_model_module_version": "1.2.0",
            "_view_count": null,
            "flex_flow": null,
            "width": null,
            "min_width": null,
            "border": null,
            "align_items": null,
            "bottom": null,
            "_model_module": "@jupyter-widgets/base",
            "top": null,
            "grid_column": null,
            "overflow_y": null,
            "overflow_x": null,
            "grid_auto_flow": null,
            "grid_area": null,
            "grid_template_columns": null,
            "flex": null,
            "_model_name": "LayoutModel",
            "justify_items": null,
            "grid_row": null,
            "max_height": null,
            "align_content": null,
            "visibility": null,
            "align_self": null,
            "height": null,
            "min_height": null,
            "padding": null,
            "grid_auto_rows": null,
            "grid_gap": null,
            "max_width": null,
            "order": null,
            "_view_module_version": "1.2.0",
            "grid_template_areas": null,
            "object_position": null,
            "object_fit": null,
            "grid_auto_columns": null,
            "margin": null,
            "display": null,
            "left": null
          }
        },
        "45da1db0725241bba0f893f3a327c01d": {
          "model_module": "@jupyter-widgets/controls",
          "model_name": "ProgressStyleModel",
          "model_module_version": "1.5.0",
          "state": {
            "_view_name": "StyleView",
            "_model_name": "ProgressStyleModel",
            "description_width": "",
            "_view_module": "@jupyter-widgets/base",
            "_model_module_version": "1.5.0",
            "_view_count": null,
            "_view_module_version": "1.2.0",
            "bar_color": null,
            "_model_module": "@jupyter-widgets/controls"
          }
        },
        "7a04e6a34df7480c9617e5d9f660dee8": {
          "model_module": "@jupyter-widgets/base",
          "model_name": "LayoutModel",
          "model_module_version": "1.2.0",
          "state": {
            "_view_name": "LayoutView",
            "grid_template_rows": null,
            "right": null,
            "justify_content": null,
            "_view_module": "@jupyter-widgets/base",
            "overflow": null,
            "_model_module_version": "1.2.0",
            "_view_count": null,
            "flex_flow": null,
            "width": null,
            "min_width": null,
            "border": null,
            "align_items": null,
            "bottom": null,
            "_model_module": "@jupyter-widgets/base",
            "top": null,
            "grid_column": null,
            "overflow_y": null,
            "overflow_x": null,
            "grid_auto_flow": null,
            "grid_area": null,
            "grid_template_columns": null,
            "flex": null,
            "_model_name": "LayoutModel",
            "justify_items": null,
            "grid_row": null,
            "max_height": null,
            "align_content": null,
            "visibility": null,
            "align_self": null,
            "height": null,
            "min_height": null,
            "padding": null,
            "grid_auto_rows": null,
            "grid_gap": null,
            "max_width": null,
            "order": null,
            "_view_module_version": "1.2.0",
            "grid_template_areas": null,
            "object_position": null,
            "object_fit": null,
            "grid_auto_columns": null,
            "margin": null,
            "display": null,
            "left": null
          }
        },
        "0084639698204a6687d96e68461e426f": {
          "model_module": "@jupyter-widgets/controls",
          "model_name": "DescriptionStyleModel",
          "model_module_version": "1.5.0",
          "state": {
            "_view_name": "StyleView",
            "_model_name": "DescriptionStyleModel",
            "description_width": "",
            "_view_module": "@jupyter-widgets/base",
            "_model_module_version": "1.5.0",
            "_view_count": null,
            "_view_module_version": "1.2.0",
            "_model_module": "@jupyter-widgets/controls"
          }
        },
        "d812815348624c16b06eac97bacf0f19": {
          "model_module": "@jupyter-widgets/base",
          "model_name": "LayoutModel",
          "model_module_version": "1.2.0",
          "state": {
            "_view_name": "LayoutView",
            "grid_template_rows": null,
            "right": null,
            "justify_content": null,
            "_view_module": "@jupyter-widgets/base",
            "overflow": null,
            "_model_module_version": "1.2.0",
            "_view_count": null,
            "flex_flow": null,
            "width": null,
            "min_width": null,
            "border": null,
            "align_items": null,
            "bottom": null,
            "_model_module": "@jupyter-widgets/base",
            "top": null,
            "grid_column": null,
            "overflow_y": null,
            "overflow_x": null,
            "grid_auto_flow": null,
            "grid_area": null,
            "grid_template_columns": null,
            "flex": null,
            "_model_name": "LayoutModel",
            "justify_items": null,
            "grid_row": null,
            "max_height": null,
            "align_content": null,
            "visibility": null,
            "align_self": null,
            "height": null,
            "min_height": null,
            "padding": null,
            "grid_auto_rows": null,
            "grid_gap": null,
            "max_width": null,
            "order": null,
            "_view_module_version": "1.2.0",
            "grid_template_areas": null,
            "object_position": null,
            "object_fit": null,
            "grid_auto_columns": null,
            "margin": null,
            "display": null,
            "left": null
          }
        },
        "383241e506b44ae585284d94cbe4024f": {
          "model_module": "@jupyter-widgets/controls",
          "model_name": "HBoxModel",
          "model_module_version": "1.5.0",
          "state": {
            "_view_name": "HBoxView",
            "_dom_classes": [],
            "_model_name": "HBoxModel",
            "_view_module": "@jupyter-widgets/controls",
            "_model_module_version": "1.5.0",
            "_view_count": null,
            "_view_module_version": "1.5.0",
            "box_style": "",
            "layout": "IPY_MODEL_41a802d567e044bcbf9f7a5e5029183d",
            "_model_module": "@jupyter-widgets/controls",
            "children": [
              "IPY_MODEL_bcfef3cce81749558bd109d243f09958",
              "IPY_MODEL_0c41b3b648184b7c94efa87d6f3edae1",
              "IPY_MODEL_4f352b37ef2f49c7b6c6e8dfbce7f9b7"
            ]
          }
        },
        "41a802d567e044bcbf9f7a5e5029183d": {
          "model_module": "@jupyter-widgets/base",
          "model_name": "LayoutModel",
          "model_module_version": "1.2.0",
          "state": {
            "_view_name": "LayoutView",
            "grid_template_rows": null,
            "right": null,
            "justify_content": null,
            "_view_module": "@jupyter-widgets/base",
            "overflow": null,
            "_model_module_version": "1.2.0",
            "_view_count": null,
            "flex_flow": null,
            "width": null,
            "min_width": null,
            "border": null,
            "align_items": null,
            "bottom": null,
            "_model_module": "@jupyter-widgets/base",
            "top": null,
            "grid_column": null,
            "overflow_y": null,
            "overflow_x": null,
            "grid_auto_flow": null,
            "grid_area": null,
            "grid_template_columns": null,
            "flex": null,
            "_model_name": "LayoutModel",
            "justify_items": null,
            "grid_row": null,
            "max_height": null,
            "align_content": null,
            "visibility": null,
            "align_self": null,
            "height": null,
            "min_height": null,
            "padding": null,
            "grid_auto_rows": null,
            "grid_gap": null,
            "max_width": null,
            "order": null,
            "_view_module_version": "1.2.0",
            "grid_template_areas": null,
            "object_position": null,
            "object_fit": null,
            "grid_auto_columns": null,
            "margin": null,
            "display": null,
            "left": null
          }
        },
        "bcfef3cce81749558bd109d243f09958": {
          "model_module": "@jupyter-widgets/controls",
          "model_name": "HTMLModel",
          "model_module_version": "1.5.0",
          "state": {
            "_view_name": "HTMLView",
            "style": "IPY_MODEL_919711db7dc9496b9744a44a8a70aadd",
            "_dom_classes": [],
            "description": "",
            "_model_name": "HTMLModel",
            "placeholder": "​",
            "_view_module": "@jupyter-widgets/controls",
            "_model_module_version": "1.5.0",
            "value": "100%",
            "_view_count": null,
            "_view_module_version": "1.5.0",
            "description_tooltip": null,
            "_model_module": "@jupyter-widgets/controls",
            "layout": "IPY_MODEL_c6412351f4034bdb8785d6f0dc340733"
          }
        },
        "0c41b3b648184b7c94efa87d6f3edae1": {
          "model_module": "@jupyter-widgets/controls",
          "model_name": "FloatProgressModel",
          "model_module_version": "1.5.0",
          "state": {
            "_view_name": "ProgressView",
            "style": "IPY_MODEL_ff2617847f8949db95c66e6306026b60",
            "_dom_classes": [],
            "description": "",
            "_model_name": "FloatProgressModel",
            "bar_style": "",
            "max": 40,
            "_view_module": "@jupyter-widgets/controls",
            "_model_module_version": "1.5.0",
            "value": 40,
            "_view_count": null,
            "_view_module_version": "1.5.0",
            "orientation": "horizontal",
            "min": 0,
            "description_tooltip": null,
            "_model_module": "@jupyter-widgets/controls",
            "layout": "IPY_MODEL_92a1acc09461479992372ba22fc12e07"
          }
        },
        "4f352b37ef2f49c7b6c6e8dfbce7f9b7": {
          "model_module": "@jupyter-widgets/controls",
          "model_name": "HTMLModel",
          "model_module_version": "1.5.0",
          "state": {
            "_view_name": "HTMLView",
            "style": "IPY_MODEL_e4b1a19e25fa4cd295f1f73d69f1b7fd",
            "_dom_classes": [],
            "description": "",
            "_model_name": "HTMLModel",
            "placeholder": "​",
            "_view_module": "@jupyter-widgets/controls",
            "_model_module_version": "1.5.0",
            "value": " 40/40 [00:20&lt;00:00,  1.96it/s]",
            "_view_count": null,
            "_view_module_version": "1.5.0",
            "description_tooltip": null,
            "_model_module": "@jupyter-widgets/controls",
            "layout": "IPY_MODEL_bd1b6ab3419c4c1fa1447160f26ea0f2"
          }
        },
        "919711db7dc9496b9744a44a8a70aadd": {
          "model_module": "@jupyter-widgets/controls",
          "model_name": "DescriptionStyleModel",
          "model_module_version": "1.5.0",
          "state": {
            "_view_name": "StyleView",
            "_model_name": "DescriptionStyleModel",
            "description_width": "",
            "_view_module": "@jupyter-widgets/base",
            "_model_module_version": "1.5.0",
            "_view_count": null,
            "_view_module_version": "1.2.0",
            "_model_module": "@jupyter-widgets/controls"
          }
        },
        "c6412351f4034bdb8785d6f0dc340733": {
          "model_module": "@jupyter-widgets/base",
          "model_name": "LayoutModel",
          "model_module_version": "1.2.0",
          "state": {
            "_view_name": "LayoutView",
            "grid_template_rows": null,
            "right": null,
            "justify_content": null,
            "_view_module": "@jupyter-widgets/base",
            "overflow": null,
            "_model_module_version": "1.2.0",
            "_view_count": null,
            "flex_flow": null,
            "width": null,
            "min_width": null,
            "border": null,
            "align_items": null,
            "bottom": null,
            "_model_module": "@jupyter-widgets/base",
            "top": null,
            "grid_column": null,
            "overflow_y": null,
            "overflow_x": null,
            "grid_auto_flow": null,
            "grid_area": null,
            "grid_template_columns": null,
            "flex": null,
            "_model_name": "LayoutModel",
            "justify_items": null,
            "grid_row": null,
            "max_height": null,
            "align_content": null,
            "visibility": null,
            "align_self": null,
            "height": null,
            "min_height": null,
            "padding": null,
            "grid_auto_rows": null,
            "grid_gap": null,
            "max_width": null,
            "order": null,
            "_view_module_version": "1.2.0",
            "grid_template_areas": null,
            "object_position": null,
            "object_fit": null,
            "grid_auto_columns": null,
            "margin": null,
            "display": null,
            "left": null
          }
        },
        "ff2617847f8949db95c66e6306026b60": {
          "model_module": "@jupyter-widgets/controls",
          "model_name": "ProgressStyleModel",
          "model_module_version": "1.5.0",
          "state": {
            "_view_name": "StyleView",
            "_model_name": "ProgressStyleModel",
            "description_width": "",
            "_view_module": "@jupyter-widgets/base",
            "_model_module_version": "1.5.0",
            "_view_count": null,
            "_view_module_version": "1.2.0",
            "bar_color": null,
            "_model_module": "@jupyter-widgets/controls"
          }
        },
        "92a1acc09461479992372ba22fc12e07": {
          "model_module": "@jupyter-widgets/base",
          "model_name": "LayoutModel",
          "model_module_version": "1.2.0",
          "state": {
            "_view_name": "LayoutView",
            "grid_template_rows": null,
            "right": null,
            "justify_content": null,
            "_view_module": "@jupyter-widgets/base",
            "overflow": null,
            "_model_module_version": "1.2.0",
            "_view_count": null,
            "flex_flow": null,
            "width": null,
            "min_width": null,
            "border": null,
            "align_items": null,
            "bottom": null,
            "_model_module": "@jupyter-widgets/base",
            "top": null,
            "grid_column": null,
            "overflow_y": null,
            "overflow_x": null,
            "grid_auto_flow": null,
            "grid_area": null,
            "grid_template_columns": null,
            "flex": null,
            "_model_name": "LayoutModel",
            "justify_items": null,
            "grid_row": null,
            "max_height": null,
            "align_content": null,
            "visibility": null,
            "align_self": null,
            "height": null,
            "min_height": null,
            "padding": null,
            "grid_auto_rows": null,
            "grid_gap": null,
            "max_width": null,
            "order": null,
            "_view_module_version": "1.2.0",
            "grid_template_areas": null,
            "object_position": null,
            "object_fit": null,
            "grid_auto_columns": null,
            "margin": null,
            "display": null,
            "left": null
          }
        },
        "e4b1a19e25fa4cd295f1f73d69f1b7fd": {
          "model_module": "@jupyter-widgets/controls",
          "model_name": "DescriptionStyleModel",
          "model_module_version": "1.5.0",
          "state": {
            "_view_name": "StyleView",
            "_model_name": "DescriptionStyleModel",
            "description_width": "",
            "_view_module": "@jupyter-widgets/base",
            "_model_module_version": "1.5.0",
            "_view_count": null,
            "_view_module_version": "1.2.0",
            "_model_module": "@jupyter-widgets/controls"
          }
        },
        "bd1b6ab3419c4c1fa1447160f26ea0f2": {
          "model_module": "@jupyter-widgets/base",
          "model_name": "LayoutModel",
          "model_module_version": "1.2.0",
          "state": {
            "_view_name": "LayoutView",
            "grid_template_rows": null,
            "right": null,
            "justify_content": null,
            "_view_module": "@jupyter-widgets/base",
            "overflow": null,
            "_model_module_version": "1.2.0",
            "_view_count": null,
            "flex_flow": null,
            "width": null,
            "min_width": null,
            "border": null,
            "align_items": null,
            "bottom": null,
            "_model_module": "@jupyter-widgets/base",
            "top": null,
            "grid_column": null,
            "overflow_y": null,
            "overflow_x": null,
            "grid_auto_flow": null,
            "grid_area": null,
            "grid_template_columns": null,
            "flex": null,
            "_model_name": "LayoutModel",
            "justify_items": null,
            "grid_row": null,
            "max_height": null,
            "align_content": null,
            "visibility": null,
            "align_self": null,
            "height": null,
            "min_height": null,
            "padding": null,
            "grid_auto_rows": null,
            "grid_gap": null,
            "max_width": null,
            "order": null,
            "_view_module_version": "1.2.0",
            "grid_template_areas": null,
            "object_position": null,
            "object_fit": null,
            "grid_auto_columns": null,
            "margin": null,
            "display": null,
            "left": null
          }
        },
        "a22fab25d2e94571bb34423fe47f8d09": {
          "model_module": "@jupyter-widgets/controls",
          "model_name": "HBoxModel",
          "model_module_version": "1.5.0",
          "state": {
            "_view_name": "HBoxView",
            "_dom_classes": [],
            "_model_name": "HBoxModel",
            "_view_module": "@jupyter-widgets/controls",
            "_model_module_version": "1.5.0",
            "_view_count": null,
            "_view_module_version": "1.5.0",
            "box_style": "",
            "layout": "IPY_MODEL_b32870702a654983879a41b08b121d9e",
            "_model_module": "@jupyter-widgets/controls",
            "children": [
              "IPY_MODEL_679c7dec6b874d44834ef48a55f33554",
              "IPY_MODEL_802366b94db74d6c9fd56d26735dad92",
              "IPY_MODEL_a4dd3f96c3e24fcabe97312c4fe9cdbf"
            ]
          }
        },
        "b32870702a654983879a41b08b121d9e": {
          "model_module": "@jupyter-widgets/base",
          "model_name": "LayoutModel",
          "model_module_version": "1.2.0",
          "state": {
            "_view_name": "LayoutView",
            "grid_template_rows": null,
            "right": null,
            "justify_content": null,
            "_view_module": "@jupyter-widgets/base",
            "overflow": null,
            "_model_module_version": "1.2.0",
            "_view_count": null,
            "flex_flow": null,
            "width": null,
            "min_width": null,
            "border": null,
            "align_items": null,
            "bottom": null,
            "_model_module": "@jupyter-widgets/base",
            "top": null,
            "grid_column": null,
            "overflow_y": null,
            "overflow_x": null,
            "grid_auto_flow": null,
            "grid_area": null,
            "grid_template_columns": null,
            "flex": null,
            "_model_name": "LayoutModel",
            "justify_items": null,
            "grid_row": null,
            "max_height": null,
            "align_content": null,
            "visibility": null,
            "align_self": null,
            "height": null,
            "min_height": null,
            "padding": null,
            "grid_auto_rows": null,
            "grid_gap": null,
            "max_width": null,
            "order": null,
            "_view_module_version": "1.2.0",
            "grid_template_areas": null,
            "object_position": null,
            "object_fit": null,
            "grid_auto_columns": null,
            "margin": null,
            "display": null,
            "left": null
          }
        },
        "679c7dec6b874d44834ef48a55f33554": {
          "model_module": "@jupyter-widgets/controls",
          "model_name": "HTMLModel",
          "model_module_version": "1.5.0",
          "state": {
            "_view_name": "HTMLView",
            "style": "IPY_MODEL_468e5ea333c24e0dadf2c096b5f6f27f",
            "_dom_classes": [],
            "description": "",
            "_model_name": "HTMLModel",
            "placeholder": "​",
            "_view_module": "@jupyter-widgets/controls",
            "_model_module_version": "1.5.0",
            "value": "100%",
            "_view_count": null,
            "_view_module_version": "1.5.0",
            "description_tooltip": null,
            "_model_module": "@jupyter-widgets/controls",
            "layout": "IPY_MODEL_cdb4a555b3704e07b7efcaa554e878da"
          }
        },
        "802366b94db74d6c9fd56d26735dad92": {
          "model_module": "@jupyter-widgets/controls",
          "model_name": "FloatProgressModel",
          "model_module_version": "1.5.0",
          "state": {
            "_view_name": "ProgressView",
            "style": "IPY_MODEL_20e5e71d5661466c88360394e57d9822",
            "_dom_classes": [],
            "description": "",
            "_model_name": "FloatProgressModel",
            "bar_style": "",
            "max": 40,
            "_view_module": "@jupyter-widgets/controls",
            "_model_module_version": "1.5.0",
            "value": 40,
            "_view_count": null,
            "_view_module_version": "1.5.0",
            "orientation": "horizontal",
            "min": 0,
            "description_tooltip": null,
            "_model_module": "@jupyter-widgets/controls",
            "layout": "IPY_MODEL_c693ff1bfea242c486b6bd60b6a5adc0"
          }
        },
        "a4dd3f96c3e24fcabe97312c4fe9cdbf": {
          "model_module": "@jupyter-widgets/controls",
          "model_name": "HTMLModel",
          "model_module_version": "1.5.0",
          "state": {
            "_view_name": "HTMLView",
            "style": "IPY_MODEL_93aa5f41f7134a1e834f5b9064fbc48a",
            "_dom_classes": [],
            "description": "",
            "_model_name": "HTMLModel",
            "placeholder": "​",
            "_view_module": "@jupyter-widgets/controls",
            "_model_module_version": "1.5.0",
            "value": " 40/40 [00:20&lt;00:00,  2.02it/s]",
            "_view_count": null,
            "_view_module_version": "1.5.0",
            "description_tooltip": null,
            "_model_module": "@jupyter-widgets/controls",
            "layout": "IPY_MODEL_4ad252283ff44d04aa2503c15d791ee7"
          }
        },
        "468e5ea333c24e0dadf2c096b5f6f27f": {
          "model_module": "@jupyter-widgets/controls",
          "model_name": "DescriptionStyleModel",
          "model_module_version": "1.5.0",
          "state": {
            "_view_name": "StyleView",
            "_model_name": "DescriptionStyleModel",
            "description_width": "",
            "_view_module": "@jupyter-widgets/base",
            "_model_module_version": "1.5.0",
            "_view_count": null,
            "_view_module_version": "1.2.0",
            "_model_module": "@jupyter-widgets/controls"
          }
        },
        "cdb4a555b3704e07b7efcaa554e878da": {
          "model_module": "@jupyter-widgets/base",
          "model_name": "LayoutModel",
          "model_module_version": "1.2.0",
          "state": {
            "_view_name": "LayoutView",
            "grid_template_rows": null,
            "right": null,
            "justify_content": null,
            "_view_module": "@jupyter-widgets/base",
            "overflow": null,
            "_model_module_version": "1.2.0",
            "_view_count": null,
            "flex_flow": null,
            "width": null,
            "min_width": null,
            "border": null,
            "align_items": null,
            "bottom": null,
            "_model_module": "@jupyter-widgets/base",
            "top": null,
            "grid_column": null,
            "overflow_y": null,
            "overflow_x": null,
            "grid_auto_flow": null,
            "grid_area": null,
            "grid_template_columns": null,
            "flex": null,
            "_model_name": "LayoutModel",
            "justify_items": null,
            "grid_row": null,
            "max_height": null,
            "align_content": null,
            "visibility": null,
            "align_self": null,
            "height": null,
            "min_height": null,
            "padding": null,
            "grid_auto_rows": null,
            "grid_gap": null,
            "max_width": null,
            "order": null,
            "_view_module_version": "1.2.0",
            "grid_template_areas": null,
            "object_position": null,
            "object_fit": null,
            "grid_auto_columns": null,
            "margin": null,
            "display": null,
            "left": null
          }
        },
        "20e5e71d5661466c88360394e57d9822": {
          "model_module": "@jupyter-widgets/controls",
          "model_name": "ProgressStyleModel",
          "model_module_version": "1.5.0",
          "state": {
            "_view_name": "StyleView",
            "_model_name": "ProgressStyleModel",
            "description_width": "",
            "_view_module": "@jupyter-widgets/base",
            "_model_module_version": "1.5.0",
            "_view_count": null,
            "_view_module_version": "1.2.0",
            "bar_color": null,
            "_model_module": "@jupyter-widgets/controls"
          }
        },
        "c693ff1bfea242c486b6bd60b6a5adc0": {
          "model_module": "@jupyter-widgets/base",
          "model_name": "LayoutModel",
          "model_module_version": "1.2.0",
          "state": {
            "_view_name": "LayoutView",
            "grid_template_rows": null,
            "right": null,
            "justify_content": null,
            "_view_module": "@jupyter-widgets/base",
            "overflow": null,
            "_model_module_version": "1.2.0",
            "_view_count": null,
            "flex_flow": null,
            "width": null,
            "min_width": null,
            "border": null,
            "align_items": null,
            "bottom": null,
            "_model_module": "@jupyter-widgets/base",
            "top": null,
            "grid_column": null,
            "overflow_y": null,
            "overflow_x": null,
            "grid_auto_flow": null,
            "grid_area": null,
            "grid_template_columns": null,
            "flex": null,
            "_model_name": "LayoutModel",
            "justify_items": null,
            "grid_row": null,
            "max_height": null,
            "align_content": null,
            "visibility": null,
            "align_self": null,
            "height": null,
            "min_height": null,
            "padding": null,
            "grid_auto_rows": null,
            "grid_gap": null,
            "max_width": null,
            "order": null,
            "_view_module_version": "1.2.0",
            "grid_template_areas": null,
            "object_position": null,
            "object_fit": null,
            "grid_auto_columns": null,
            "margin": null,
            "display": null,
            "left": null
          }
        },
        "93aa5f41f7134a1e834f5b9064fbc48a": {
          "model_module": "@jupyter-widgets/controls",
          "model_name": "DescriptionStyleModel",
          "model_module_version": "1.5.0",
          "state": {
            "_view_name": "StyleView",
            "_model_name": "DescriptionStyleModel",
            "description_width": "",
            "_view_module": "@jupyter-widgets/base",
            "_model_module_version": "1.5.0",
            "_view_count": null,
            "_view_module_version": "1.2.0",
            "_model_module": "@jupyter-widgets/controls"
          }
        },
        "4ad252283ff44d04aa2503c15d791ee7": {
          "model_module": "@jupyter-widgets/base",
          "model_name": "LayoutModel",
          "model_module_version": "1.2.0",
          "state": {
            "_view_name": "LayoutView",
            "grid_template_rows": null,
            "right": null,
            "justify_content": null,
            "_view_module": "@jupyter-widgets/base",
            "overflow": null,
            "_model_module_version": "1.2.0",
            "_view_count": null,
            "flex_flow": null,
            "width": null,
            "min_width": null,
            "border": null,
            "align_items": null,
            "bottom": null,
            "_model_module": "@jupyter-widgets/base",
            "top": null,
            "grid_column": null,
            "overflow_y": null,
            "overflow_x": null,
            "grid_auto_flow": null,
            "grid_area": null,
            "grid_template_columns": null,
            "flex": null,
            "_model_name": "LayoutModel",
            "justify_items": null,
            "grid_row": null,
            "max_height": null,
            "align_content": null,
            "visibility": null,
            "align_self": null,
            "height": null,
            "min_height": null,
            "padding": null,
            "grid_auto_rows": null,
            "grid_gap": null,
            "max_width": null,
            "order": null,
            "_view_module_version": "1.2.0",
            "grid_template_areas": null,
            "object_position": null,
            "object_fit": null,
            "grid_auto_columns": null,
            "margin": null,
            "display": null,
            "left": null
          }
        },
        "7171db30baee41ffa6da75bdfe9a2702": {
          "model_module": "@jupyter-widgets/controls",
          "model_name": "HBoxModel",
          "model_module_version": "1.5.0",
          "state": {
            "_view_name": "HBoxView",
            "_dom_classes": [],
            "_model_name": "HBoxModel",
            "_view_module": "@jupyter-widgets/controls",
            "_model_module_version": "1.5.0",
            "_view_count": null,
            "_view_module_version": "1.5.0",
            "box_style": "",
            "layout": "IPY_MODEL_7adefea17045415baec3d6f61c46b5b1",
            "_model_module": "@jupyter-widgets/controls",
            "children": [
              "IPY_MODEL_5cc686289801406e9994dd89d59fe4b8",
              "IPY_MODEL_581a9d89665a46b7b5552496ee36d5ca",
              "IPY_MODEL_07fdce45e52a4c5cb070c6d603bf9377"
            ]
          }
        },
        "7adefea17045415baec3d6f61c46b5b1": {
          "model_module": "@jupyter-widgets/base",
          "model_name": "LayoutModel",
          "model_module_version": "1.2.0",
          "state": {
            "_view_name": "LayoutView",
            "grid_template_rows": null,
            "right": null,
            "justify_content": null,
            "_view_module": "@jupyter-widgets/base",
            "overflow": null,
            "_model_module_version": "1.2.0",
            "_view_count": null,
            "flex_flow": null,
            "width": null,
            "min_width": null,
            "border": null,
            "align_items": null,
            "bottom": null,
            "_model_module": "@jupyter-widgets/base",
            "top": null,
            "grid_column": null,
            "overflow_y": null,
            "overflow_x": null,
            "grid_auto_flow": null,
            "grid_area": null,
            "grid_template_columns": null,
            "flex": null,
            "_model_name": "LayoutModel",
            "justify_items": null,
            "grid_row": null,
            "max_height": null,
            "align_content": null,
            "visibility": null,
            "align_self": null,
            "height": null,
            "min_height": null,
            "padding": null,
            "grid_auto_rows": null,
            "grid_gap": null,
            "max_width": null,
            "order": null,
            "_view_module_version": "1.2.0",
            "grid_template_areas": null,
            "object_position": null,
            "object_fit": null,
            "grid_auto_columns": null,
            "margin": null,
            "display": null,
            "left": null
          }
        },
        "5cc686289801406e9994dd89d59fe4b8": {
          "model_module": "@jupyter-widgets/controls",
          "model_name": "HTMLModel",
          "model_module_version": "1.5.0",
          "state": {
            "_view_name": "HTMLView",
            "style": "IPY_MODEL_2474ea816f544fd19f21756c66f7b7b8",
            "_dom_classes": [],
            "description": "",
            "_model_name": "HTMLModel",
            "placeholder": "​",
            "_view_module": "@jupyter-widgets/controls",
            "_model_module_version": "1.5.0",
            "value": "100%",
            "_view_count": null,
            "_view_module_version": "1.5.0",
            "description_tooltip": null,
            "_model_module": "@jupyter-widgets/controls",
            "layout": "IPY_MODEL_015f36b2d9d94495a585a15a6671cc16"
          }
        },
        "581a9d89665a46b7b5552496ee36d5ca": {
          "model_module": "@jupyter-widgets/controls",
          "model_name": "FloatProgressModel",
          "model_module_version": "1.5.0",
          "state": {
            "_view_name": "ProgressView",
            "style": "IPY_MODEL_71104dfe2cb64ceaa30a4975fde6f3ff",
            "_dom_classes": [],
            "description": "",
            "_model_name": "FloatProgressModel",
            "bar_style": "",
            "max": 40,
            "_view_module": "@jupyter-widgets/controls",
            "_model_module_version": "1.5.0",
            "value": 40,
            "_view_count": null,
            "_view_module_version": "1.5.0",
            "orientation": "horizontal",
            "min": 0,
            "description_tooltip": null,
            "_model_module": "@jupyter-widgets/controls",
            "layout": "IPY_MODEL_7481b39288924e3aacf42a0dd7d351b0"
          }
        },
        "07fdce45e52a4c5cb070c6d603bf9377": {
          "model_module": "@jupyter-widgets/controls",
          "model_name": "HTMLModel",
          "model_module_version": "1.5.0",
          "state": {
            "_view_name": "HTMLView",
            "style": "IPY_MODEL_29f2c966bc8249f3b00ed4e3a95b54c9",
            "_dom_classes": [],
            "description": "",
            "_model_name": "HTMLModel",
            "placeholder": "​",
            "_view_module": "@jupyter-widgets/controls",
            "_model_module_version": "1.5.0",
            "value": " 40/40 [00:20&lt;00:00,  2.00it/s]",
            "_view_count": null,
            "_view_module_version": "1.5.0",
            "description_tooltip": null,
            "_model_module": "@jupyter-widgets/controls",
            "layout": "IPY_MODEL_11370627d7f2496ab1fbd0597c92fbb0"
          }
        },
        "2474ea816f544fd19f21756c66f7b7b8": {
          "model_module": "@jupyter-widgets/controls",
          "model_name": "DescriptionStyleModel",
          "model_module_version": "1.5.0",
          "state": {
            "_view_name": "StyleView",
            "_model_name": "DescriptionStyleModel",
            "description_width": "",
            "_view_module": "@jupyter-widgets/base",
            "_model_module_version": "1.5.0",
            "_view_count": null,
            "_view_module_version": "1.2.0",
            "_model_module": "@jupyter-widgets/controls"
          }
        },
        "015f36b2d9d94495a585a15a6671cc16": {
          "model_module": "@jupyter-widgets/base",
          "model_name": "LayoutModel",
          "model_module_version": "1.2.0",
          "state": {
            "_view_name": "LayoutView",
            "grid_template_rows": null,
            "right": null,
            "justify_content": null,
            "_view_module": "@jupyter-widgets/base",
            "overflow": null,
            "_model_module_version": "1.2.0",
            "_view_count": null,
            "flex_flow": null,
            "width": null,
            "min_width": null,
            "border": null,
            "align_items": null,
            "bottom": null,
            "_model_module": "@jupyter-widgets/base",
            "top": null,
            "grid_column": null,
            "overflow_y": null,
            "overflow_x": null,
            "grid_auto_flow": null,
            "grid_area": null,
            "grid_template_columns": null,
            "flex": null,
            "_model_name": "LayoutModel",
            "justify_items": null,
            "grid_row": null,
            "max_height": null,
            "align_content": null,
            "visibility": null,
            "align_self": null,
            "height": null,
            "min_height": null,
            "padding": null,
            "grid_auto_rows": null,
            "grid_gap": null,
            "max_width": null,
            "order": null,
            "_view_module_version": "1.2.0",
            "grid_template_areas": null,
            "object_position": null,
            "object_fit": null,
            "grid_auto_columns": null,
            "margin": null,
            "display": null,
            "left": null
          }
        },
        "71104dfe2cb64ceaa30a4975fde6f3ff": {
          "model_module": "@jupyter-widgets/controls",
          "model_name": "ProgressStyleModel",
          "model_module_version": "1.5.0",
          "state": {
            "_view_name": "StyleView",
            "_model_name": "ProgressStyleModel",
            "description_width": "",
            "_view_module": "@jupyter-widgets/base",
            "_model_module_version": "1.5.0",
            "_view_count": null,
            "_view_module_version": "1.2.0",
            "bar_color": null,
            "_model_module": "@jupyter-widgets/controls"
          }
        },
        "7481b39288924e3aacf42a0dd7d351b0": {
          "model_module": "@jupyter-widgets/base",
          "model_name": "LayoutModel",
          "model_module_version": "1.2.0",
          "state": {
            "_view_name": "LayoutView",
            "grid_template_rows": null,
            "right": null,
            "justify_content": null,
            "_view_module": "@jupyter-widgets/base",
            "overflow": null,
            "_model_module_version": "1.2.0",
            "_view_count": null,
            "flex_flow": null,
            "width": null,
            "min_width": null,
            "border": null,
            "align_items": null,
            "bottom": null,
            "_model_module": "@jupyter-widgets/base",
            "top": null,
            "grid_column": null,
            "overflow_y": null,
            "overflow_x": null,
            "grid_auto_flow": null,
            "grid_area": null,
            "grid_template_columns": null,
            "flex": null,
            "_model_name": "LayoutModel",
            "justify_items": null,
            "grid_row": null,
            "max_height": null,
            "align_content": null,
            "visibility": null,
            "align_self": null,
            "height": null,
            "min_height": null,
            "padding": null,
            "grid_auto_rows": null,
            "grid_gap": null,
            "max_width": null,
            "order": null,
            "_view_module_version": "1.2.0",
            "grid_template_areas": null,
            "object_position": null,
            "object_fit": null,
            "grid_auto_columns": null,
            "margin": null,
            "display": null,
            "left": null
          }
        },
        "29f2c966bc8249f3b00ed4e3a95b54c9": {
          "model_module": "@jupyter-widgets/controls",
          "model_name": "DescriptionStyleModel",
          "model_module_version": "1.5.0",
          "state": {
            "_view_name": "StyleView",
            "_model_name": "DescriptionStyleModel",
            "description_width": "",
            "_view_module": "@jupyter-widgets/base",
            "_model_module_version": "1.5.0",
            "_view_count": null,
            "_view_module_version": "1.2.0",
            "_model_module": "@jupyter-widgets/controls"
          }
        },
        "11370627d7f2496ab1fbd0597c92fbb0": {
          "model_module": "@jupyter-widgets/base",
          "model_name": "LayoutModel",
          "model_module_version": "1.2.0",
          "state": {
            "_view_name": "LayoutView",
            "grid_template_rows": null,
            "right": null,
            "justify_content": null,
            "_view_module": "@jupyter-widgets/base",
            "overflow": null,
            "_model_module_version": "1.2.0",
            "_view_count": null,
            "flex_flow": null,
            "width": null,
            "min_width": null,
            "border": null,
            "align_items": null,
            "bottom": null,
            "_model_module": "@jupyter-widgets/base",
            "top": null,
            "grid_column": null,
            "overflow_y": null,
            "overflow_x": null,
            "grid_auto_flow": null,
            "grid_area": null,
            "grid_template_columns": null,
            "flex": null,
            "_model_name": "LayoutModel",
            "justify_items": null,
            "grid_row": null,
            "max_height": null,
            "align_content": null,
            "visibility": null,
            "align_self": null,
            "height": null,
            "min_height": null,
            "padding": null,
            "grid_auto_rows": null,
            "grid_gap": null,
            "max_width": null,
            "order": null,
            "_view_module_version": "1.2.0",
            "grid_template_areas": null,
            "object_position": null,
            "object_fit": null,
            "grid_auto_columns": null,
            "margin": null,
            "display": null,
            "left": null
          }
        },
        "73bea7ddd9824c0782da6054b4fff655": {
          "model_module": "@jupyter-widgets/controls",
          "model_name": "HBoxModel",
          "model_module_version": "1.5.0",
          "state": {
            "_view_name": "HBoxView",
            "_dom_classes": [],
            "_model_name": "HBoxModel",
            "_view_module": "@jupyter-widgets/controls",
            "_model_module_version": "1.5.0",
            "_view_count": null,
            "_view_module_version": "1.5.0",
            "box_style": "",
            "layout": "IPY_MODEL_79cf9782fce34c36a2543ab6fa6d00f5",
            "_model_module": "@jupyter-widgets/controls",
            "children": [
              "IPY_MODEL_d0b04343807845e5a6391be1d47f760b",
              "IPY_MODEL_7cd22b61492e4961bd7a1b5989059b47",
              "IPY_MODEL_faf3fb23158540c5aa98e4b5f05a13c6"
            ]
          }
        },
        "79cf9782fce34c36a2543ab6fa6d00f5": {
          "model_module": "@jupyter-widgets/base",
          "model_name": "LayoutModel",
          "model_module_version": "1.2.0",
          "state": {
            "_view_name": "LayoutView",
            "grid_template_rows": null,
            "right": null,
            "justify_content": null,
            "_view_module": "@jupyter-widgets/base",
            "overflow": null,
            "_model_module_version": "1.2.0",
            "_view_count": null,
            "flex_flow": null,
            "width": null,
            "min_width": null,
            "border": null,
            "align_items": null,
            "bottom": null,
            "_model_module": "@jupyter-widgets/base",
            "top": null,
            "grid_column": null,
            "overflow_y": null,
            "overflow_x": null,
            "grid_auto_flow": null,
            "grid_area": null,
            "grid_template_columns": null,
            "flex": null,
            "_model_name": "LayoutModel",
            "justify_items": null,
            "grid_row": null,
            "max_height": null,
            "align_content": null,
            "visibility": null,
            "align_self": null,
            "height": null,
            "min_height": null,
            "padding": null,
            "grid_auto_rows": null,
            "grid_gap": null,
            "max_width": null,
            "order": null,
            "_view_module_version": "1.2.0",
            "grid_template_areas": null,
            "object_position": null,
            "object_fit": null,
            "grid_auto_columns": null,
            "margin": null,
            "display": null,
            "left": null
          }
        },
        "d0b04343807845e5a6391be1d47f760b": {
          "model_module": "@jupyter-widgets/controls",
          "model_name": "HTMLModel",
          "model_module_version": "1.5.0",
          "state": {
            "_view_name": "HTMLView",
            "style": "IPY_MODEL_050ccaf9fb44458cb536febfd509a202",
            "_dom_classes": [],
            "description": "",
            "_model_name": "HTMLModel",
            "placeholder": "​",
            "_view_module": "@jupyter-widgets/controls",
            "_model_module_version": "1.5.0",
            "value": "100%",
            "_view_count": null,
            "_view_module_version": "1.5.0",
            "description_tooltip": null,
            "_model_module": "@jupyter-widgets/controls",
            "layout": "IPY_MODEL_53f921a1f99f46d0b684022fe12a18c6"
          }
        },
        "7cd22b61492e4961bd7a1b5989059b47": {
          "model_module": "@jupyter-widgets/controls",
          "model_name": "FloatProgressModel",
          "model_module_version": "1.5.0",
          "state": {
            "_view_name": "ProgressView",
            "style": "IPY_MODEL_af87ebbfcb2444279b6f9f19691da391",
            "_dom_classes": [],
            "description": "",
            "_model_name": "FloatProgressModel",
            "bar_style": "",
            "max": 40,
            "_view_module": "@jupyter-widgets/controls",
            "_model_module_version": "1.5.0",
            "value": 40,
            "_view_count": null,
            "_view_module_version": "1.5.0",
            "orientation": "horizontal",
            "min": 0,
            "description_tooltip": null,
            "_model_module": "@jupyter-widgets/controls",
            "layout": "IPY_MODEL_92945feb3b1245cda026624cdb1ffc6a"
          }
        },
        "faf3fb23158540c5aa98e4b5f05a13c6": {
          "model_module": "@jupyter-widgets/controls",
          "model_name": "HTMLModel",
          "model_module_version": "1.5.0",
          "state": {
            "_view_name": "HTMLView",
            "style": "IPY_MODEL_8bcf151b763442aeaa797126e6efbae1",
            "_dom_classes": [],
            "description": "",
            "_model_name": "HTMLModel",
            "placeholder": "​",
            "_view_module": "@jupyter-widgets/controls",
            "_model_module_version": "1.5.0",
            "value": " 40/40 [00:20&lt;00:00,  1.93it/s]",
            "_view_count": null,
            "_view_module_version": "1.5.0",
            "description_tooltip": null,
            "_model_module": "@jupyter-widgets/controls",
            "layout": "IPY_MODEL_96f9743c9f1a4a79b6f7b842b4cc6cb4"
          }
        },
        "050ccaf9fb44458cb536febfd509a202": {
          "model_module": "@jupyter-widgets/controls",
          "model_name": "DescriptionStyleModel",
          "model_module_version": "1.5.0",
          "state": {
            "_view_name": "StyleView",
            "_model_name": "DescriptionStyleModel",
            "description_width": "",
            "_view_module": "@jupyter-widgets/base",
            "_model_module_version": "1.5.0",
            "_view_count": null,
            "_view_module_version": "1.2.0",
            "_model_module": "@jupyter-widgets/controls"
          }
        },
        "53f921a1f99f46d0b684022fe12a18c6": {
          "model_module": "@jupyter-widgets/base",
          "model_name": "LayoutModel",
          "model_module_version": "1.2.0",
          "state": {
            "_view_name": "LayoutView",
            "grid_template_rows": null,
            "right": null,
            "justify_content": null,
            "_view_module": "@jupyter-widgets/base",
            "overflow": null,
            "_model_module_version": "1.2.0",
            "_view_count": null,
            "flex_flow": null,
            "width": null,
            "min_width": null,
            "border": null,
            "align_items": null,
            "bottom": null,
            "_model_module": "@jupyter-widgets/base",
            "top": null,
            "grid_column": null,
            "overflow_y": null,
            "overflow_x": null,
            "grid_auto_flow": null,
            "grid_area": null,
            "grid_template_columns": null,
            "flex": null,
            "_model_name": "LayoutModel",
            "justify_items": null,
            "grid_row": null,
            "max_height": null,
            "align_content": null,
            "visibility": null,
            "align_self": null,
            "height": null,
            "min_height": null,
            "padding": null,
            "grid_auto_rows": null,
            "grid_gap": null,
            "max_width": null,
            "order": null,
            "_view_module_version": "1.2.0",
            "grid_template_areas": null,
            "object_position": null,
            "object_fit": null,
            "grid_auto_columns": null,
            "margin": null,
            "display": null,
            "left": null
          }
        },
        "af87ebbfcb2444279b6f9f19691da391": {
          "model_module": "@jupyter-widgets/controls",
          "model_name": "ProgressStyleModel",
          "model_module_version": "1.5.0",
          "state": {
            "_view_name": "StyleView",
            "_model_name": "ProgressStyleModel",
            "description_width": "",
            "_view_module": "@jupyter-widgets/base",
            "_model_module_version": "1.5.0",
            "_view_count": null,
            "_view_module_version": "1.2.0",
            "bar_color": null,
            "_model_module": "@jupyter-widgets/controls"
          }
        },
        "92945feb3b1245cda026624cdb1ffc6a": {
          "model_module": "@jupyter-widgets/base",
          "model_name": "LayoutModel",
          "model_module_version": "1.2.0",
          "state": {
            "_view_name": "LayoutView",
            "grid_template_rows": null,
            "right": null,
            "justify_content": null,
            "_view_module": "@jupyter-widgets/base",
            "overflow": null,
            "_model_module_version": "1.2.0",
            "_view_count": null,
            "flex_flow": null,
            "width": null,
            "min_width": null,
            "border": null,
            "align_items": null,
            "bottom": null,
            "_model_module": "@jupyter-widgets/base",
            "top": null,
            "grid_column": null,
            "overflow_y": null,
            "overflow_x": null,
            "grid_auto_flow": null,
            "grid_area": null,
            "grid_template_columns": null,
            "flex": null,
            "_model_name": "LayoutModel",
            "justify_items": null,
            "grid_row": null,
            "max_height": null,
            "align_content": null,
            "visibility": null,
            "align_self": null,
            "height": null,
            "min_height": null,
            "padding": null,
            "grid_auto_rows": null,
            "grid_gap": null,
            "max_width": null,
            "order": null,
            "_view_module_version": "1.2.0",
            "grid_template_areas": null,
            "object_position": null,
            "object_fit": null,
            "grid_auto_columns": null,
            "margin": null,
            "display": null,
            "left": null
          }
        },
        "8bcf151b763442aeaa797126e6efbae1": {
          "model_module": "@jupyter-widgets/controls",
          "model_name": "DescriptionStyleModel",
          "model_module_version": "1.5.0",
          "state": {
            "_view_name": "StyleView",
            "_model_name": "DescriptionStyleModel",
            "description_width": "",
            "_view_module": "@jupyter-widgets/base",
            "_model_module_version": "1.5.0",
            "_view_count": null,
            "_view_module_version": "1.2.0",
            "_model_module": "@jupyter-widgets/controls"
          }
        },
        "96f9743c9f1a4a79b6f7b842b4cc6cb4": {
          "model_module": "@jupyter-widgets/base",
          "model_name": "LayoutModel",
          "model_module_version": "1.2.0",
          "state": {
            "_view_name": "LayoutView",
            "grid_template_rows": null,
            "right": null,
            "justify_content": null,
            "_view_module": "@jupyter-widgets/base",
            "overflow": null,
            "_model_module_version": "1.2.0",
            "_view_count": null,
            "flex_flow": null,
            "width": null,
            "min_width": null,
            "border": null,
            "align_items": null,
            "bottom": null,
            "_model_module": "@jupyter-widgets/base",
            "top": null,
            "grid_column": null,
            "overflow_y": null,
            "overflow_x": null,
            "grid_auto_flow": null,
            "grid_area": null,
            "grid_template_columns": null,
            "flex": null,
            "_model_name": "LayoutModel",
            "justify_items": null,
            "grid_row": null,
            "max_height": null,
            "align_content": null,
            "visibility": null,
            "align_self": null,
            "height": null,
            "min_height": null,
            "padding": null,
            "grid_auto_rows": null,
            "grid_gap": null,
            "max_width": null,
            "order": null,
            "_view_module_version": "1.2.0",
            "grid_template_areas": null,
            "object_position": null,
            "object_fit": null,
            "grid_auto_columns": null,
            "margin": null,
            "display": null,
            "left": null
          }
        },
        "2bbabd0d832d4c29a630537fe40e1044": {
          "model_module": "@jupyter-widgets/controls",
          "model_name": "HBoxModel",
          "model_module_version": "1.5.0",
          "state": {
            "_view_name": "HBoxView",
            "_dom_classes": [],
            "_model_name": "HBoxModel",
            "_view_module": "@jupyter-widgets/controls",
            "_model_module_version": "1.5.0",
            "_view_count": null,
            "_view_module_version": "1.5.0",
            "box_style": "",
            "layout": "IPY_MODEL_35a9fcee24a04887bfed54a62fd4d840",
            "_model_module": "@jupyter-widgets/controls",
            "children": [
              "IPY_MODEL_8e2259315b1545c58ea680784b4d1c0c",
              "IPY_MODEL_93c7752bf2cd42fbb405d6c1d0f74d4b",
              "IPY_MODEL_169ebf19263648dc86b9a6fc8e363a91"
            ]
          }
        },
        "35a9fcee24a04887bfed54a62fd4d840": {
          "model_module": "@jupyter-widgets/base",
          "model_name": "LayoutModel",
          "model_module_version": "1.2.0",
          "state": {
            "_view_name": "LayoutView",
            "grid_template_rows": null,
            "right": null,
            "justify_content": null,
            "_view_module": "@jupyter-widgets/base",
            "overflow": null,
            "_model_module_version": "1.2.0",
            "_view_count": null,
            "flex_flow": null,
            "width": null,
            "min_width": null,
            "border": null,
            "align_items": null,
            "bottom": null,
            "_model_module": "@jupyter-widgets/base",
            "top": null,
            "grid_column": null,
            "overflow_y": null,
            "overflow_x": null,
            "grid_auto_flow": null,
            "grid_area": null,
            "grid_template_columns": null,
            "flex": null,
            "_model_name": "LayoutModel",
            "justify_items": null,
            "grid_row": null,
            "max_height": null,
            "align_content": null,
            "visibility": null,
            "align_self": null,
            "height": null,
            "min_height": null,
            "padding": null,
            "grid_auto_rows": null,
            "grid_gap": null,
            "max_width": null,
            "order": null,
            "_view_module_version": "1.2.0",
            "grid_template_areas": null,
            "object_position": null,
            "object_fit": null,
            "grid_auto_columns": null,
            "margin": null,
            "display": null,
            "left": null
          }
        },
        "8e2259315b1545c58ea680784b4d1c0c": {
          "model_module": "@jupyter-widgets/controls",
          "model_name": "HTMLModel",
          "model_module_version": "1.5.0",
          "state": {
            "_view_name": "HTMLView",
            "style": "IPY_MODEL_63dbaeccc20e42ad8d31149f484d31b3",
            "_dom_classes": [],
            "description": "",
            "_model_name": "HTMLModel",
            "placeholder": "​",
            "_view_module": "@jupyter-widgets/controls",
            "_model_module_version": "1.5.0",
            "value": "100%",
            "_view_count": null,
            "_view_module_version": "1.5.0",
            "description_tooltip": null,
            "_model_module": "@jupyter-widgets/controls",
            "layout": "IPY_MODEL_acc1eb432db1413f86a34843c14bf38f"
          }
        },
        "93c7752bf2cd42fbb405d6c1d0f74d4b": {
          "model_module": "@jupyter-widgets/controls",
          "model_name": "FloatProgressModel",
          "model_module_version": "1.5.0",
          "state": {
            "_view_name": "ProgressView",
            "style": "IPY_MODEL_bbb084126e95488b90b87b386aabae0a",
            "_dom_classes": [],
            "description": "",
            "_model_name": "FloatProgressModel",
            "bar_style": "",
            "max": 40,
            "_view_module": "@jupyter-widgets/controls",
            "_model_module_version": "1.5.0",
            "value": 40,
            "_view_count": null,
            "_view_module_version": "1.5.0",
            "orientation": "horizontal",
            "min": 0,
            "description_tooltip": null,
            "_model_module": "@jupyter-widgets/controls",
            "layout": "IPY_MODEL_e64433e9658441d7a26347f5b9265bba"
          }
        },
        "169ebf19263648dc86b9a6fc8e363a91": {
          "model_module": "@jupyter-widgets/controls",
          "model_name": "HTMLModel",
          "model_module_version": "1.5.0",
          "state": {
            "_view_name": "HTMLView",
            "style": "IPY_MODEL_4542282fb20e4c66ad792733d03ec73f",
            "_dom_classes": [],
            "description": "",
            "_model_name": "HTMLModel",
            "placeholder": "​",
            "_view_module": "@jupyter-widgets/controls",
            "_model_module_version": "1.5.0",
            "value": " 40/40 [00:20&lt;00:00,  1.96it/s]",
            "_view_count": null,
            "_view_module_version": "1.5.0",
            "description_tooltip": null,
            "_model_module": "@jupyter-widgets/controls",
            "layout": "IPY_MODEL_fd29b7a071794b6485322c93c89b98d9"
          }
        },
        "63dbaeccc20e42ad8d31149f484d31b3": {
          "model_module": "@jupyter-widgets/controls",
          "model_name": "DescriptionStyleModel",
          "model_module_version": "1.5.0",
          "state": {
            "_view_name": "StyleView",
            "_model_name": "DescriptionStyleModel",
            "description_width": "",
            "_view_module": "@jupyter-widgets/base",
            "_model_module_version": "1.5.0",
            "_view_count": null,
            "_view_module_version": "1.2.0",
            "_model_module": "@jupyter-widgets/controls"
          }
        },
        "acc1eb432db1413f86a34843c14bf38f": {
          "model_module": "@jupyter-widgets/base",
          "model_name": "LayoutModel",
          "model_module_version": "1.2.0",
          "state": {
            "_view_name": "LayoutView",
            "grid_template_rows": null,
            "right": null,
            "justify_content": null,
            "_view_module": "@jupyter-widgets/base",
            "overflow": null,
            "_model_module_version": "1.2.0",
            "_view_count": null,
            "flex_flow": null,
            "width": null,
            "min_width": null,
            "border": null,
            "align_items": null,
            "bottom": null,
            "_model_module": "@jupyter-widgets/base",
            "top": null,
            "grid_column": null,
            "overflow_y": null,
            "overflow_x": null,
            "grid_auto_flow": null,
            "grid_area": null,
            "grid_template_columns": null,
            "flex": null,
            "_model_name": "LayoutModel",
            "justify_items": null,
            "grid_row": null,
            "max_height": null,
            "align_content": null,
            "visibility": null,
            "align_self": null,
            "height": null,
            "min_height": null,
            "padding": null,
            "grid_auto_rows": null,
            "grid_gap": null,
            "max_width": null,
            "order": null,
            "_view_module_version": "1.2.0",
            "grid_template_areas": null,
            "object_position": null,
            "object_fit": null,
            "grid_auto_columns": null,
            "margin": null,
            "display": null,
            "left": null
          }
        },
        "bbb084126e95488b90b87b386aabae0a": {
          "model_module": "@jupyter-widgets/controls",
          "model_name": "ProgressStyleModel",
          "model_module_version": "1.5.0",
          "state": {
            "_view_name": "StyleView",
            "_model_name": "ProgressStyleModel",
            "description_width": "",
            "_view_module": "@jupyter-widgets/base",
            "_model_module_version": "1.5.0",
            "_view_count": null,
            "_view_module_version": "1.2.0",
            "bar_color": null,
            "_model_module": "@jupyter-widgets/controls"
          }
        },
        "e64433e9658441d7a26347f5b9265bba": {
          "model_module": "@jupyter-widgets/base",
          "model_name": "LayoutModel",
          "model_module_version": "1.2.0",
          "state": {
            "_view_name": "LayoutView",
            "grid_template_rows": null,
            "right": null,
            "justify_content": null,
            "_view_module": "@jupyter-widgets/base",
            "overflow": null,
            "_model_module_version": "1.2.0",
            "_view_count": null,
            "flex_flow": null,
            "width": null,
            "min_width": null,
            "border": null,
            "align_items": null,
            "bottom": null,
            "_model_module": "@jupyter-widgets/base",
            "top": null,
            "grid_column": null,
            "overflow_y": null,
            "overflow_x": null,
            "grid_auto_flow": null,
            "grid_area": null,
            "grid_template_columns": null,
            "flex": null,
            "_model_name": "LayoutModel",
            "justify_items": null,
            "grid_row": null,
            "max_height": null,
            "align_content": null,
            "visibility": null,
            "align_self": null,
            "height": null,
            "min_height": null,
            "padding": null,
            "grid_auto_rows": null,
            "grid_gap": null,
            "max_width": null,
            "order": null,
            "_view_module_version": "1.2.0",
            "grid_template_areas": null,
            "object_position": null,
            "object_fit": null,
            "grid_auto_columns": null,
            "margin": null,
            "display": null,
            "left": null
          }
        },
        "4542282fb20e4c66ad792733d03ec73f": {
          "model_module": "@jupyter-widgets/controls",
          "model_name": "DescriptionStyleModel",
          "model_module_version": "1.5.0",
          "state": {
            "_view_name": "StyleView",
            "_model_name": "DescriptionStyleModel",
            "description_width": "",
            "_view_module": "@jupyter-widgets/base",
            "_model_module_version": "1.5.0",
            "_view_count": null,
            "_view_module_version": "1.2.0",
            "_model_module": "@jupyter-widgets/controls"
          }
        },
        "fd29b7a071794b6485322c93c89b98d9": {
          "model_module": "@jupyter-widgets/base",
          "model_name": "LayoutModel",
          "model_module_version": "1.2.0",
          "state": {
            "_view_name": "LayoutView",
            "grid_template_rows": null,
            "right": null,
            "justify_content": null,
            "_view_module": "@jupyter-widgets/base",
            "overflow": null,
            "_model_module_version": "1.2.0",
            "_view_count": null,
            "flex_flow": null,
            "width": null,
            "min_width": null,
            "border": null,
            "align_items": null,
            "bottom": null,
            "_model_module": "@jupyter-widgets/base",
            "top": null,
            "grid_column": null,
            "overflow_y": null,
            "overflow_x": null,
            "grid_auto_flow": null,
            "grid_area": null,
            "grid_template_columns": null,
            "flex": null,
            "_model_name": "LayoutModel",
            "justify_items": null,
            "grid_row": null,
            "max_height": null,
            "align_content": null,
            "visibility": null,
            "align_self": null,
            "height": null,
            "min_height": null,
            "padding": null,
            "grid_auto_rows": null,
            "grid_gap": null,
            "max_width": null,
            "order": null,
            "_view_module_version": "1.2.0",
            "grid_template_areas": null,
            "object_position": null,
            "object_fit": null,
            "grid_auto_columns": null,
            "margin": null,
            "display": null,
            "left": null
          }
        },
        "c2eeeabee6b848118e7119b7319161b0": {
          "model_module": "@jupyter-widgets/controls",
          "model_name": "HBoxModel",
          "model_module_version": "1.5.0",
          "state": {
            "_view_name": "HBoxView",
            "_dom_classes": [],
            "_model_name": "HBoxModel",
            "_view_module": "@jupyter-widgets/controls",
            "_model_module_version": "1.5.0",
            "_view_count": null,
            "_view_module_version": "1.5.0",
            "box_style": "",
            "layout": "IPY_MODEL_c2d7b47bf0c34a78b0388cd05f65a68c",
            "_model_module": "@jupyter-widgets/controls",
            "children": [
              "IPY_MODEL_96b85048d73541cb87519f79e7bc0d15",
              "IPY_MODEL_f5bd1f9d922b429090d1a7b160a78da7",
              "IPY_MODEL_28e667e418064b17a77a4136f25809cd"
            ]
          }
        },
        "c2d7b47bf0c34a78b0388cd05f65a68c": {
          "model_module": "@jupyter-widgets/base",
          "model_name": "LayoutModel",
          "model_module_version": "1.2.0",
          "state": {
            "_view_name": "LayoutView",
            "grid_template_rows": null,
            "right": null,
            "justify_content": null,
            "_view_module": "@jupyter-widgets/base",
            "overflow": null,
            "_model_module_version": "1.2.0",
            "_view_count": null,
            "flex_flow": null,
            "width": null,
            "min_width": null,
            "border": null,
            "align_items": null,
            "bottom": null,
            "_model_module": "@jupyter-widgets/base",
            "top": null,
            "grid_column": null,
            "overflow_y": null,
            "overflow_x": null,
            "grid_auto_flow": null,
            "grid_area": null,
            "grid_template_columns": null,
            "flex": null,
            "_model_name": "LayoutModel",
            "justify_items": null,
            "grid_row": null,
            "max_height": null,
            "align_content": null,
            "visibility": null,
            "align_self": null,
            "height": null,
            "min_height": null,
            "padding": null,
            "grid_auto_rows": null,
            "grid_gap": null,
            "max_width": null,
            "order": null,
            "_view_module_version": "1.2.0",
            "grid_template_areas": null,
            "object_position": null,
            "object_fit": null,
            "grid_auto_columns": null,
            "margin": null,
            "display": null,
            "left": null
          }
        },
        "96b85048d73541cb87519f79e7bc0d15": {
          "model_module": "@jupyter-widgets/controls",
          "model_name": "HTMLModel",
          "model_module_version": "1.5.0",
          "state": {
            "_view_name": "HTMLView",
            "style": "IPY_MODEL_7a0ea94e66f0462aaa7204a1deb0ec79",
            "_dom_classes": [],
            "description": "",
            "_model_name": "HTMLModel",
            "placeholder": "​",
            "_view_module": "@jupyter-widgets/controls",
            "_model_module_version": "1.5.0",
            "value": "100%",
            "_view_count": null,
            "_view_module_version": "1.5.0",
            "description_tooltip": null,
            "_model_module": "@jupyter-widgets/controls",
            "layout": "IPY_MODEL_b9cbdc272b0a42b68ebee94842d11fd0"
          }
        },
        "f5bd1f9d922b429090d1a7b160a78da7": {
          "model_module": "@jupyter-widgets/controls",
          "model_name": "FloatProgressModel",
          "model_module_version": "1.5.0",
          "state": {
            "_view_name": "ProgressView",
            "style": "IPY_MODEL_391b71c9d32249c2bfb90cba85ee2e00",
            "_dom_classes": [],
            "description": "",
            "_model_name": "FloatProgressModel",
            "bar_style": "",
            "max": 40,
            "_view_module": "@jupyter-widgets/controls",
            "_model_module_version": "1.5.0",
            "value": 40,
            "_view_count": null,
            "_view_module_version": "1.5.0",
            "orientation": "horizontal",
            "min": 0,
            "description_tooltip": null,
            "_model_module": "@jupyter-widgets/controls",
            "layout": "IPY_MODEL_2941f53322754fd0bf80ea02e4474d44"
          }
        },
        "28e667e418064b17a77a4136f25809cd": {
          "model_module": "@jupyter-widgets/controls",
          "model_name": "HTMLModel",
          "model_module_version": "1.5.0",
          "state": {
            "_view_name": "HTMLView",
            "style": "IPY_MODEL_a4af36189b99444693b310cdb4bff70c",
            "_dom_classes": [],
            "description": "",
            "_model_name": "HTMLModel",
            "placeholder": "​",
            "_view_module": "@jupyter-widgets/controls",
            "_model_module_version": "1.5.0",
            "value": " 40/40 [00:20&lt;00:00,  1.97it/s]",
            "_view_count": null,
            "_view_module_version": "1.5.0",
            "description_tooltip": null,
            "_model_module": "@jupyter-widgets/controls",
            "layout": "IPY_MODEL_66dd080b73364013a3438dad51ec2d22"
          }
        },
        "7a0ea94e66f0462aaa7204a1deb0ec79": {
          "model_module": "@jupyter-widgets/controls",
          "model_name": "DescriptionStyleModel",
          "model_module_version": "1.5.0",
          "state": {
            "_view_name": "StyleView",
            "_model_name": "DescriptionStyleModel",
            "description_width": "",
            "_view_module": "@jupyter-widgets/base",
            "_model_module_version": "1.5.0",
            "_view_count": null,
            "_view_module_version": "1.2.0",
            "_model_module": "@jupyter-widgets/controls"
          }
        },
        "b9cbdc272b0a42b68ebee94842d11fd0": {
          "model_module": "@jupyter-widgets/base",
          "model_name": "LayoutModel",
          "model_module_version": "1.2.0",
          "state": {
            "_view_name": "LayoutView",
            "grid_template_rows": null,
            "right": null,
            "justify_content": null,
            "_view_module": "@jupyter-widgets/base",
            "overflow": null,
            "_model_module_version": "1.2.0",
            "_view_count": null,
            "flex_flow": null,
            "width": null,
            "min_width": null,
            "border": null,
            "align_items": null,
            "bottom": null,
            "_model_module": "@jupyter-widgets/base",
            "top": null,
            "grid_column": null,
            "overflow_y": null,
            "overflow_x": null,
            "grid_auto_flow": null,
            "grid_area": null,
            "grid_template_columns": null,
            "flex": null,
            "_model_name": "LayoutModel",
            "justify_items": null,
            "grid_row": null,
            "max_height": null,
            "align_content": null,
            "visibility": null,
            "align_self": null,
            "height": null,
            "min_height": null,
            "padding": null,
            "grid_auto_rows": null,
            "grid_gap": null,
            "max_width": null,
            "order": null,
            "_view_module_version": "1.2.0",
            "grid_template_areas": null,
            "object_position": null,
            "object_fit": null,
            "grid_auto_columns": null,
            "margin": null,
            "display": null,
            "left": null
          }
        },
        "391b71c9d32249c2bfb90cba85ee2e00": {
          "model_module": "@jupyter-widgets/controls",
          "model_name": "ProgressStyleModel",
          "model_module_version": "1.5.0",
          "state": {
            "_view_name": "StyleView",
            "_model_name": "ProgressStyleModel",
            "description_width": "",
            "_view_module": "@jupyter-widgets/base",
            "_model_module_version": "1.5.0",
            "_view_count": null,
            "_view_module_version": "1.2.0",
            "bar_color": null,
            "_model_module": "@jupyter-widgets/controls"
          }
        },
        "2941f53322754fd0bf80ea02e4474d44": {
          "model_module": "@jupyter-widgets/base",
          "model_name": "LayoutModel",
          "model_module_version": "1.2.0",
          "state": {
            "_view_name": "LayoutView",
            "grid_template_rows": null,
            "right": null,
            "justify_content": null,
            "_view_module": "@jupyter-widgets/base",
            "overflow": null,
            "_model_module_version": "1.2.0",
            "_view_count": null,
            "flex_flow": null,
            "width": null,
            "min_width": null,
            "border": null,
            "align_items": null,
            "bottom": null,
            "_model_module": "@jupyter-widgets/base",
            "top": null,
            "grid_column": null,
            "overflow_y": null,
            "overflow_x": null,
            "grid_auto_flow": null,
            "grid_area": null,
            "grid_template_columns": null,
            "flex": null,
            "_model_name": "LayoutModel",
            "justify_items": null,
            "grid_row": null,
            "max_height": null,
            "align_content": null,
            "visibility": null,
            "align_self": null,
            "height": null,
            "min_height": null,
            "padding": null,
            "grid_auto_rows": null,
            "grid_gap": null,
            "max_width": null,
            "order": null,
            "_view_module_version": "1.2.0",
            "grid_template_areas": null,
            "object_position": null,
            "object_fit": null,
            "grid_auto_columns": null,
            "margin": null,
            "display": null,
            "left": null
          }
        },
        "a4af36189b99444693b310cdb4bff70c": {
          "model_module": "@jupyter-widgets/controls",
          "model_name": "DescriptionStyleModel",
          "model_module_version": "1.5.0",
          "state": {
            "_view_name": "StyleView",
            "_model_name": "DescriptionStyleModel",
            "description_width": "",
            "_view_module": "@jupyter-widgets/base",
            "_model_module_version": "1.5.0",
            "_view_count": null,
            "_view_module_version": "1.2.0",
            "_model_module": "@jupyter-widgets/controls"
          }
        },
        "66dd080b73364013a3438dad51ec2d22": {
          "model_module": "@jupyter-widgets/base",
          "model_name": "LayoutModel",
          "model_module_version": "1.2.0",
          "state": {
            "_view_name": "LayoutView",
            "grid_template_rows": null,
            "right": null,
            "justify_content": null,
            "_view_module": "@jupyter-widgets/base",
            "overflow": null,
            "_model_module_version": "1.2.0",
            "_view_count": null,
            "flex_flow": null,
            "width": null,
            "min_width": null,
            "border": null,
            "align_items": null,
            "bottom": null,
            "_model_module": "@jupyter-widgets/base",
            "top": null,
            "grid_column": null,
            "overflow_y": null,
            "overflow_x": null,
            "grid_auto_flow": null,
            "grid_area": null,
            "grid_template_columns": null,
            "flex": null,
            "_model_name": "LayoutModel",
            "justify_items": null,
            "grid_row": null,
            "max_height": null,
            "align_content": null,
            "visibility": null,
            "align_self": null,
            "height": null,
            "min_height": null,
            "padding": null,
            "grid_auto_rows": null,
            "grid_gap": null,
            "max_width": null,
            "order": null,
            "_view_module_version": "1.2.0",
            "grid_template_areas": null,
            "object_position": null,
            "object_fit": null,
            "grid_auto_columns": null,
            "margin": null,
            "display": null,
            "left": null
          }
        }
      }
    }
  },
  "cells": [
    {
      "cell_type": "markdown",
      "metadata": {
        "id": "PRBPKSXa24a-"
      },
      "source": [
        "# PyTorch Lab 2\n",
        "\n",
        "Written by Prachya Boonkwan (Arm)"
      ]
    },
    {
      "cell_type": "code",
      "metadata": {
        "id": "pCaxA5Pn3pP7"
      },
      "source": [
        "# !pip install -q http://download.pytorch.org/whl/cpu/torch-0.4.1-cp36-cp36m-linux_x86_64.whl torchvision tqdm\n",
        "!pip install -q torch torchvision tqdm"
      ],
      "execution_count": null,
      "outputs": []
    },
    {
      "cell_type": "markdown",
      "metadata": {
        "id": "mJNcUfxw0WPv"
      },
      "source": [
        "# `https://tinyurl.com/yahnrgfl` "
      ]
    },
    {
      "cell_type": "markdown",
      "metadata": {
        "id": "7Dj7kWXn24bD"
      },
      "source": [
        "## Learning the XOR Gate"
      ]
    },
    {
      "cell_type": "markdown",
      "metadata": {
        "id": "9TZ9YTdk24bH"
      },
      "source": [
        "In this workshop, we are going to imitate the XOR (eXclusive OR) gate with a multilayer perceptron."
      ]
    },
    {
      "cell_type": "markdown",
      "metadata": {
        "id": "khDyjgXz24bL"
      },
      "source": [
        "## Header"
      ]
    },
    {
      "cell_type": "markdown",
      "metadata": {
        "id": "ZIQNYFlF24bR"
      },
      "source": [
        "This part is the header of the code. My favorite import aliases for PyTorch are as follows. This will be very useful for speed coding."
      ]
    },
    {
      "cell_type": "code",
      "metadata": {
        "id": "VSb_nQXv24bU"
      },
      "source": [
        "#!/usr/bin/env python3\n",
        "#-*- coding: utf-8 -*-\n",
        "\n",
        "import torch as T\n",
        "import torch.nn as N\n",
        "import torch.optim as O\n",
        "\n",
        "from tqdm.autonotebook import tqdm    # Nice progressbar\n",
        "import matplotlib.pyplot as plt\n",
        "%matplotlib inline\n",
        "\n",
        "import random"
      ],
      "execution_count": null,
      "outputs": []
    },
    {
      "cell_type": "markdown",
      "metadata": {
        "id": "Y-7foEqj24be"
      },
      "source": [
        "-----"
      ]
    },
    {
      "cell_type": "markdown",
      "metadata": {
        "id": "Gt1H1TNy24bj"
      },
      "source": [
        "## Neural Networks as Linear Transformation"
      ]
    },
    {
      "cell_type": "markdown",
      "metadata": {
        "id": "EEEea_-H24bm"
      },
      "source": [
        "### Linear Layer"
      ]
    },
    {
      "cell_type": "markdown",
      "metadata": {
        "id": "QY1O1Hn224bp"
      },
      "source": [
        "In a nutshell, the simplest form of neural networks is a series of linear transformation layers. We can create a linear transformation layer, or *linear layer*, by the command `N.Linear`. For example, this is how we create a linear layer that takes 5 input units and produces 3 output units."
      ]
    },
    {
      "cell_type": "code",
      "metadata": {
        "id": "1j1xvjcM24br",
        "colab": {
          "base_uri": "https://localhost:8080/"
        },
        "outputId": "1381a459-96cd-4db4-e1f6-89f77f6b6f38"
      },
      "source": [
        "linear_layer = N.Linear(5, 3)\n",
        "print(linear_layer)"
      ],
      "execution_count": null,
      "outputs": [
        {
          "output_type": "stream",
          "name": "stdout",
          "text": [
            "Linear(in_features=5, out_features=3, bias=True)\n"
          ]
        }
      ]
    },
    {
      "cell_type": "markdown",
      "metadata": {
        "id": "_mD89A4K24b5"
      },
      "source": [
        "This linear layer takes an input vector of size 5 and produces an output vector of size 3. In fact, a linear layer is equivalent to a matrix of the corresponding size. For example, `N.Linear(5, 3)` is equivalent to a matrix $\\mathbf{A}$ of dimension 5 × 3.\n",
        "\n",
        "$$\n",
        "\\begin{eqnarray}\n",
        "    \\left[ \\mathbf{v}_\\textrm{out} \\right]_{3} & = & \\left( \\mathbf{A}_{5 \\times 3} \\right)^\\top \\times \\left[ \\mathbf{v}_\\textrm{in} \\right]_{5}\n",
        "\\end{eqnarray}\n",
        "$$"
      ]
    },
    {
      "cell_type": "code",
      "metadata": {
        "id": "9dTnY-cR24b6",
        "colab": {
          "base_uri": "https://localhost:8080/"
        },
        "outputId": "3e8ba6fd-a98d-40c9-cdd7-223b4cb598d6"
      },
      "source": [
        "input_vec = T.FloatTensor([1.0, 2.0, 3.0, 4.0, 5.0])\n",
        "print('input_vec  = {}'.format(input_vec))\n",
        "\n",
        "output_vec = linear_layer(input_vec)\n",
        "print('output_vec = {}'.format(output_vec))"
      ],
      "execution_count": null,
      "outputs": [
        {
          "output_type": "stream",
          "name": "stdout",
          "text": [
            "input_vec  = tensor([1., 2., 3., 4., 5.])\n",
            "output_vec = tensor([ 1.4139, -0.2274, -0.0830], grad_fn=<AddBackward0>)\n"
          ]
        }
      ]
    },
    {
      "cell_type": "markdown",
      "metadata": {
        "id": "K0Zz2t8w24cB"
      },
      "source": [
        "### A Series of Linear Transformation"
      ]
    },
    {
      "cell_type": "markdown",
      "metadata": {
        "id": "npgIKWhb24cC"
      },
      "source": [
        "Let's create some more linear layers."
      ]
    },
    {
      "cell_type": "code",
      "metadata": {
        "id": "TQ5pbNxh24cE"
      },
      "source": [
        "layer1 = N.Linear(5, 3)\n",
        "layer2 = N.Linear(3, 4)"
      ],
      "execution_count": null,
      "outputs": []
    },
    {
      "cell_type": "markdown",
      "metadata": {
        "id": "mGi0tkAa24cJ"
      },
      "source": [
        "We can sequentially feed, or *feed-forward*, an input vector to these layers. Let's see how each step goes."
      ]
    },
    {
      "cell_type": "code",
      "metadata": {
        "id": "iiIqx_RB24cK",
        "colab": {
          "base_uri": "https://localhost:8080/"
        },
        "outputId": "14fa4752-8f6c-4932-d761-d7b30da712d6"
      },
      "source": [
        "input_vec = T.FloatTensor([1.0, 2.0, 3.0, 4.0, 5.0])\n",
        "print('input_vec    = {}'.format(input_vec))\n",
        "\n",
        "output_vec_1 = layer1(input_vec)\n",
        "print('output_vec_1 = {}'.format(output_vec_1))\n",
        "\n",
        "output_vec_2 = layer2(output_vec_1)\n",
        "print('output_vec_2 = {}'.format(output_vec_2))"
      ],
      "execution_count": null,
      "outputs": [
        {
          "output_type": "stream",
          "name": "stdout",
          "text": [
            "input_vec    = tensor([1., 2., 3., 4., 5.])\n",
            "output_vec_1 = tensor([-0.9499,  0.6892,  2.4313], grad_fn=<AddBackward0>)\n",
            "output_vec_2 = tensor([ 0.4714, -0.9502,  0.4983,  0.2223], grad_fn=<AddBackward0>)\n"
          ]
        }
      ]
    },
    {
      "cell_type": "markdown",
      "metadata": {
        "id": "jH0txTXk24cO"
      },
      "source": [
        "Note that we can always print out the output of each step, making it much easier to debug your code in PyTorch than in native Tensorflow."
      ]
    },
    {
      "cell_type": "markdown",
      "metadata": {
        "id": "VD6NXmrf24cQ"
      },
      "source": [
        "### Multilayer Perceptron"
      ]
    },
    {
      "cell_type": "markdown",
      "metadata": {
        "id": "II4TSnhD24cS"
      },
      "source": [
        "A multilayer perceptron (MLP) comprises a series of linear layers. We can create a MLP with the command `N.Sequential`."
      ]
    },
    {
      "cell_type": "code",
      "metadata": {
        "id": "Fo1Alf_q24cS",
        "colab": {
          "base_uri": "https://localhost:8080/"
        },
        "outputId": "13d45d42-e113-4096-eed2-ae6451f09648"
      },
      "source": [
        "mlp_model = N.Sequential(\n",
        "    N.Linear(5, 3),\n",
        "    N.Linear(3, 4)\n",
        ")\n",
        "print(mlp_model)"
      ],
      "execution_count": null,
      "outputs": [
        {
          "output_type": "stream",
          "name": "stdout",
          "text": [
            "Sequential(\n",
            "  (0): Linear(in_features=5, out_features=3, bias=True)\n",
            "  (1): Linear(in_features=3, out_features=4, bias=True)\n",
            ")\n"
          ]
        }
      ]
    },
    {
      "cell_type": "markdown",
      "metadata": {
        "id": "v5um_yN424cX"
      },
      "source": [
        "We can feed-forward an input vector to the created MLP and obtain an output vector as well. The produced output vector is a prediction made by the MLP. This is still equivalent to applying a series of linear transformation:\n",
        "\n",
        "$$\n",
        "\\begin{eqnarray}\n",
        "    \\left[ \\mathbf{v}_\\textrm{out} \\right]_4 & = & \\left( \\mathbf{A}_{5 \\times 3} \\times \\mathbf{B}_{3 \\times 4} \\right)^\\top \\times \\left[ \\mathbf{v}_\\textrm{in} \\right]_5\n",
        "\\end{eqnarray}\n",
        "$$\n",
        "\n",
        "where $\\mathbf{A}$ and $\\mathbf{B}$ are linear layers."
      ]
    },
    {
      "cell_type": "code",
      "metadata": {
        "id": "F-wXuGnN24cZ",
        "colab": {
          "base_uri": "https://localhost:8080/"
        },
        "outputId": "f0394b8f-d1cd-45f0-b769-21ac8b768f1c"
      },
      "source": [
        "prediction = mlp_model(input_vec)\n",
        "print('prediction = {}'.format(prediction))"
      ],
      "execution_count": null,
      "outputs": [
        {
          "output_type": "stream",
          "name": "stdout",
          "text": [
            "prediction = tensor([-0.6845,  1.0546,  0.3233,  1.0770], grad_fn=<AddBackward0>)\n"
          ]
        }
      ]
    },
    {
      "cell_type": "markdown",
      "metadata": {
        "id": "Hip7vr9e24cd"
      },
      "source": [
        "### Loss Function: Mean Squared Error"
      ]
    },
    {
      "cell_type": "markdown",
      "metadata": {
        "id": "lcbmBYk824ce"
      },
      "source": [
        "Next, we want to compute the difference, i.e. the *loss*, between a prediction vector $\\mathbf{y}$ and a desired output vector $\\mathbf{y}'$. In this workshop, we will use the mean squared error (MSE), where we compute the average of squared difference between each element pair $y_i$ and $y'_i$.\n",
        "\n",
        "$$\n",
        "\\begin{eqnarray}\n",
        "    \\mathrm{MSE} & = & \\frac{1}{N} \\sum_{i = 1}^N \\left( y_i - y'_i \\right)^2\n",
        "\\end{eqnarray}\n",
        "$$"
      ]
    },
    {
      "cell_type": "code",
      "metadata": {
        "id": "4ZeUCAxg24cf",
        "colab": {
          "base_uri": "https://localhost:8080/"
        },
        "outputId": "c7bf33d2-3218-4d27-e84f-7eff842fbe18"
      },
      "source": [
        "desired_output_vec = T.FloatTensor([4.0, 3.0, 2.0, 1.0])\n",
        "print('prediction = {}'.format(prediction))\n",
        "print('desired_output_vec = {}'.format(desired_output_vec))\n",
        "\n",
        "loss_func = N.MSELoss()\n",
        "\n",
        "loss = loss_func(prediction, desired_output_vec)\n",
        "print('loss = {}'.format(loss))"
      ],
      "execution_count": null,
      "outputs": [
        {
          "output_type": "stream",
          "name": "stdout",
          "text": [
            "prediction = tensor([-0.6845,  1.0546,  0.3233,  1.0770], grad_fn=<AddBackward0>)\n",
            "desired_output_vec = tensor([4., 3., 2., 1.])\n",
            "loss = 7.136593818664551\n"
          ]
        }
      ]
    },
    {
      "cell_type": "markdown",
      "metadata": {
        "id": "Jmy3okp924cl"
      },
      "source": [
        "### Parameter Optimization"
      ]
    },
    {
      "cell_type": "markdown",
      "metadata": {
        "id": "xWahtyxk24cm"
      },
      "source": [
        "There are several parameter optimizers in PyTorch. Stochastic Gradient Descent (SGD) is the simplest and easiest to understand. This is how we create an SGD optimizer with the command `O.SGD`. Note that it takes the parameters of our model of interest and a learning rate."
      ]
    },
    {
      "cell_type": "code",
      "metadata": {
        "id": "VpYbagax24cn",
        "colab": {
          "base_uri": "https://localhost:8080/"
        },
        "outputId": "ebb866cd-8450-4a7f-e173-2991c2febd5c"
      },
      "source": [
        "optimizer = O.SGD(mlp_model.parameters(), lr=0.01)\n",
        "print(optimizer)"
      ],
      "execution_count": null,
      "outputs": [
        {
          "output_type": "stream",
          "name": "stdout",
          "text": [
            "SGD (\n",
            "Parameter Group 0\n",
            "    dampening: 0\n",
            "    lr: 0.01\n",
            "    momentum: 0\n",
            "    nesterov: False\n",
            "    weight_decay: 0\n",
            ")\n"
          ]
        }
      ]
    },
    {
      "cell_type": "markdown",
      "metadata": {
        "id": "dOxiYvVl24cr"
      },
      "source": [
        "This is one step of parameter optimization. First, we clear the gradient cache of the optimizer. The loss previously calculated is then used to perform backpropagation through the model. Finally, we update the parameters with the command `step()`."
      ]
    },
    {
      "cell_type": "code",
      "metadata": {
        "id": "2C9mxs6A24ct"
      },
      "source": [
        "optimizer.zero_grad()        # Clear the gradient cache\n",
        "loss.backward()              # Perform backpropagation\n",
        "optimizer.step()             # Update the parameters"
      ],
      "execution_count": null,
      "outputs": []
    },
    {
      "cell_type": "markdown",
      "metadata": {
        "id": "Qydd4iP924cw"
      },
      "source": [
        "Let's observe the change in parameters after just one step of optimization. Note that the new prediction is approaching the desired output vector."
      ]
    },
    {
      "cell_type": "code",
      "metadata": {
        "id": "ZvQVvFW324cx",
        "colab": {
          "base_uri": "https://localhost:8080/"
        },
        "outputId": "43d7049a-c2a6-46be-d36a-7863720fe240"
      },
      "source": [
        "print('Before: prediction = {}'.format(prediction))\n",
        "\n",
        "new_prediction = mlp_model(input_vec)\n",
        "print('After : prediction = {}'.format(new_prediction))"
      ],
      "execution_count": null,
      "outputs": [
        {
          "output_type": "stream",
          "name": "stdout",
          "text": [
            "Before: prediction = tensor([-0.6845,  1.0546,  0.3233,  1.0770], grad_fn=<AddBackward0>)\n",
            "After : prediction = tensor([0.2459, 1.5160, 0.4242, 1.0043], grad_fn=<AddBackward0>)\n"
          ]
        }
      ]
    },
    {
      "cell_type": "markdown",
      "metadata": {
        "id": "xKaTj2py24c4"
      },
      "source": [
        "Let's iterate through parameter optimization for 10 times. Note that the loss is getting smaller, because the new prediction of each step is getting closer and closer to the desired output vector."
      ]
    },
    {
      "cell_type": "code",
      "metadata": {
        "id": "9ONwpEzD24c6",
        "colab": {
          "base_uri": "https://localhost:8080/"
        },
        "outputId": "ba8c107f-aea3-4adf-e0d1-138c380fdabb"
      },
      "source": [
        "for i in range(10):\n",
        "    step_prediction = mlp_model(input_vec)\n",
        "    loss = loss_func(step_prediction, desired_output_vec)\n",
        "    print('Iteration {}: loss = {}'.format(i, loss))\n",
        "    \n",
        "    optimizer.zero_grad()\n",
        "    loss.backward()\n",
        "    optimizer.step()"
      ],
      "execution_count": null,
      "outputs": [
        {
          "output_type": "stream",
          "name": "stdout",
          "text": [
            "Iteration 0: loss = 4.694545745849609\n",
            "Iteration 1: loss = 3.083603858947754\n",
            "Iteration 2: loss = 1.931172490119934\n",
            "Iteration 3: loss = 1.1321042776107788\n",
            "Iteration 4: loss = 0.6226803064346313\n",
            "Iteration 5: loss = 0.32809191942214966\n",
            "Iteration 6: loss = 0.1712907999753952\n",
            "Iteration 7: loss = 0.09183115512132645\n",
            "Iteration 8: loss = 0.051826316863298416\n",
            "Iteration 9: loss = 0.031009092926979065\n"
          ]
        }
      ]
    },
    {
      "cell_type": "markdown",
      "metadata": {
        "id": "EXrYOpAD24c-"
      },
      "source": [
        "Let's see how close to the desired output vector the latest prediction is, compared with the first prediction."
      ]
    },
    {
      "cell_type": "code",
      "metadata": {
        "id": "QAPXuQi324c_",
        "colab": {
          "base_uri": "https://localhost:8080/"
        },
        "outputId": "b9979a60-b135-4ed5-b8a7-38883656995d"
      },
      "source": [
        "print('Before: prediction = {}'.format(prediction))\n",
        "new_prediction = mlp_model(input_vec)\n",
        "print('After : prediction = {}'.format(new_prediction))\n",
        "print('Desired output vec : {}'.format(desired_output_vec))"
      ],
      "execution_count": null,
      "outputs": [
        {
          "output_type": "stream",
          "name": "stdout",
          "text": [
            "Before: prediction = tensor([-0.6845,  1.0546,  0.3233,  1.0770], grad_fn=<AddBackward0>)\n",
            "After : prediction = tensor([3.9412, 3.0571, 1.7383, 1.0539], grad_fn=<AddBackward0>)\n",
            "Desired output vec : tensor([4., 3., 2., 1.])\n"
          ]
        }
      ]
    },
    {
      "cell_type": "markdown",
      "metadata": {
        "id": "VrSB4fzg24dD"
      },
      "source": [
        "The more iterations, the closer the prediction is to the desired output vector."
      ]
    },
    {
      "cell_type": "markdown",
      "metadata": {
        "id": "iWhJrhC124dE"
      },
      "source": [
        "-----"
      ]
    },
    {
      "cell_type": "markdown",
      "metadata": {
        "id": "UbOSGo7z24dF"
      },
      "source": [
        "## Learning the XOR Gate with Multilayer Perceptrons"
      ]
    },
    {
      "cell_type": "markdown",
      "metadata": {
        "id": "RwRHQWWh24dG"
      },
      "source": [
        "In this section, we will design a multilayer perceptron and train it to imitate an XOR gate."
      ]
    },
    {
      "cell_type": "markdown",
      "metadata": {
        "id": "H6syzn8o24dH"
      },
      "source": [
        "### Configuration"
      ]
    },
    {
      "cell_type": "code",
      "metadata": {
        "id": "H59I8fHy24dI"
      },
      "source": [
        "dim_input = 2                         # DO NOT CHANGE ME: input dimension\n",
        "dim_hidden = 8                        # Dimension for the hidden layer\n",
        "dim_output = 1                        # DO NOT CHANGE ME: output dimension\n",
        "\n",
        "no_training = 1000                    # Number of training data\n",
        "no_testing = 100                      # Number of testing data\n",
        "\n",
        "epochs = 40                           # Number of training iterations\n",
        "loss_fn = N.MSELoss()                 # Loss function\n",
        "learning_rate = 0.01                  # Learning rate"
      ],
      "execution_count": null,
      "outputs": []
    },
    {
      "cell_type": "markdown",
      "metadata": {
        "id": "7PxglV_Z24dK"
      },
      "source": [
        "### Generating XOR Datasets"
      ]
    },
    {
      "cell_type": "markdown",
      "metadata": {
        "id": "qvgqzzez24dL"
      },
      "source": [
        "We generate a dataset for training/testing our MLP as follows. \n",
        "\n",
        "1. Create a list for storing the dataset. Let's name it $D$.\n",
        "2. Repeat for the specified times\n",
        "   1. We random two numbers ranging from 0 to 1 by `random.randint(0, 1)`, say $a$ and $b$. They will be the inputs of an XOR gate.\n",
        "   2. We compute the result of $a \\textrm{ XOR } b$. Let's name it $q$.\n",
        "   3. Append $((a, b), q)$ to $D$.\n",
        "3. Return $D$ as a result."
      ]
    },
    {
      "cell_type": "code",
      "metadata": {
        "id": "Qdo5gtzJ24dL"
      },
      "source": [
        "def gen_xor_dataset(size):\n",
        "    dataset = []\n",
        "    \n",
        "    for i in range(size):\n",
        "        \n",
        "        # Random two values: a and b\n",
        "        a = (random.randint(0, 1) == 1)\n",
        "        b = (random.randint(0, 1) == 1)\n",
        "        \n",
        "        # q = a XOR b\n",
        "        q = (a != b)\n",
        "            \n",
        "        input_features = (a, b)\n",
        "        output_class = q\n",
        "        dataset.append( (input_features, output_class) )\n",
        "        \n",
        "    return dataset"
      ],
      "execution_count": null,
      "outputs": []
    },
    {
      "cell_type": "markdown",
      "metadata": {
        "id": "GWhBd7i324dO"
      },
      "source": [
        "Let's generate the training and testing sets."
      ]
    },
    {
      "cell_type": "code",
      "metadata": {
        "id": "Tw56mZmI24dP"
      },
      "source": [
        "training_set = gen_xor_dataset(no_training)\n",
        "testing_set = gen_xor_dataset(no_testing)"
      ],
      "execution_count": null,
      "outputs": []
    },
    {
      "cell_type": "markdown",
      "metadata": {
        "id": "TXm7XRS924dR"
      },
      "source": [
        "### Training Procedure"
      ]
    },
    {
      "cell_type": "markdown",
      "metadata": {
        "id": "3NnxRgEY24dS"
      },
      "source": [
        "The training procedure follows the standard iteration of parameter optimization.\n",
        "\n",
        "1. Repeat for the specified number of iterations (a.k.a. *epochs*)\n",
        "   1. Shuffle the dataset D\n",
        "   2. For each tuple ((a, b), q) in the dataset D\n",
        "      1. Create an input vector $\\mathbf{x}$, where $x_1 = a$ and $x_2 = b$.\n",
        "      2. Create a desired output vector $\\mathbf{y}'$, where $y_1 = q$.\n",
        "      3. Compute a prediction vector $\\mathbf{y}$ out of the model by feed-forwarding the input vector $\\mathbf{x}$.\n",
        "      4. Compute the loss between $\\mathbf{y}$ and $\\mathbf{y}'$.\n",
        "      5. Perform backpropagation with respect to the loss.\n",
        "   3. Store the loss history.\n",
        "2. Plot a line chart of the loss history with Matplotlib."
      ]
    },
    {
      "cell_type": "code",
      "metadata": {
        "id": "s6zzcaww24dT"
      },
      "source": [
        "def train_model(xor_model, training_data):\n",
        "    optimizer = O.SGD(xor_model.parameters(), lr=learning_rate)\n",
        "    no_samples = len(training_data)\n",
        "    loss_history = []\n",
        "    \n",
        "    for i in tqdm(range(epochs)):\n",
        "        total_loss = 0.0\n",
        "        random.shuffle(training_data)\n",
        "        \n",
        "        for (input_features, output_class) in training_data:\n",
        "            ((a, b), q) = (input_features, output_class)\n",
        "            \n",
        "            x = T.zeros(dim_input)     # Input vector\n",
        "            y = T.zeros(dim_output)    # Output vector\n",
        "            if a: x[0] = 1.0\n",
        "            if b: x[1] = 1.0\n",
        "            if q: y[0] = 1.0\n",
        "                \n",
        "            prediction = xor_model(x)  # Perform prediction\n",
        "            \n",
        "            loss = loss_fn(prediction, y)\n",
        "            total_loss += loss.item()\n",
        "            \n",
        "            optimizer.zero_grad()      # Clear gradient cache\n",
        "            loss.backward()            # Perform backpropagation\n",
        "            optimizer.step()           # Update the model parameters\n",
        "        \n",
        "        loss_history.append(total_loss / no_samples)\n",
        "        \n",
        "    # Plot the loss history with Matplotlib\n",
        "    epoch_count = range(1, epochs + 1)\n",
        "    plt.plot(epoch_count, loss_history, 'b--')\n",
        "    plt.legend(['Training Loss'])\n",
        "    plt.xlabel('Epoch')\n",
        "    plt.ylabel('Loss')\n",
        "    plt.show()"
      ],
      "execution_count": null,
      "outputs": []
    },
    {
      "cell_type": "markdown",
      "metadata": {
        "id": "44cM32q524dV"
      },
      "source": [
        "### Testing Procedure"
      ]
    },
    {
      "cell_type": "markdown",
      "metadata": {
        "id": "4L7lUI7j24dW"
      },
      "source": [
        "Let's measure the accuracy of a model.\n",
        "\n",
        "1. Let $c$ be a counter of correct predictions, and $N$ be the number of testing samples.\n",
        "2. For each ((a, b), q) in the testing set\n",
        "   1. Create an input vector $\\mathbf{x}$, where $x_1 = a$ and $x_2 = b$.\n",
        "   2. Compute a prediction vector $\\mathbf{y}$ out of the model by feed-forwarding the input vector $\\mathbf{x}$.\n",
        "   3. Infer a predicted class $q'$ from $\\mathbf{y}$. If $y_1 \\geq 0.5$, we let $q' = \\mathbb{T}$. Otherwise, $q' = \\mathbb{F}$.\n",
        "   4. If $q = q'$, then we increase the counter $c$.\n",
        "3. Calculate the accuracy by the formula $ \\mathrm{ACC} = c / N $."
      ]
    },
    {
      "cell_type": "code",
      "metadata": {
        "id": "SwrbE2I224dX"
      },
      "source": [
        "def test_model(xor_model, testing_data):\n",
        "    no_correct = 0.0\n",
        "\n",
        "    for (input_features, output_class) in testing_data:\n",
        "        ((a, b), q) = (input_features, output_class)\n",
        "\n",
        "        x = T.zeros(dim_input)     # dim_input = 2\n",
        "        if a: x[0] = 1.0\n",
        "        if b: x[1] = 1.0\n",
        "\n",
        "        pred = xor_model(x)\n",
        "        pred_class = True if pred[0] >= 0.5 else False\n",
        "        result = 'Correct' if pred_class == q else 'Incorrect'\n",
        "        if pred_class == q: no_correct += 1\n",
        "        print('{:>5} XOR {:>5} = {:>5}  |  prediction = {:>5}  |  {}'.format(\n",
        "           str(a), str(b), str(q), str(pred_class), str(result)\n",
        "        ))\n",
        "\n",
        "    accuracy = 100 * no_correct / no_testing\n",
        "    print('\\nAccuracy = {}'.format(accuracy))"
      ],
      "execution_count": null,
      "outputs": []
    },
    {
      "cell_type": "markdown",
      "metadata": {
        "id": "ianii2i924dZ"
      },
      "source": [
        "-------"
      ]
    },
    {
      "cell_type": "markdown",
      "metadata": {
        "id": "VXoVOrrb24da"
      },
      "source": [
        "## Model 1: A Very Simple Model"
      ]
    },
    {
      "cell_type": "markdown",
      "metadata": {
        "id": "oTj-QeFm24da"
      },
      "source": [
        "### Model Design"
      ]
    },
    {
      "cell_type": "markdown",
      "metadata": {
        "id": "D_gMJtbE24db"
      },
      "source": [
        "Our endeavor to the XOR gate begins with a simple MLP. This MLP contains just two linear layers."
      ]
    },
    {
      "cell_type": "code",
      "metadata": {
        "id": "n3OB62g924dc",
        "colab": {
          "base_uri": "https://localhost:8080/"
        },
        "outputId": "73c3cf04-f15e-4e82-e45d-15da812c55a2"
      },
      "source": [
        "xor_model_1 = N.Sequential(\n",
        "    N.Linear(dim_input, dim_hidden),\n",
        "    N.Linear(dim_hidden, dim_output)\n",
        ")\n",
        "\n",
        "print('Model 1:\\n{}'.format(xor_model_1))"
      ],
      "execution_count": null,
      "outputs": [
        {
          "output_type": "stream",
          "name": "stdout",
          "text": [
            "Model 1:\n",
            "Sequential(\n",
            "  (0): Linear(in_features=2, out_features=8, bias=True)\n",
            "  (1): Linear(in_features=8, out_features=1, bias=True)\n",
            ")\n"
          ]
        }
      ]
    },
    {
      "cell_type": "markdown",
      "metadata": {
        "id": "WRv35EJZ24dg"
      },
      "source": [
        "### Training"
      ]
    },
    {
      "cell_type": "markdown",
      "metadata": {
        "id": "pxCYPY3e24dg"
      },
      "source": [
        "Let's train Model 1 with the training set!"
      ]
    },
    {
      "cell_type": "code",
      "metadata": {
        "id": "GXZZW1IR24dh",
        "colab": {
          "base_uri": "https://localhost:8080/",
          "height": 311,
          "referenced_widgets": [
            "e6e5237fc9e540bcaa42b88fe0b1340c",
            "551688d1c0cd4c04b49ab532a24aa65b",
            "ad4ab5beba814c22ad8ba5e2b491f01e",
            "e27a16c8c45348a3a748d80411749350",
            "b8e11936268f4a8889cbbeb5fd4d72a0",
            "eb42f08b7e1643688d70e3541ae62fc9",
            "9e9d3b204ea346ee829895740ffe378c",
            "d7a09b250f8440d2a097c31198431ec1",
            "542e8256559d49a983b7574ea326abea",
            "f6b1bf78f8b34788924e86b83a8c4eff",
            "079ba469cd0845e5b34f7620da4b3bb2"
          ]
        },
        "outputId": "a2226508-a652-4654-bf72-fe99a6873917"
      },
      "source": [
        "train_model(xor_model_1, training_set)"
      ],
      "execution_count": null,
      "outputs": [
        {
          "output_type": "display_data",
          "data": {
            "application/vnd.jupyter.widget-view+json": {
              "model_id": "e6e5237fc9e540bcaa42b88fe0b1340c",
              "version_minor": 0,
              "version_major": 2
            },
            "text/plain": [
              "  0%|          | 0/40 [00:00<?, ?it/s]"
            ]
          },
          "metadata": {}
        },
        {
          "output_type": "display_data",
          "data": {
            "image/png": "[encoded data removed]",
            "text/plain": [
              "<Figure size 432x288 with 1 Axes>"
            ]
          },
          "metadata": {
            "needs_background": "light"
          }
        }
      ]
    },
    {
      "cell_type": "markdown",
      "metadata": {
        "id": "-ZOt0NAl24dl"
      },
      "source": [
        "**N.B.** Observe the training loss. How much loss can Model 1 reduce?"
      ]
    },
    {
      "cell_type": "markdown",
      "metadata": {
        "id": "ik1LRX8024dl"
      },
      "source": [
        "### Testing"
      ]
    },
    {
      "cell_type": "markdown",
      "metadata": {
        "id": "GTjLopjF24dm"
      },
      "source": [
        "Let's test Model 1 with the testing set!"
      ]
    },
    {
      "cell_type": "code",
      "metadata": {
        "id": "RUpBXnUj24dm",
        "colab": {
          "base_uri": "https://localhost:8080/"
        },
        "outputId": "3642b17c-0fbc-4490-e733-b715b6d671f6"
      },
      "source": [
        "test_model(xor_model_1, testing_set)"
      ],
      "execution_count": null,
      "outputs": [
        {
          "output_type": "stream",
          "name": "stdout",
          "text": [
            " True XOR False =  True  |  prediction = False  |  Incorrect\n",
            " True XOR False =  True  |  prediction = False  |  Incorrect\n",
            " True XOR  True = False  |  prediction = False  |  Correct\n",
            "False XOR False = False  |  prediction = False  |  Correct\n",
            "False XOR  True =  True  |  prediction = False  |  Incorrect\n",
            " True XOR  True = False  |  prediction = False  |  Correct\n",
            " True XOR  True = False  |  prediction = False  |  Correct\n",
            " True XOR False =  True  |  prediction = False  |  Incorrect\n",
            " True XOR  True = False  |  prediction = False  |  Correct\n",
            " True XOR  True = False  |  prediction = False  |  Correct\n",
            "False XOR  True =  True  |  prediction = False  |  Incorrect\n",
            "False XOR False = False  |  prediction = False  |  Correct\n",
            "False XOR  True =  True  |  prediction = False  |  Incorrect\n",
            " True XOR False =  True  |  prediction = False  |  Incorrect\n",
            " True XOR  True = False  |  prediction = False  |  Correct\n",
            " True XOR  True = False  |  prediction = False  |  Correct\n",
            "False XOR  True =  True  |  prediction = False  |  Incorrect\n",
            " True XOR  True = False  |  prediction = False  |  Correct\n",
            " True XOR  True = False  |  prediction = False  |  Correct\n",
            "False XOR False = False  |  prediction = False  |  Correct\n",
            "False XOR  True =  True  |  prediction = False  |  Incorrect\n",
            "False XOR False = False  |  prediction = False  |  Correct\n",
            " True XOR  True = False  |  prediction = False  |  Correct\n",
            " True XOR False =  True  |  prediction = False  |  Incorrect\n",
            "False XOR False = False  |  prediction = False  |  Correct\n",
            " True XOR False =  True  |  prediction = False  |  Incorrect\n",
            "False XOR  True =  True  |  prediction = False  |  Incorrect\n",
            " True XOR False =  True  |  prediction = False  |  Incorrect\n",
            "False XOR False = False  |  prediction = False  |  Correct\n",
            "False XOR  True =  True  |  prediction = False  |  Incorrect\n",
            "False XOR  True =  True  |  prediction = False  |  Incorrect\n",
            " True XOR  True = False  |  prediction = False  |  Correct\n",
            " True XOR False =  True  |  prediction = False  |  Incorrect\n",
            " True XOR False =  True  |  prediction = False  |  Incorrect\n",
            " True XOR False =  True  |  prediction = False  |  Incorrect\n",
            "False XOR False = False  |  prediction = False  |  Correct\n",
            " True XOR  True = False  |  prediction = False  |  Correct\n",
            "False XOR False = False  |  prediction = False  |  Correct\n",
            " True XOR False =  True  |  prediction = False  |  Incorrect\n",
            " True XOR False =  True  |  prediction = False  |  Incorrect\n",
            " True XOR  True = False  |  prediction = False  |  Correct\n",
            " True XOR False =  True  |  prediction = False  |  Incorrect\n",
            " True XOR  True = False  |  prediction = False  |  Correct\n",
            "False XOR False = False  |  prediction = False  |  Correct\n",
            " True XOR False =  True  |  prediction = False  |  Incorrect\n",
            "False XOR False = False  |  prediction = False  |  Correct\n",
            "False XOR False = False  |  prediction = False  |  Correct\n",
            " True XOR False =  True  |  prediction = False  |  Incorrect\n",
            "False XOR False = False  |  prediction = False  |  Correct\n",
            "False XOR  True =  True  |  prediction = False  |  Incorrect\n",
            " True XOR  True = False  |  prediction = False  |  Correct\n",
            " True XOR  True = False  |  prediction = False  |  Correct\n",
            " True XOR  True = False  |  prediction = False  |  Correct\n",
            " True XOR  True = False  |  prediction = False  |  Correct\n",
            " True XOR False =  True  |  prediction = False  |  Incorrect\n",
            "False XOR False = False  |  prediction = False  |  Correct\n",
            " True XOR False =  True  |  prediction = False  |  Incorrect\n",
            "False XOR  True =  True  |  prediction = False  |  Incorrect\n",
            "False XOR  True =  True  |  prediction = False  |  Incorrect\n",
            "False XOR  True =  True  |  prediction = False  |  Incorrect\n",
            "False XOR  True =  True  |  prediction = False  |  Incorrect\n",
            "False XOR  True =  True  |  prediction = False  |  Incorrect\n",
            " True XOR  True = False  |  prediction = False  |  Correct\n",
            " True XOR  True = False  |  prediction = False  |  Correct\n",
            " True XOR False =  True  |  prediction = False  |  Incorrect\n",
            " True XOR  True = False  |  prediction = False  |  Correct\n",
            " True XOR  True = False  |  prediction = False  |  Correct\n",
            " True XOR  True = False  |  prediction = False  |  Correct\n",
            "False XOR False = False  |  prediction = False  |  Correct\n",
            "False XOR  True =  True  |  prediction = False  |  Incorrect\n",
            "False XOR False = False  |  prediction = False  |  Correct\n",
            "False XOR False = False  |  prediction = False  |  Correct\n",
            " True XOR  True = False  |  prediction = False  |  Correct\n",
            " True XOR False =  True  |  prediction = False  |  Incorrect\n",
            " True XOR False =  True  |  prediction = False  |  Incorrect\n",
            " True XOR False =  True  |  prediction = False  |  Incorrect\n",
            " True XOR  True = False  |  prediction = False  |  Correct\n",
            " True XOR False =  True  |  prediction = False  |  Incorrect\n",
            "False XOR  True =  True  |  prediction = False  |  Incorrect\n",
            " True XOR False =  True  |  prediction = False  |  Incorrect\n",
            " True XOR False =  True  |  prediction = False  |  Incorrect\n",
            " True XOR  True = False  |  prediction = False  |  Correct\n",
            "False XOR  True =  True  |  prediction = False  |  Incorrect\n",
            " True XOR  True = False  |  prediction = False  |  Correct\n",
            "False XOR  True =  True  |  prediction = False  |  Incorrect\n",
            " True XOR False =  True  |  prediction = False  |  Incorrect\n",
            " True XOR  True = False  |  prediction = False  |  Correct\n",
            " True XOR False =  True  |  prediction = False  |  Incorrect\n",
            "False XOR  True =  True  |  prediction = False  |  Incorrect\n",
            " True XOR  True = False  |  prediction = False  |  Correct\n",
            " True XOR  True = False  |  prediction = False  |  Correct\n",
            "False XOR  True =  True  |  prediction = False  |  Incorrect\n",
            "False XOR  True =  True  |  prediction = False  |  Incorrect\n",
            "False XOR False = False  |  prediction = False  |  Correct\n",
            "False XOR False = False  |  prediction = False  |  Correct\n",
            " True XOR False =  True  |  prediction = False  |  Incorrect\n",
            " True XOR False =  True  |  prediction = False  |  Incorrect\n",
            " True XOR False =  True  |  prediction = False  |  Incorrect\n",
            "False XOR  True =  True  |  prediction = False  |  Incorrect\n",
            "False XOR False = False  |  prediction = False  |  Correct\n",
            "\n",
            "Accuracy = 49.0\n"
          ]
        }
      ]
    },
    {
      "cell_type": "markdown",
      "metadata": {
        "id": "w5NqTbxl24do"
      },
      "source": [
        "### Exercise\n",
        "\n",
        "Explain why we do not get 100% accuracy despite our high hope in neural networks. In particular, observe the predictions; they can be very strange! (*Hint:* There is something to do with the range of the input values of each linear layer.)"
      ]
    },
    {
      "cell_type": "markdown",
      "metadata": {
        "id": "a4BNZdBh24dp"
      },
      "source": [
        "-------"
      ]
    },
    {
      "cell_type": "markdown",
      "metadata": {
        "id": "OUqu4ZcZ24dp"
      },
      "source": [
        "## Model 2: Adding Activation Function"
      ]
    },
    {
      "cell_type": "markdown",
      "metadata": {
        "id": "J5sed1tB24dp"
      },
      "source": [
        "### Model Design"
      ]
    },
    {
      "cell_type": "markdown",
      "metadata": {
        "id": "R31OOZ4d24dp"
      },
      "source": [
        "Let's introduce an activation function, e.g. sigmoid, into the model. The sigmoid function `N.Sigmoid` will shrink the range of the second linear layer to $[0, 1]$."
      ]
    },
    {
      "cell_type": "code",
      "metadata": {
        "id": "Cf1HjvIV24dq",
        "colab": {
          "base_uri": "https://localhost:8080/"
        },
        "outputId": "046399b9-889a-4a73-ac4a-b9e1d50b3c26"
      },
      "source": [
        "xor_model_2 = N.Sequential(\n",
        "    N.Linear(dim_input, dim_hidden),\n",
        "    N.Sigmoid(),\n",
        "    N.Linear(dim_hidden, dim_output)\n",
        ")\n",
        "\n",
        "print('Model 2:\\n{}'.format(xor_model_2))"
      ],
      "execution_count": null,
      "outputs": [
        {
          "output_type": "stream",
          "name": "stdout",
          "text": [
            "Model 2:\n",
            "Sequential(\n",
            "  (0): Linear(in_features=2, out_features=8, bias=True)\n",
            "  (1): Sigmoid()\n",
            "  (2): Linear(in_features=8, out_features=1, bias=True)\n",
            ")\n"
          ]
        }
      ]
    },
    {
      "cell_type": "markdown",
      "metadata": {
        "id": "-GNbf1fq24dr"
      },
      "source": [
        "### Training"
      ]
    },
    {
      "cell_type": "markdown",
      "metadata": {
        "id": "huQtLIbT24ds"
      },
      "source": [
        "Let's train Model 2 with the training set."
      ]
    },
    {
      "cell_type": "code",
      "metadata": {
        "id": "d3wnc7WM24ds",
        "colab": {
          "base_uri": "https://localhost:8080/",
          "height": 311,
          "referenced_widgets": [
            "d822e5e830d1417ca8bb8b7b7742f06a",
            "399ed6ebdd5646f8b95c957493ebc008",
            "659ca4a6140a44adac701b26afd817d6",
            "fea37220375849bfb01617212c18bf0b",
            "734190854b3a4c0baa417fd4728581b6",
            "eb8e448c51344c6a9313a2c2952bb240",
            "96c15d0c439c45d2a371f5a9bd186951",
            "51cf3ba12ece420b8c6bf7af60916d7b",
            "666ffdf3e4c34789960fcd631ccf3d76",
            "db850766a37940459231cda749a35880",
            "98d3f9e37260440b9ffdc5ee8a2db0de"
          ]
        },
        "outputId": "bc51e688-8f16-48d4-d550-d15303a37874"
      },
      "source": [
        "train_model(xor_model_2, training_set)"
      ],
      "execution_count": null,
      "outputs": [
        {
          "output_type": "display_data",
          "data": {
            "application/vnd.jupyter.widget-view+json": {
              "model_id": "d822e5e830d1417ca8bb8b7b7742f06a",
              "version_minor": 0,
              "version_major": 2
            },
            "text/plain": [
              "  0%|          | 0/40 [00:00<?, ?it/s]"
            ]
          },
          "metadata": {}
        },
        {
          "output_type": "display_data",
          "data": {
            "image/png": "[encoded data removed]",
            "text/plain": [
              "<Figure size 432x288 with 1 Axes>"
            ]
          },
          "metadata": {
            "needs_background": "light"
          }
        }
      ]
    },
    {
      "cell_type": "markdown",
      "metadata": {
        "id": "zCxcn4a524dv"
      },
      "source": [
        "**N.B.** Observe the training loss. Compare it to the training loss of Model 1. Which one is better?"
      ]
    },
    {
      "cell_type": "markdown",
      "metadata": {
        "id": "_G39mn1Q24dv"
      },
      "source": [
        "### Testing"
      ]
    },
    {
      "cell_type": "markdown",
      "metadata": {
        "id": "PgpKI3qJ24dv"
      },
      "source": [
        "Let's test Model 2 with the testing set."
      ]
    },
    {
      "cell_type": "code",
      "metadata": {
        "id": "5xgbPDnn24dv",
        "colab": {
          "base_uri": "https://localhost:8080/"
        },
        "outputId": "8381cd8f-d809-4457-b6d0-4584b9397230"
      },
      "source": [
        "test_model(xor_model_2, testing_set)"
      ],
      "execution_count": null,
      "outputs": [
        {
          "output_type": "stream",
          "name": "stdout",
          "text": [
            " True XOR False =  True  |  prediction =  True  |  Correct\n",
            " True XOR False =  True  |  prediction =  True  |  Correct\n",
            " True XOR  True = False  |  prediction = False  |  Correct\n",
            "False XOR False = False  |  prediction = False  |  Correct\n",
            "False XOR  True =  True  |  prediction =  True  |  Correct\n",
            " True XOR  True = False  |  prediction = False  |  Correct\n",
            " True XOR  True = False  |  prediction = False  |  Correct\n",
            " True XOR False =  True  |  prediction =  True  |  Correct\n",
            " True XOR  True = False  |  prediction = False  |  Correct\n",
            " True XOR  True = False  |  prediction = False  |  Correct\n",
            "False XOR  True =  True  |  prediction =  True  |  Correct\n",
            "False XOR False = False  |  prediction = False  |  Correct\n",
            "False XOR  True =  True  |  prediction =  True  |  Correct\n",
            " True XOR False =  True  |  prediction =  True  |  Correct\n",
            " True XOR  True = False  |  prediction = False  |  Correct\n",
            " True XOR  True = False  |  prediction = False  |  Correct\n",
            "False XOR  True =  True  |  prediction =  True  |  Correct\n",
            " True XOR  True = False  |  prediction = False  |  Correct\n",
            " True XOR  True = False  |  prediction = False  |  Correct\n",
            "False XOR False = False  |  prediction = False  |  Correct\n",
            "False XOR  True =  True  |  prediction =  True  |  Correct\n",
            "False XOR False = False  |  prediction = False  |  Correct\n",
            " True XOR  True = False  |  prediction = False  |  Correct\n",
            " True XOR False =  True  |  prediction =  True  |  Correct\n",
            "False XOR False = False  |  prediction = False  |  Correct\n",
            " True XOR False =  True  |  prediction =  True  |  Correct\n",
            "False XOR  True =  True  |  prediction =  True  |  Correct\n",
            " True XOR False =  True  |  prediction =  True  |  Correct\n",
            "False XOR False = False  |  prediction = False  |  Correct\n",
            "False XOR  True =  True  |  prediction =  True  |  Correct\n",
            "False XOR  True =  True  |  prediction =  True  |  Correct\n",
            " True XOR  True = False  |  prediction = False  |  Correct\n",
            " True XOR False =  True  |  prediction =  True  |  Correct\n",
            " True XOR False =  True  |  prediction =  True  |  Correct\n",
            " True XOR False =  True  |  prediction =  True  |  Correct\n",
            "False XOR False = False  |  prediction = False  |  Correct\n",
            " True XOR  True = False  |  prediction = False  |  Correct\n",
            "False XOR False = False  |  prediction = False  |  Correct\n",
            " True XOR False =  True  |  prediction =  True  |  Correct\n",
            " True XOR False =  True  |  prediction =  True  |  Correct\n",
            " True XOR  True = False  |  prediction = False  |  Correct\n",
            " True XOR False =  True  |  prediction =  True  |  Correct\n",
            " True XOR  True = False  |  prediction = False  |  Correct\n",
            "False XOR False = False  |  prediction = False  |  Correct\n",
            " True XOR False =  True  |  prediction =  True  |  Correct\n",
            "False XOR False = False  |  prediction = False  |  Correct\n",
            "False XOR False = False  |  prediction = False  |  Correct\n",
            " True XOR False =  True  |  prediction =  True  |  Correct\n",
            "False XOR False = False  |  prediction = False  |  Correct\n",
            "False XOR  True =  True  |  prediction =  True  |  Correct\n",
            " True XOR  True = False  |  prediction = False  |  Correct\n",
            " True XOR  True = False  |  prediction = False  |  Correct\n",
            " True XOR  True = False  |  prediction = False  |  Correct\n",
            " True XOR  True = False  |  prediction = False  |  Correct\n",
            " True XOR False =  True  |  prediction =  True  |  Correct\n",
            "False XOR False = False  |  prediction = False  |  Correct\n",
            " True XOR False =  True  |  prediction =  True  |  Correct\n",
            "False XOR  True =  True  |  prediction =  True  |  Correct\n",
            "False XOR  True =  True  |  prediction =  True  |  Correct\n",
            "False XOR  True =  True  |  prediction =  True  |  Correct\n",
            "False XOR  True =  True  |  prediction =  True  |  Correct\n",
            "False XOR  True =  True  |  prediction =  True  |  Correct\n",
            " True XOR  True = False  |  prediction = False  |  Correct\n",
            " True XOR  True = False  |  prediction = False  |  Correct\n",
            " True XOR False =  True  |  prediction =  True  |  Correct\n",
            " True XOR  True = False  |  prediction = False  |  Correct\n",
            " True XOR  True = False  |  prediction = False  |  Correct\n",
            " True XOR  True = False  |  prediction = False  |  Correct\n",
            "False XOR False = False  |  prediction = False  |  Correct\n",
            "False XOR  True =  True  |  prediction =  True  |  Correct\n",
            "False XOR False = False  |  prediction = False  |  Correct\n",
            "False XOR False = False  |  prediction = False  |  Correct\n",
            " True XOR  True = False  |  prediction = False  |  Correct\n",
            " True XOR False =  True  |  prediction =  True  |  Correct\n",
            " True XOR False =  True  |  prediction =  True  |  Correct\n",
            " True XOR False =  True  |  prediction =  True  |  Correct\n",
            " True XOR  True = False  |  prediction = False  |  Correct\n",
            " True XOR False =  True  |  prediction =  True  |  Correct\n",
            "False XOR  True =  True  |  prediction =  True  |  Correct\n",
            " True XOR False =  True  |  prediction =  True  |  Correct\n",
            " True XOR False =  True  |  prediction =  True  |  Correct\n",
            " True XOR  True = False  |  prediction = False  |  Correct\n",
            "False XOR  True =  True  |  prediction =  True  |  Correct\n",
            " True XOR  True = False  |  prediction = False  |  Correct\n",
            "False XOR  True =  True  |  prediction =  True  |  Correct\n",
            " True XOR False =  True  |  prediction =  True  |  Correct\n",
            " True XOR  True = False  |  prediction = False  |  Correct\n",
            " True XOR False =  True  |  prediction =  True  |  Correct\n",
            "False XOR  True =  True  |  prediction =  True  |  Correct\n",
            " True XOR  True = False  |  prediction = False  |  Correct\n",
            " True XOR  True = False  |  prediction = False  |  Correct\n",
            "False XOR  True =  True  |  prediction =  True  |  Correct\n",
            "False XOR  True =  True  |  prediction =  True  |  Correct\n",
            "False XOR False = False  |  prediction = False  |  Correct\n",
            "False XOR False = False  |  prediction = False  |  Correct\n",
            " True XOR False =  True  |  prediction =  True  |  Correct\n",
            " True XOR False =  True  |  prediction =  True  |  Correct\n",
            " True XOR False =  True  |  prediction =  True  |  Correct\n",
            "False XOR  True =  True  |  prediction =  True  |  Correct\n",
            "False XOR False = False  |  prediction = False  |  Correct\n",
            "\n",
            "Accuracy = 100.0\n"
          ]
        }
      ]
    },
    {
      "cell_type": "markdown",
      "metadata": {
        "id": "Hv30baoa24dx"
      },
      "source": [
        "### Exercises\n",
        "\n",
        "1. Explain why we can now achieve 100% accuracy. (*Hint:* Is there something to do with the range of the input values of linear layers?)\n",
        "2. Replace the sigmoid function `N.Sigmoid` in Model 2 with another one, such as the hyperbolic tangent `N.Tanh` (whose range is $[-1, 1]$) and the rectified unit function `N.ReLU` (whose range is $[0, \\infty]$). Observe the difference of achieved accuracies."
      ]
    },
    {
      "cell_type": "markdown",
      "metadata": {
        "id": "CMAKyINO24dx"
      },
      "source": [
        "--------"
      ]
    },
    {
      "cell_type": "markdown",
      "metadata": {
        "id": "q0_BmJ4C24dx"
      },
      "source": [
        "## Model 3: Modularizing a Model"
      ]
    },
    {
      "cell_type": "markdown",
      "metadata": {
        "id": "adm90ZB024dx"
      },
      "source": [
        "In the previous models, we created a MLP by assembling linear layers and activation functions, and we had to do this every time when creating a new one. If we plan to create many models with the same neural architecture, we can instead modularize it as a class and instantiate a lot of them from that class."
      ]
    },
    {
      "cell_type": "markdown",
      "metadata": {
        "id": "d2JKUFiO24dy"
      },
      "source": [
        "### Model Design"
      ]
    },
    {
      "cell_type": "markdown",
      "metadata": {
        "id": "ZEPoc6Mh24dy"
      },
      "source": [
        "We modularize a neural architecture by simply inheriting the class `N.Module`. There are two parts we have to work on.\n",
        "\n",
        "The first part is the constructor method `__init__`. Here we take arguments and define necessary components according to them. In this example, it takes three arguments: `dim_input`, `dim_hidden`, and `dim_output`, respectively. Then we create two linear layers (`_input_to_hidden` and `_hidden_to_output`) and one sigmoid function (`_sigmoid`).\n",
        "\n",
        "The second part is the method `forward`. In this example, it takes an input vector `x` and computes a prediction out of it. As we can see, we compute the prediction step-by-step as `out1`, `out2`, and `out3`. In the case of debugging, we can simply print out each step to investigate the errors. This capability makes your life as a developer a lot easier."
      ]
    },
    {
      "cell_type": "code",
      "metadata": {
        "id": "xsoNmCeU24dy"
      },
      "source": [
        "class XorModel(N.Module):\n",
        "\n",
        "    def __init__(self, dim_input, dim_hidden, dim_output):\n",
        "        super(XorModel, self).__init__()\n",
        "        self._dim_input = dim_input\n",
        "        self._dim_hidden = dim_hidden\n",
        "        self._dim_output = dim_output\n",
        "\n",
        "        self._input_to_hidden = N.Linear(self._dim_input, self._dim_hidden)\n",
        "        self._sigmoid = N.Sigmoid()\n",
        "        self._hidden_to_output = N.Linear(self._dim_hidden, self._dim_output)\n",
        "\n",
        "    def forward(self, x):\n",
        "        out1 = self._input_to_hidden(x)\n",
        "        # print('out1 = {}'.format(out1))         # For debugging\n",
        "        out2 = self._sigmoid(out1)\n",
        "        # print('out2 = {}'.format(out2))         # For debugging\n",
        "        out3 = self._hidden_to_output(out2)\n",
        "        # print('out3 = {}'.format(out3))         # For debugging\n",
        "        return out3"
      ],
      "execution_count": null,
      "outputs": []
    },
    {
      "cell_type": "markdown",
      "metadata": {
        "id": "RSfReSfm24dz"
      },
      "source": [
        "Once we define a model class, we can instantiate a model out of it. For example:"
      ]
    },
    {
      "cell_type": "code",
      "metadata": {
        "id": "rpOHK2BM24d0",
        "colab": {
          "base_uri": "https://localhost:8080/"
        },
        "outputId": "01cecc25-437e-4762-f076-d05e31bf7769"
      },
      "source": [
        "xor_model_3 = XorModel(dim_input, dim_hidden, dim_output)\n",
        "print('Model 3:\\n{}'.format(xor_model_3))"
      ],
      "execution_count": null,
      "outputs": [
        {
          "output_type": "stream",
          "name": "stdout",
          "text": [
            "Model 3:\n",
            "XorModel(\n",
            "  (_input_to_hidden): Linear(in_features=2, out_features=8, bias=True)\n",
            "  (_sigmoid): Sigmoid()\n",
            "  (_hidden_to_output): Linear(in_features=8, out_features=1, bias=True)\n",
            ")\n"
          ]
        }
      ]
    },
    {
      "cell_type": "markdown",
      "metadata": {
        "id": "_VcWgS8m24d2"
      },
      "source": [
        "### Training"
      ]
    },
    {
      "cell_type": "markdown",
      "metadata": {
        "id": "OjGlejDE24d3"
      },
      "source": [
        "Training is pretty much the same."
      ]
    },
    {
      "cell_type": "code",
      "metadata": {
        "id": "Mspf49mD24d3",
        "colab": {
          "base_uri": "https://localhost:8080/",
          "height": 332,
          "referenced_widgets": [
            "2cc3642784d4410f9888d1c1feaf7f80",
            "93c2e3ca4fb4424f899c586d54bdc9ac",
            "75775e21c8f74029a3d3d448fa04fe28",
            "8d02ac1bfc754520ac6c7f8330e19f1b",
            "9d8e5320a2ba422083f522bade5776a0",
            "5fb1169c5a57426a811205885a1ae33a",
            "6ca932bc040c478aae9b928ce66ad4b6",
            "9cafa1e1093c4db9b0b059664f85e9ed",
            "3e60098c25b24660a5601a4a86bea27f",
            "474a2505c2bb47d8a02c7f65511b6c80",
            "ee227b5a736644aa94cb368992efb086"
          ]
        },
        "outputId": "9832bdd8-53fa-48d2-de33-f91033bf7dd7"
      },
      "source": [
        "train_model(xor_model_3, training_set)"
      ],
      "execution_count": null,
      "outputs": [
        {
          "output_type": "display_data",
          "data": {
            "application/vnd.jupyter.widget-view+json": {
              "model_id": "2cc3642784d4410f9888d1c1feaf7f80",
              "version_minor": 0,
              "version_major": 2
            },
            "text/plain": [
              "  0%|          | 0/40 [00:00<?, ?it/s]"
            ]
          },
          "metadata": {}
        },
        {
          "output_type": "display_data",
          "data": {
            "image/png": "[encoded data removed]",
            "text/plain": [
              "<Figure size 432x288 with 1 Axes>"
            ]
          },
          "metadata": {
            "needs_background": "light"
          }
        }
      ]
    },
    {
      "cell_type": "markdown",
      "metadata": {
        "id": "VUxcr8bG24d6"
      },
      "source": [
        "### Testing"
      ]
    },
    {
      "cell_type": "markdown",
      "metadata": {
        "id": "dGhNbak524d6"
      },
      "source": [
        "Testing is also the same."
      ]
    },
    {
      "cell_type": "code",
      "metadata": {
        "id": "p6OMCCmC24d6",
        "colab": {
          "base_uri": "https://localhost:8080/"
        },
        "outputId": "2609b1c4-7751-4599-fb5c-149074c81401"
      },
      "source": [
        "test_model(xor_model_3, testing_set)"
      ],
      "execution_count": null,
      "outputs": [
        {
          "output_type": "stream",
          "name": "stdout",
          "text": [
            "False XOR False = False  |  prediction = False  |  Correct\n",
            " True XOR False =  True  |  prediction =  True  |  Correct\n",
            " True XOR  True = False  |  prediction = False  |  Correct\n",
            " True XOR  True = False  |  prediction = False  |  Correct\n",
            " True XOR  True = False  |  prediction = False  |  Correct\n",
            " True XOR False =  True  |  prediction =  True  |  Correct\n",
            " True XOR False =  True  |  prediction =  True  |  Correct\n",
            "False XOR  True =  True  |  prediction =  True  |  Correct\n",
            "False XOR False = False  |  prediction = False  |  Correct\n",
            "False XOR False = False  |  prediction = False  |  Correct\n",
            " True XOR False =  True  |  prediction =  True  |  Correct\n",
            " True XOR False =  True  |  prediction =  True  |  Correct\n",
            " True XOR  True = False  |  prediction = False  |  Correct\n",
            "False XOR False = False  |  prediction = False  |  Correct\n",
            " True XOR  True = False  |  prediction = False  |  Correct\n",
            " True XOR False =  True  |  prediction =  True  |  Correct\n",
            "False XOR False = False  |  prediction = False  |  Correct\n",
            "False XOR False = False  |  prediction = False  |  Correct\n",
            "False XOR  True =  True  |  prediction =  True  |  Correct\n",
            " True XOR  True = False  |  prediction = False  |  Correct\n",
            " True XOR  True = False  |  prediction = False  |  Correct\n",
            "False XOR False = False  |  prediction = False  |  Correct\n",
            " True XOR False =  True  |  prediction =  True  |  Correct\n",
            "False XOR  True =  True  |  prediction =  True  |  Correct\n",
            "False XOR False = False  |  prediction = False  |  Correct\n",
            " True XOR  True = False  |  prediction = False  |  Correct\n",
            " True XOR  True = False  |  prediction = False  |  Correct\n",
            " True XOR  True = False  |  prediction = False  |  Correct\n",
            " True XOR  True = False  |  prediction = False  |  Correct\n",
            "False XOR  True =  True  |  prediction =  True  |  Correct\n",
            "False XOR False = False  |  prediction = False  |  Correct\n",
            "False XOR False = False  |  prediction = False  |  Correct\n",
            " True XOR False =  True  |  prediction =  True  |  Correct\n",
            "False XOR  True =  True  |  prediction =  True  |  Correct\n",
            " True XOR False =  True  |  prediction =  True  |  Correct\n",
            " True XOR  True = False  |  prediction = False  |  Correct\n",
            " True XOR  True = False  |  prediction = False  |  Correct\n",
            " True XOR  True = False  |  prediction = False  |  Correct\n",
            " True XOR False =  True  |  prediction =  True  |  Correct\n",
            "False XOR  True =  True  |  prediction =  True  |  Correct\n",
            " True XOR False =  True  |  prediction =  True  |  Correct\n",
            " True XOR False =  True  |  prediction =  True  |  Correct\n",
            " True XOR False =  True  |  prediction =  True  |  Correct\n",
            "False XOR  True =  True  |  prediction =  True  |  Correct\n",
            " True XOR False =  True  |  prediction =  True  |  Correct\n",
            "False XOR False = False  |  prediction = False  |  Correct\n",
            " True XOR False =  True  |  prediction =  True  |  Correct\n",
            " True XOR  True = False  |  prediction = False  |  Correct\n",
            "False XOR False = False  |  prediction = False  |  Correct\n",
            " True XOR False =  True  |  prediction =  True  |  Correct\n",
            "False XOR  True =  True  |  prediction =  True  |  Correct\n",
            " True XOR False =  True  |  prediction =  True  |  Correct\n",
            "False XOR False = False  |  prediction = False  |  Correct\n",
            " True XOR  True = False  |  prediction = False  |  Correct\n",
            " True XOR False =  True  |  prediction =  True  |  Correct\n",
            " True XOR  True = False  |  prediction = False  |  Correct\n",
            "False XOR False = False  |  prediction = False  |  Correct\n",
            " True XOR False =  True  |  prediction =  True  |  Correct\n",
            " True XOR False =  True  |  prediction =  True  |  Correct\n",
            " True XOR  True = False  |  prediction = False  |  Correct\n",
            "False XOR False = False  |  prediction = False  |  Correct\n",
            "False XOR  True =  True  |  prediction =  True  |  Correct\n",
            " True XOR False =  True  |  prediction =  True  |  Correct\n",
            " True XOR False =  True  |  prediction =  True  |  Correct\n",
            " True XOR  True = False  |  prediction = False  |  Correct\n",
            "False XOR  True =  True  |  prediction =  True  |  Correct\n",
            " True XOR False =  True  |  prediction =  True  |  Correct\n",
            "False XOR False = False  |  prediction = False  |  Correct\n",
            " True XOR  True = False  |  prediction = False  |  Correct\n",
            "False XOR False = False  |  prediction = False  |  Correct\n",
            " True XOR  True = False  |  prediction = False  |  Correct\n",
            " True XOR  True = False  |  prediction = False  |  Correct\n",
            "False XOR  True =  True  |  prediction =  True  |  Correct\n",
            " True XOR  True = False  |  prediction = False  |  Correct\n",
            " True XOR  True = False  |  prediction = False  |  Correct\n",
            "False XOR  True =  True  |  prediction =  True  |  Correct\n",
            "False XOR  True =  True  |  prediction =  True  |  Correct\n",
            " True XOR False =  True  |  prediction =  True  |  Correct\n",
            "False XOR False = False  |  prediction = False  |  Correct\n",
            "False XOR  True =  True  |  prediction =  True  |  Correct\n",
            " True XOR  True = False  |  prediction = False  |  Correct\n",
            "False XOR  True =  True  |  prediction =  True  |  Correct\n",
            " True XOR False =  True  |  prediction =  True  |  Correct\n",
            "False XOR False = False  |  prediction = False  |  Correct\n",
            "False XOR  True =  True  |  prediction =  True  |  Correct\n",
            " True XOR  True = False  |  prediction = False  |  Correct\n",
            " True XOR False =  True  |  prediction =  True  |  Correct\n",
            " True XOR  True = False  |  prediction = False  |  Correct\n",
            " True XOR False =  True  |  prediction =  True  |  Correct\n",
            " True XOR False =  True  |  prediction =  True  |  Correct\n",
            "False XOR  True =  True  |  prediction =  True  |  Correct\n",
            "False XOR  True =  True  |  prediction =  True  |  Correct\n",
            "False XOR False = False  |  prediction = False  |  Correct\n",
            "False XOR False = False  |  prediction = False  |  Correct\n",
            " True XOR  True = False  |  prediction = False  |  Correct\n",
            " True XOR  True = False  |  prediction = False  |  Correct\n",
            " True XOR False =  True  |  prediction =  True  |  Correct\n",
            "False XOR  True =  True  |  prediction =  True  |  Correct\n",
            " True XOR  True = False  |  prediction = False  |  Correct\n",
            " True XOR  True = False  |  prediction = False  |  Correct\n",
            "\n",
            "Accuracy = 100.0\n"
          ]
        }
      ]
    },
    {
      "cell_type": "markdown",
      "metadata": {
        "id": "t810tY0K24d8"
      },
      "source": [
        "-------"
      ]
    },
    {
      "cell_type": "markdown",
      "metadata": {
        "id": "D99ibRQL24d9"
      },
      "source": [
        "## Exercises"
      ]
    },
    {
      "cell_type": "markdown",
      "metadata": {
        "id": "zvIgKXeW24d9"
      },
      "source": [
        "### Exercise 1: Redesigning the Neural Architecture"
      ]
    },
    {
      "cell_type": "markdown",
      "metadata": {
        "id": "inBeYa3324d9"
      },
      "source": [
        "Let's tweak Model 1 to boost its accuracy and convergence speed. Add linear layers and/or activation functions as much as you like and observe the training loss and accuracy achieved."
      ]
    },
    {
      "cell_type": "code",
      "metadata": {
        "id": "Q3GkZO-424d-",
        "colab": {
          "base_uri": "https://localhost:8080/"
        },
        "outputId": "9471926c-af08-43a4-f7da-2dea64db0640"
      },
      "source": [
        "# Add some more layers and/or activation functions to improve the speed of convergence\n",
        "xor_model_ex1 = N.Sequential(\n",
        "    N.Linear(dim_input, dim_hidden),\n",
        "    N.Linear(dim_hidden, dim_output)\n",
        ")\n",
        "\n",
        "print('Model Ex1:\\n{}'.format(xor_model_ex1))"
      ],
      "execution_count": null,
      "outputs": [
        {
          "output_type": "stream",
          "text": [
            "Model Ex1:\n",
            "Sequential(\n",
            "  (0): Linear(in_features=2, out_features=8, bias=True)\n",
            "  (1): Linear(in_features=8, out_features=8, bias=True)\n",
            "  (2): Linear(in_features=8, out_features=1, bias=True)\n",
            ")\n"
          ],
          "name": "stdout"
        }
      ]
    },
    {
      "cell_type": "markdown",
      "metadata": {
        "id": "YjfjRJpe24eB"
      },
      "source": [
        "Now observe the training loss. Is the convergence getting faster?"
      ]
    },
    {
      "cell_type": "code",
      "metadata": {
        "id": "eNto9nLR24eB",
        "colab": {
          "base_uri": "https://localhost:8080/",
          "height": 349,
          "referenced_widgets": [
            "4533b8a6115149eb87fe2bd6881d6954",
            "a7a499c3f62b4bbfaad875d680b2199c",
            "ffc1b3e7bba24256ab115904caf59f50",
            "b508543ce92e4c4a98d255c33dc9736a",
            "87c89cdcb32a4a2c900f60a55c1e237c",
            "f62f13dd4af34c8587d4ab8b60894b04",
            "aa5a8d7885bc49d0a00b60c7f95e850e",
            "c660bdd305ab45fdbfddb23de6869613"
          ]
        },
        "outputId": "ba035816-be66-465e-e024-df1f1ec89009"
      },
      "source": [
        "train_model(xor_model_ex1, training_set)"
      ],
      "execution_count": null,
      "outputs": [
        {
          "output_type": "display_data",
          "data": {
            "application/vnd.jupyter.widget-view+json": {
              "model_id": "4533b8a6115149eb87fe2bd6881d6954",
              "version_minor": 0,
              "version_major": 2
            },
            "text/plain": [
              "HBox(children=(FloatProgress(value=0.0, max=40.0), HTML(value='')))"
            ]
          },
          "metadata": {
            "tags": []
          }
        },
        {
          "output_type": "stream",
          "text": [
            "\n"
          ],
          "name": "stdout"
        },
        {
          "output_type": "display_data",
          "data": {
            "image/png": "[encoded data removed]",
            "text/plain": [
              "<Figure size 432x288 with 1 Axes>"
            ]
          },
          "metadata": {
            "tags": [],
            "needs_background": "light"
          }
        }
      ]
    },
    {
      "cell_type": "markdown",
      "metadata": {
        "id": "VF9-WqeL24eD"
      },
      "source": [
        "### Parameterized Training Procedure for Hacking"
      ]
    },
    {
      "cell_type": "markdown",
      "metadata": {
        "id": "1hGrBKtu24eE"
      },
      "source": [
        "I slightly modified the training procedure to allow experiments on different loss functions and parameter optimizers."
      ]
    },
    {
      "cell_type": "code",
      "metadata": {
        "id": "y5PsEgOU24eF"
      },
      "source": [
        "def train_model_for_hacking(xor_model, training_data, loss_fn, optimizer):\n",
        "    no_samples = len(training_data)\n",
        "    loss_history = []\n",
        "    \n",
        "    for i in tqdm(range(epochs), leave=False):\n",
        "        total_loss = 0.0\n",
        "        random.shuffle(training_data)\n",
        "        \n",
        "        for (input_features, output_class) in training_data:\n",
        "            ((a, b), q) = (input_features, output_class)\n",
        "            \n",
        "            x = T.zeros(dim_input)     # Input vector\n",
        "            y = T.zeros(dim_output)    # Output vector\n",
        "            if a: x[0] = 1.0\n",
        "            if b: x[1] = 1.0\n",
        "            if q: y[0] = 1.0\n",
        "                \n",
        "            prediction = xor_model(x)  # Perform prediction\n",
        "            \n",
        "            loss = loss_fn(prediction, y)\n",
        "            total_loss += loss.item()\n",
        "            \n",
        "            optimizer.zero_grad()      # Clear gradient cache\n",
        "            loss.backward()            # Perform backpropagation\n",
        "            optimizer.step()           # Update the model parameters\n",
        "        \n",
        "        loss_history.append(total_loss / no_samples)\n",
        "        \n",
        "    # Plot the loss history with Matplotlib\n",
        "    epoch_count = range(1, epochs + 1)\n",
        "    plt.plot(epoch_count, loss_history, 'b--')\n",
        "    plt.legend(['Training Loss'])\n",
        "    plt.xlabel('Epoch')\n",
        "    plt.ylabel('Loss')\n",
        "    plt.show()"
      ],
      "execution_count": null,
      "outputs": []
    },
    {
      "cell_type": "markdown",
      "metadata": {
        "id": "CMuro9kV24eH"
      },
      "source": [
        "### Exercise 2: Varying the Optimizers"
      ]
    },
    {
      "cell_type": "markdown",
      "metadata": {
        "id": "MCSKwWSK24eH"
      },
      "source": [
        "Now let's vary the parameter optimizers. Observe the training loss obtained from each optimizer. Which one converges faster?"
      ]
    },
    {
      "cell_type": "code",
      "metadata": {
        "id": "pxXB4xi324eI",
        "colab": {
          "base_uri": "https://localhost:8080/",
          "height": 860,
          "referenced_widgets": [
            "9398e94a50c94f54b81d3ff84c0404e9",
            "06b1d436bb8e4b548a304ece1529a80b",
            "17ae673269fd487a8270024941e9ea79",
            "9dd6338da12042a6a1e9f765e571c7e3",
            "28750053a49743999bcf38b21d437d67",
            "1564afe0b1b3458594a6ad6584cb0669",
            "7efca32c44ba47689c3cd20d4cd49053",
            "e17900642ab548439420037268e85688",
            "79c9aadd4dd2465a9c8d69de68db0846",
            "bab625602bd74a43a5dea149ac40ae66",
            "c67ffb009ed2414491d966c70fb7b47c",
            "54e80de71b334fc58df177869f622d4a",
            "35eda56bb8824755b1d4702bb496e05e",
            "906b8e63315345dd915b0ebc627bdb70",
            "060c52a099d9403dad78b34c5fad0bac",
            "faa5ea5bf92941c08f5ab6c1e9eac7a7",
            "9f5fe709de3248abbab9f60be10a57f7",
            "defaef36cbda49b28f5f43a5944834bf",
            "45da1db0725241bba0f893f3a327c01d",
            "7a04e6a34df7480c9617e5d9f660dee8",
            "0084639698204a6687d96e68461e426f",
            "d812815348624c16b06eac97bacf0f19",
            "383241e506b44ae585284d94cbe4024f",
            "41a802d567e044bcbf9f7a5e5029183d",
            "bcfef3cce81749558bd109d243f09958",
            "0c41b3b648184b7c94efa87d6f3edae1",
            "4f352b37ef2f49c7b6c6e8dfbce7f9b7",
            "919711db7dc9496b9744a44a8a70aadd",
            "c6412351f4034bdb8785d6f0dc340733",
            "ff2617847f8949db95c66e6306026b60",
            "92a1acc09461479992372ba22fc12e07",
            "e4b1a19e25fa4cd295f1f73d69f1b7fd",
            "bd1b6ab3419c4c1fa1447160f26ea0f2"
          ]
        },
        "outputId": "23829323-d2ae-41e8-e83f-70b5e599850e"
      },
      "source": [
        "learning_rate_ex2 = 0.01\n",
        "\n",
        "print('Stochastic Gradient Descent')\n",
        "xor_model_sgd = XorModel(dim_input, dim_hidden, dim_output)\n",
        "sgd = O.SGD(xor_model_sgd.parameters(), lr=learning_rate_ex2)\n",
        "train_model_for_hacking(xor_model_sgd, training_set, N.MSELoss(), sgd)\n",
        "\n",
        "print('Adamax')\n",
        "xor_model_adamax = XorModel(dim_input, dim_hidden, dim_output)\n",
        "adamax = O.Adamax(xor_model_adamax.parameters(), lr=learning_rate_ex2)\n",
        "train_model_for_hacking(xor_model_adamax, training_set, N.MSELoss(), adamax)\n",
        "\n",
        "print('ADAM')\n",
        "xor_model_adam = XorModel(dim_input, dim_hidden, dim_output)\n",
        "adam = O.Adam(xor_model_adam.parameters(), lr=learning_rate_ex2)\n",
        "train_model_for_hacking(xor_model_adam, training_set, N.MSELoss(), adam)"
      ],
      "execution_count": null,
      "outputs": [
        {
          "output_type": "stream",
          "name": "stdout",
          "text": [
            "Stochastic Gradient Descent\n"
          ]
        },
        {
          "output_type": "display_data",
          "data": {
            "application/vnd.jupyter.widget-view+json": {
              "model_id": "9398e94a50c94f54b81d3ff84c0404e9",
              "version_minor": 0,
              "version_major": 2
            },
            "text/plain": [
              "  0%|          | 0/40 [00:00<?, ?it/s]"
            ]
          },
          "metadata": {}
        },
        {
          "output_type": "display_data",
          "data": {
            "image/png": "[encoded data removed]",
            "text/plain": [
              "<Figure size 432x288 with 1 Axes>"
            ]
          },
          "metadata": {
            "needs_background": "light"
          }
        },
        {
          "output_type": "stream",
          "name": "stdout",
          "text": [
            "Adamax\n"
          ]
        },
        {
          "output_type": "display_data",
          "data": {
            "application/vnd.jupyter.widget-view+json": {
              "model_id": "54e80de71b334fc58df177869f622d4a",
              "version_minor": 0,
              "version_major": 2
            },
            "text/plain": [
              "  0%|          | 0/40 [00:00<?, ?it/s]"
            ]
          },
          "metadata": {}
        },
        {
          "output_type": "display_data",
          "data": {
            "image/png": "[encoded data removed]",
            "text/plain": [
              "<Figure size 432x288 with 1 Axes>"
            ]
          },
          "metadata": {
            "needs_background": "light"
          }
        },
        {
          "output_type": "stream",
          "name": "stdout",
          "text": [
            "ADAM\n"
          ]
        },
        {
          "output_type": "display_data",
          "data": {
            "application/vnd.jupyter.widget-view+json": {
              "model_id": "383241e506b44ae585284d94cbe4024f",
              "version_minor": 0,
              "version_major": 2
            },
            "text/plain": [
              "  0%|          | 0/40 [00:00<?, ?it/s]"
            ]
          },
          "metadata": {}
        },
        {
          "output_type": "display_data",
          "data": {
            "image/png": "[encoded data removed]",
            "text/plain": [
              "<Figure size 432x288 with 1 Axes>"
            ]
          },
          "metadata": {
            "needs_background": "light"
          }
        }
      ]
    },
    {
      "cell_type": "markdown",
      "metadata": {
        "id": "NS2Kv0yJ24eM"
      },
      "source": [
        "### Exercise 3: Varying the Learning Rates"
      ]
    },
    {
      "cell_type": "markdown",
      "metadata": {
        "id": "OE3I7Xuf24eM"
      },
      "source": [
        "Now let's vary the learning rates. Observe the training loss obtained from each learning rate.\n",
        "\n",
        "1. For some learning rates, the training loss fluctuates substantially. Explain why.\n",
        "2. For some learning rates, the training loss converges too slowly. Explain why.\n",
        "3. Which learning rate is the best in terms of the training loss?"
      ]
    },
    {
      "cell_type": "code",
      "metadata": {
        "id": "bA0_MPUi24eN",
        "colab": {
          "base_uri": "https://localhost:8080/",
          "height": 1000,
          "referenced_widgets": [
            "a22fab25d2e94571bb34423fe47f8d09",
            "b32870702a654983879a41b08b121d9e",
            "679c7dec6b874d44834ef48a55f33554",
            "802366b94db74d6c9fd56d26735dad92",
            "a4dd3f96c3e24fcabe97312c4fe9cdbf",
            "468e5ea333c24e0dadf2c096b5f6f27f",
            "cdb4a555b3704e07b7efcaa554e878da",
            "20e5e71d5661466c88360394e57d9822",
            "c693ff1bfea242c486b6bd60b6a5adc0",
            "93aa5f41f7134a1e834f5b9064fbc48a",
            "4ad252283ff44d04aa2503c15d791ee7",
            "7171db30baee41ffa6da75bdfe9a2702",
            "7adefea17045415baec3d6f61c46b5b1",
            "5cc686289801406e9994dd89d59fe4b8",
            "581a9d89665a46b7b5552496ee36d5ca",
            "07fdce45e52a4c5cb070c6d603bf9377",
            "2474ea816f544fd19f21756c66f7b7b8",
            "015f36b2d9d94495a585a15a6671cc16",
            "71104dfe2cb64ceaa30a4975fde6f3ff",
            "7481b39288924e3aacf42a0dd7d351b0",
            "29f2c966bc8249f3b00ed4e3a95b54c9",
            "11370627d7f2496ab1fbd0597c92fbb0",
            "73bea7ddd9824c0782da6054b4fff655",
            "79cf9782fce34c36a2543ab6fa6d00f5",
            "d0b04343807845e5a6391be1d47f760b",
            "7cd22b61492e4961bd7a1b5989059b47",
            "faf3fb23158540c5aa98e4b5f05a13c6",
            "050ccaf9fb44458cb536febfd509a202",
            "53f921a1f99f46d0b684022fe12a18c6",
            "af87ebbfcb2444279b6f9f19691da391",
            "92945feb3b1245cda026624cdb1ffc6a",
            "8bcf151b763442aeaa797126e6efbae1",
            "96f9743c9f1a4a79b6f7b842b4cc6cb4",
            "2bbabd0d832d4c29a630537fe40e1044",
            "35a9fcee24a04887bfed54a62fd4d840",
            "8e2259315b1545c58ea680784b4d1c0c",
            "93c7752bf2cd42fbb405d6c1d0f74d4b",
            "169ebf19263648dc86b9a6fc8e363a91",
            "63dbaeccc20e42ad8d31149f484d31b3",
            "acc1eb432db1413f86a34843c14bf38f",
            "bbb084126e95488b90b87b386aabae0a",
            "e64433e9658441d7a26347f5b9265bba",
            "4542282fb20e4c66ad792733d03ec73f",
            "fd29b7a071794b6485322c93c89b98d9",
            "c2eeeabee6b848118e7119b7319161b0",
            "c2d7b47bf0c34a78b0388cd05f65a68c",
            "96b85048d73541cb87519f79e7bc0d15",
            "f5bd1f9d922b429090d1a7b160a78da7",
            "28e667e418064b17a77a4136f25809cd",
            "7a0ea94e66f0462aaa7204a1deb0ec79",
            "b9cbdc272b0a42b68ebee94842d11fd0",
            "391b71c9d32249c2bfb90cba85ee2e00",
            "2941f53322754fd0bf80ea02e4474d44",
            "a4af36189b99444693b310cdb4bff70c",
            "66dd080b73364013a3438dad51ec2d22"
          ]
        },
        "outputId": "c9839e4a-e9e6-4e78-ad9d-5c129e4d828f"
      },
      "source": [
        "for learning_rate_ex3 in [1.0, 0.1, 0.01, 0.001, 0.0001]:\n",
        "    print('Learning rate = {}'.format(learning_rate_ex3))\n",
        "    xor_model = XorModel(dim_input, dim_hidden, dim_output)\n",
        "    optimizer = O.Adam(xor_model.parameters(), lr=learning_rate_ex3)\n",
        "    train_model_for_hacking(xor_model, training_set, N.MSELoss(), optimizer)"
      ],
      "execution_count": null,
      "outputs": [
        {
          "output_type": "stream",
          "name": "stdout",
          "text": [
            "Learning rate = 1.0\n"
          ]
        },
        {
          "output_type": "display_data",
          "data": {
            "application/vnd.jupyter.widget-view+json": {
              "model_id": "a22fab25d2e94571bb34423fe47f8d09",
              "version_minor": 0,
              "version_major": 2
            },
            "text/plain": [
              "  0%|          | 0/40 [00:00<?, ?it/s]"
            ]
          },
          "metadata": {}
        },
        {
          "output_type": "display_data",
          "data": {
            "image/png": "[encoded data removed]",
            "text/plain": [
              "<Figure size 432x288 with 1 Axes>"
            ]
          },
          "metadata": {
            "needs_background": "light"
          }
        },
        {
          "output_type": "stream",
          "name": "stdout",
          "text": [
            "Learning rate = 0.1\n"
          ]
        },
        {
          "output_type": "display_data",
          "data": {
            "application/vnd.jupyter.widget-view+json": {
              "model_id": "7171db30baee41ffa6da75bdfe9a2702",
              "version_minor": 0,
              "version_major": 2
            },
            "text/plain": [
              "  0%|          | 0/40 [00:00<?, ?it/s]"
            ]
          },
          "metadata": {}
        },
        {
          "output_type": "display_data",
          "data": {
            "image/png": "[encoded data removed]",
            "text/plain": [
              "<Figure size 432x288 with 1 Axes>"
            ]
          },
          "metadata": {
            "needs_background": "light"
          }
        },
        {
          "output_type": "stream",
          "name": "stdout",
          "text": [
            "Learning rate = 0.01\n"
          ]
        },
        {
          "output_type": "display_data",
          "data": {
            "application/vnd.jupyter.widget-view+json": {
              "model_id": "73bea7ddd9824c0782da6054b4fff655",
              "version_minor": 0,
              "version_major": 2
            },
            "text/plain": [
              "  0%|          | 0/40 [00:00<?, ?it/s]"
            ]
          },
          "metadata": {}
        },
        {
          "output_type": "display_data",
          "data": {
            "image/png": "[encoded data removed]",
            "text/plain": [
              "<Figure size 432x288 with 1 Axes>"
            ]
          },
          "metadata": {
            "needs_background": "light"
          }
        },
        {
          "output_type": "stream",
          "name": "stdout",
          "text": [
            "Learning rate = 0.001\n"
          ]
        },
        {
          "output_type": "display_data",
          "data": {
            "application/vnd.jupyter.widget-view+json": {
              "model_id": "2bbabd0d832d4c29a630537fe40e1044",
              "version_minor": 0,
              "version_major": 2
            },
            "text/plain": [
              "  0%|          | 0/40 [00:00<?, ?it/s]"
            ]
          },
          "metadata": {}
        },
        {
          "output_type": "display_data",
          "data": {
            "image/png": "[encoded data removed]",
            "text/plain": [
              "<Figure size 432x288 with 1 Axes>"
            ]
          },
          "metadata": {
            "needs_background": "light"
          }
        },
        {
          "output_type": "stream",
          "name": "stdout",
          "text": [
            "Learning rate = 0.0001\n"
          ]
        },
        {
          "output_type": "display_data",
          "data": {
            "application/vnd.jupyter.widget-view+json": {
              "model_id": "c2eeeabee6b848118e7119b7319161b0",
              "version_minor": 0,
              "version_major": 2
            },
            "text/plain": [
              "  0%|          | 0/40 [00:00<?, ?it/s]"
            ]
          },
          "metadata": {}
        },
        {
          "output_type": "display_data",
          "data": {
            "image/png": "[encoded data removed]",
            "text/plain": [
              "<Figure size 432x288 with 1 Axes>"
            ]
          },
          "metadata": {
            "needs_background": "light"
          }
        }
      ]
    },
    {
      "cell_type": "code",
      "metadata": {
        "id": "vqYSwhWqZyOI"
      },
      "source": [
        ""
      ],
      "execution_count": null,
      "outputs": []
    }
  ]
}